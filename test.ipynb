{
 "cells": [
  {
   "cell_type": "code",
   "execution_count": 1,
   "metadata": {},
   "outputs": [],
   "source": [
    "import darkwing as dw\n",
    "\n",
    "def foo(rel, res=6):\n",
    "    return (rel\n",
    "    | 'select pickup_latitude as lat, pickup_longitude as lng, tip_amount'       \n",
    "    | f'select h3_latlng_to_cell(lat, lng, {res}) as hexid, tip_amount as tip'\n",
    "    | 'select hexid, avg(tip) as tip group by 1'\n",
    "    | 'select h3_h3_to_string(hexid) as hexid, tip'\n",
    "    | 'where tip > 0'\n",
    "    )"
   ]
  },
  {
   "cell_type": "code",
   "execution_count": 2,
   "metadata": {},
   "outputs": [],
   "source": [
    "# out = dw.query('select * from \"https://d37ci6vzurychx.cloudfront.net/trip-data/yellow_tripdata_2010-01.parquet\"')"
   ]
  },
  {
   "cell_type": "code",
   "execution_count": 3,
   "metadata": {},
   "outputs": [],
   "source": [
    "rel1 = dw.load('data/yellow_tripdata_2010-01.parquet') # lazy load!\n",
    "rel2 = dw.load('data/yellow_tripdata_2010-02.parquet') # lazy load!"
   ]
  },
  {
   "cell_type": "code",
   "execution_count": 4,
   "metadata": {},
   "outputs": [
    {
     "data": {
      "text/plain": [
       "{'vendor_id': 'VTS',\n",
       " 'pickup_datetime': '2010-01-26 07:41:00',\n",
       " 'dropoff_datetime': '2010-01-26 07:45:00',\n",
       " 'passenger_count': np.int64(1),\n",
       " 'trip_distance': np.float64(0.75),\n",
       " 'pickup_longitude': np.float64(-73.956778),\n",
       " 'pickup_latitude': np.float64(40.76775),\n",
       " 'rate_code': '1',\n",
       " 'store_and_fwd_flag': None,\n",
       " 'dropoff_longitude': np.float64(-73.965957),\n",
       " 'dropoff_latitude': np.float64(40.765232),\n",
       " 'payment_type': 'CAS',\n",
       " 'fare_amount': np.float64(4.5),\n",
       " 'surcharge': np.float64(0.0),\n",
       " 'mta_tax': np.float64(0.5),\n",
       " 'tip_amount': np.float64(0.0),\n",
       " 'tolls_amount': np.float64(0.0),\n",
       " 'total_amount': np.float64(5.0)}"
      ]
     },
     "execution_count": null,
     "metadata": {},
     "output_type": "execute_result"
    }
   ],
   "source": [
    "rel1 | 'select arbitrary(columns(*))' | dict"
   ]
  },
  {
   "cell_type": "code",
   "execution_count": 5,
   "metadata": {},
   "outputs": [
    {
     "data": {
      "text/plain": [
       "14863778"
      ]
     },
     "execution_count": null,
     "metadata": {},
     "output_type": "execute_result"
    }
   ],
   "source": [
    "rel1 >> 'select count()' >> int"
   ]
  },
  {
   "cell_type": "code",
   "execution_count": 6,
   "metadata": {},
   "outputs": [],
   "source": [
    "# TODO: why isn't this lazy?\n",
    "# rel3 = 'https://d37ci6vzurychx.cloudfront.net/trip-data/yellow_tripdata_2010-01.parquet' >> dw.load"
   ]
  },
  {
   "cell_type": "code",
   "execution_count": 7,
   "metadata": {},
   "outputs": [],
   "source": [
    "rel4 = 'data/yellow_tripdata_2010-01.parquet' >> dw.load"
   ]
  },
  {
   "cell_type": "code",
   "execution_count": 8,
   "metadata": {},
   "outputs": [
    {
     "data": {
      "text/plain": [
       "┌─────────────────┬────────────────────┐\n",
       "│      hexid      │        tip         │\n",
       "│     varchar     │       double       │\n",
       "├─────────────────┼────────────────────┤\n",
       "│ 862a100d7ffffff │ 0.6042399096361921 │\n",
       "│ 862a1008fffffff │ 0.5471456491468882 │\n",
       "│ 86754e64fffffff │ 0.6730361779149294 │\n",
       "│ 862a10727ffffff │ 0.6621288459090504 │\n",
       "│ 862a100e7ffffff │ 1.9770422191887693 │\n",
       "│ 862a10117ffffff │  6.559024390243902 │\n",
       "│ 862a10387ffffff │ 1.5341203703703705 │\n",
       "│ 862a10a97ffffff │  2.658620689655172 │\n",
       "│ 862a1031fffffff │ 1.2615384615384615 │\n",
       "│ 862a30297ffffff │ 1.5257142857142856 │\n",
       "│        ·        │                 ·  │\n",
       "│        ·        │                 ·  │\n",
       "│        ·        │                 ·  │\n",
       "│ 86eac3757ffffff │               4.92 │\n",
       "│ 862a14977ffffff │                2.0 │\n",
       "│ 862b89367ffffff │                0.5 │\n",
       "│ 862b88a1fffffff │                1.5 │\n",
       "│ 862ba959fffffff │               1.75 │\n",
       "│ 862a31887ffffff │                1.0 │\n",
       "│ 862b899b7ffffff │                2.6 │\n",
       "│ 862aaccdfffffff │                1.7 │\n",
       "│ 862a13b57ffffff │               4.38 │\n",
       "│ 862a1152fffffff │                2.0 │\n",
       "├─────────────────┴────────────────────┤\n",
       "│ 850 rows (20 shown)        2 columns │\n",
       "└──────────────────────────────────────┘"
      ]
     },
     "execution_count": null,
     "metadata": {},
     "output_type": "execute_result"
    }
   ],
   "source": [
    "rel1 | foo"
   ]
  },
  {
   "cell_type": "code",
   "execution_count": 9,
   "metadata": {},
   "outputs": [
    {
     "data": {
      "text/plain": [
       "Database:\n",
       "    rel1: 850 x ['hexid', 'tip']\n",
       "    rel2: 731 x ['hexid', 'tip']"
      ]
     },
     "execution_count": null,
     "metadata": {},
     "output_type": "execute_result"
    }
   ],
   "source": [
    "out = dw.Database(\n",
    "    rel1 = rel1 >> foo,\n",
    "    rel2 = rel2 >> foo,\n",
    ")\n",
    "out"
   ]
  },
  {
   "cell_type": "code",
   "execution_count": 11,
   "metadata": {},
   "outputs": [
    {
     "data": {
      "text/plain": [
       "Database:\n",
       "    bam: 371 x ['hexid', 'tip1', 'tip2', 'diff']"
      ]
     },
     "execution_count": null,
     "metadata": {},
     "output_type": "execute_result"
    }
   ],
   "source": [
    "out = dw.Database(\n",
    "    rel1 = rel1 >> foo,\n",
    "    rel2 = rel2 >> foo,\n",
    ") | \"\"\"\n",
    "select\n",
    "    hexid,\n",
    "    rel1.tip\n",
    "        as tip1,\n",
    "    rel2.tip\n",
    "        as tip2,\n",
    "from rel1\n",
    "full outer join rel2\n",
    "using (hexid)\n",
    "\"\"\"\n",
    "\n",
    "(out\n",
    "| 'where tip1 is not null and tip2 is not null'\n",
    "| 'select *, tip1-tip2 as diff order by diff'\n",
    ") >> 'as bam' # precedence rules!"
   ]
  },
  {
   "cell_type": "code",
   "execution_count": 10,
   "metadata": {},
   "outputs": [],
   "source": [
    "rel1 = dw.load('data/yellow_tripdata_2010-01.parquet')"
   ]
  },
  {
   "cell_type": "code",
   "execution_count": 8,
   "metadata": {},
   "outputs": [
    {
     "data": {
      "text/plain": [
       "┌───────────┬─────────────────────┬─────────────────────┬───┬────────────┬──────────────┬──────────────┐\n",
       "│ vendor_id │   pickup_datetime   │  dropoff_datetime   │ … │ tip_amount │ tolls_amount │ total_amount │\n",
       "│  varchar  │       varchar       │       varchar       │   │   double   │    double    │    double    │\n",
       "├───────────┼─────────────────────┼─────────────────────┼───┼────────────┼──────────────┼──────────────┤\n",
       "│ VTS       │ 2010-01-26 07:41:00 │ 2010-01-26 07:45:00 │ … │        0.0 │          0.0 │          5.0 │\n",
       "│ DDS       │ 2010-01-30 23:31:00 │ 2010-01-30 23:46:12 │ … │        0.0 │          0.0 │         16.3 │\n",
       "│ DDS       │ 2010-01-18 20:22:20 │ 2010-01-18 20:38:12 │ … │        0.0 │          0.0 │         12.7 │\n",
       "│ VTS       │ 2010-01-09 01:18:00 │ 2010-01-09 01:35:00 │ … │        0.0 │          0.0 │         14.3 │\n",
       "│ CMT       │ 2010-01-18 19:10:14 │ 2010-01-18 19:17:07 │ … │       0.87 │          0.0 │         6.67 │\n",
       "│ DDS       │ 2010-01-23 18:40:25 │ 2010-01-23 18:54:51 │ … │        1.0 │          0.0 │         12.0 │\n",
       "│ VTS       │ 2010-01-17 09:18:00 │ 2010-01-17 09:25:00 │ … │        0.0 │          0.0 │          6.6 │\n",
       "│ VTS       │ 2010-01-09 13:49:00 │ 2010-01-09 13:56:00 │ … │        0.0 │          0.0 │          7.4 │\n",
       "│ VTS       │ 2010-01-09 00:25:00 │ 2010-01-09 00:39:00 │ … │        0.0 │          0.0 │         12.3 │\n",
       "│ VTS       │ 2010-01-27 18:15:00 │ 2010-01-27 18:29:00 │ … │        2.0 │          0.0 │         12.0 │\n",
       "│  ·        │          ·          │          ·          │ · │         ·  │           ·  │           ·  │\n",
       "│  ·        │          ·          │          ·          │ · │         ·  │           ·  │           ·  │\n",
       "│  ·        │          ·          │          ·          │ · │         ·  │           ·  │           ·  │\n",
       "│ CMT       │ 2010-01-29 10:10:30 │ 2010-01-29 10:16:54 │ … │       1.32 │          0.0 │         7.92 │\n",
       "│ CMT       │ 2010-01-04 20:25:15 │ 2010-01-04 20:46:17 │ … │       4.06 │          0.0 │        24.36 │\n",
       "│ VTS       │ 2010-01-07 17:57:00 │ 2010-01-07 18:07:00 │ … │        0.0 │          0.0 │          9.6 │\n",
       "│ VTS       │ 2010-01-08 00:08:00 │ 2010-01-08 00:22:00 │ … │        1.5 │          0.0 │         12.6 │\n",
       "│ CMT       │ 2010-01-31 20:36:38 │ 2010-01-31 20:58:12 │ … │        3.0 │          0.0 │         21.7 │\n",
       "│ CMT       │ 2010-01-16 11:03:42 │ 2010-01-16 11:14:46 │ … │        0.0 │          0.0 │          9.0 │\n",
       "│ CMT       │ 2010-01-05 08:56:30 │ 2010-01-05 09:04:29 │ … │        0.0 │          0.0 │          6.6 │\n",
       "│ CMT       │ 2010-01-08 08:40:48 │ 2010-01-08 09:04:44 │ … │        2.0 │          0.0 │         21.8 │\n",
       "│ CMT       │ 2010-01-08 07:06:21 │ 2010-01-08 07:13:34 │ … │        0.0 │          0.0 │          7.0 │\n",
       "│ VTS       │ 2010-01-09 03:09:00 │ 2010-01-09 03:18:00 │ … │        0.0 │          0.0 │         10.7 │\n",
       "├───────────┴─────────────────────┴─────────────────────┴───┴────────────┴──────────────┴──────────────┤\n",
       "│ ? rows (>9999 rows, 20 shown)                                                   18 columns (6 shown) │\n",
       "└──────────────────────────────────────────────────────────────────────────────────────────────────────┘"
      ]
     },
     "execution_count": null,
     "metadata": {},
     "output_type": "execute_result"
    }
   ],
   "source": [
    "rel1._rel"
   ]
  },
  {
   "cell_type": "code",
   "execution_count": 7,
   "metadata": {},
   "outputs": [],
   "source": [
    "bah = rel1._rel"
   ]
  },
  {
   "cell_type": "code",
   "execution_count": 19,
   "metadata": {},
   "outputs": [
    {
     "data": {
      "text/plain": [
       "['vendor_id',\n",
       " 'pickup_datetime',\n",
       " 'dropoff_datetime',\n",
       " 'passenger_count',\n",
       " 'trip_distance',\n",
       " 'pickup_longitude',\n",
       " 'pickup_latitude',\n",
       " 'rate_code',\n",
       " 'store_and_fwd_flag',\n",
       " 'dropoff_longitude',\n",
       " 'dropoff_latitude',\n",
       " 'payment_type',\n",
       " 'fare_amount',\n",
       " 'surcharge',\n",
       " 'mta_tax',\n",
       " 'tip_amount',\n",
       " 'tolls_amount',\n",
       " 'total_amount']"
      ]
     },
     "execution_count": null,
     "metadata": {},
     "output_type": "execute_result"
    }
   ],
   "source": [
    "list(dw.query('select column_name from (describe from x)', x=bah).df()['column_name'])"
   ]
  },
  {
   "cell_type": "code",
   "execution_count": 35,
   "metadata": {},
   "outputs": [
    {
     "data": {
      "text/html": [
       "<div>\n",
       "<style scoped>\n",
       "    .dataframe tbody tr th:only-of-type {\n",
       "        vertical-align: middle;\n",
       "    }\n",
       "\n",
       "    .dataframe tbody tr th {\n",
       "        vertical-align: top;\n",
       "    }\n",
       "\n",
       "    .dataframe thead th {\n",
       "        text-align: right;\n",
       "    }\n",
       "</style>\n",
       "<table border=\"1\" class=\"dataframe\">\n",
       "  <thead>\n",
       "    <tr style=\"text-align: right;\">\n",
       "      <th></th>\n",
       "      <th>column_name</th>\n",
       "    </tr>\n",
       "  </thead>\n",
       "  <tbody>\n",
       "    <tr>\n",
       "      <th>0</th>\n",
       "      <td>vendor_id</td>\n",
       "    </tr>\n",
       "    <tr>\n",
       "      <th>1</th>\n",
       "      <td>pickup_datetime</td>\n",
       "    </tr>\n",
       "    <tr>\n",
       "      <th>2</th>\n",
       "      <td>dropoff_datetime</td>\n",
       "    </tr>\n",
       "    <tr>\n",
       "      <th>3</th>\n",
       "      <td>passenger_count</td>\n",
       "    </tr>\n",
       "    <tr>\n",
       "      <th>4</th>\n",
       "      <td>trip_distance</td>\n",
       "    </tr>\n",
       "    <tr>\n",
       "      <th>5</th>\n",
       "      <td>pickup_longitude</td>\n",
       "    </tr>\n",
       "    <tr>\n",
       "      <th>6</th>\n",
       "      <td>pickup_latitude</td>\n",
       "    </tr>\n",
       "    <tr>\n",
       "      <th>7</th>\n",
       "      <td>rate_code</td>\n",
       "    </tr>\n",
       "    <tr>\n",
       "      <th>8</th>\n",
       "      <td>store_and_fwd_flag</td>\n",
       "    </tr>\n",
       "    <tr>\n",
       "      <th>9</th>\n",
       "      <td>dropoff_longitude</td>\n",
       "    </tr>\n",
       "    <tr>\n",
       "      <th>10</th>\n",
       "      <td>dropoff_latitude</td>\n",
       "    </tr>\n",
       "    <tr>\n",
       "      <th>11</th>\n",
       "      <td>payment_type</td>\n",
       "    </tr>\n",
       "    <tr>\n",
       "      <th>12</th>\n",
       "      <td>fare_amount</td>\n",
       "    </tr>\n",
       "    <tr>\n",
       "      <th>13</th>\n",
       "      <td>surcharge</td>\n",
       "    </tr>\n",
       "    <tr>\n",
       "      <th>14</th>\n",
       "      <td>mta_tax</td>\n",
       "    </tr>\n",
       "    <tr>\n",
       "      <th>15</th>\n",
       "      <td>tip_amount</td>\n",
       "    </tr>\n",
       "    <tr>\n",
       "      <th>16</th>\n",
       "      <td>tolls_amount</td>\n",
       "    </tr>\n",
       "    <tr>\n",
       "      <th>17</th>\n",
       "      <td>total_amount</td>\n",
       "    </tr>\n",
       "  </tbody>\n",
       "</table>\n",
       "</div>"
      ],
      "text/plain": [
       "           column_name\n",
       "0            vendor_id\n",
       "1      pickup_datetime\n",
       "2     dropoff_datetime\n",
       "3      passenger_count\n",
       "4        trip_distance\n",
       "5     pickup_longitude\n",
       "6      pickup_latitude\n",
       "7            rate_code\n",
       "8   store_and_fwd_flag\n",
       "9    dropoff_longitude\n",
       "10    dropoff_latitude\n",
       "11        payment_type\n",
       "12         fare_amount\n",
       "13           surcharge\n",
       "14             mta_tax\n",
       "15          tip_amount\n",
       "16        tolls_amount\n",
       "17        total_amount"
      ]
     },
     "execution_count": null,
     "metadata": {},
     "output_type": "execute_result"
    }
   ],
   "source": [
    "dw.query('select column_name from (describe from x)', x=rel1._rel).df()"
   ]
  },
  {
   "cell_type": "code",
   "execution_count": 2,
   "metadata": {},
   "outputs": [],
   "source": [
    "out = dw.Database(\n",
    "    rel1 = 'data/yellow_tripdata_2010-01.parquet',\n",
    "    # rel1 = 'https://d37ci6vzurychx.cloudfront.net/trip-data/yellow_tripdata_2010-01.parquet',\n",
    "    rel2 = 'data/yellow_tripdata_2010-02.parquet',\n",
    ")"
   ]
  },
  {
   "cell_type": "code",
   "execution_count": 5,
   "metadata": {},
   "outputs": [
    {
     "data": {
      "text/plain": [
       "Database:\n",
       "    rel1: 'data/yellow_tripdata_2010-01.parquet'\n",
       "    rel2: 'data/yellow_tripdata_2010-02.parquet'"
      ]
     },
     "execution_count": null,
     "metadata": {},
     "output_type": "execute_result"
    }
   ],
   "source": [
    "out"
   ]
  },
  {
   "cell_type": "code",
   "execution_count": 16,
   "metadata": {},
   "outputs": [
    {
     "data": {
      "text/plain": [
       "'data/yellow_tripdata_2010-01.parquet'"
      ]
     },
     "execution_count": null,
     "metadata": {},
     "output_type": "execute_result"
    }
   ],
   "source": [
    "out['rel1']"
   ]
  },
  {
   "cell_type": "code",
   "execution_count": 12,
   "metadata": {},
   "outputs": [],
   "source": [
    "out2 = out >> 'pandas'"
   ]
  },
  {
   "cell_type": "code",
   "execution_count": 10,
   "metadata": {},
   "outputs": [
    {
     "data": {
      "text/plain": [
       "Database:\n",
       "    rel1: 14863778 x ['vendor_id', 'pickup_datetime', 'dropoff_datetime', 'passenger_count', 'trip_distance', 'pickup_longitude', 'pickup_latitude', 'rate_code', 'store_and_fwd_flag', 'dropoff_longitude', 'dropoff_latitude', 'payment_type', 'fare_amount', 'surcharge', 'mta_tax', 'tip_amount', 'tolls_amount', 'total_amount']\n",
       "    rel2: 11145409 x ['vendor_id', 'pickup_datetime', 'dropoff_datetime', 'passenger_count', 'trip_distance', 'pickup_longitude', 'pickup_latitude', 'rate_code', 'store_and_fwd_flag', 'dropoff_longitude', 'dropoff_latitude', 'payment_type', 'fare_amount', 'surcharge', 'mta_tax', 'tip_amount', 'tolls_amount', 'total_amount', '__index_level_0__']"
      ]
     },
     "execution_count": null,
     "metadata": {},
     "output_type": "execute_result"
    }
   ],
   "source": [
    "out2"
   ]
  },
  {
   "cell_type": "code",
   "execution_count": 13,
   "metadata": {},
   "outputs": [],
   "source": [
    "a = out2['rel1']"
   ]
  },
  {
   "cell_type": "code",
   "execution_count": 14,
   "metadata": {},
   "outputs": [
    {
     "data": {
      "text/html": [
       "<div>\n",
       "<style scoped>\n",
       "    .dataframe tbody tr th:only-of-type {\n",
       "        vertical-align: middle;\n",
       "    }\n",
       "\n",
       "    .dataframe tbody tr th {\n",
       "        vertical-align: top;\n",
       "    }\n",
       "\n",
       "    .dataframe thead th {\n",
       "        text-align: right;\n",
       "    }\n",
       "</style>\n",
       "<table border=\"1\" class=\"dataframe\">\n",
       "  <thead>\n",
       "    <tr style=\"text-align: right;\">\n",
       "      <th></th>\n",
       "      <th>vendor_id</th>\n",
       "      <th>pickup_datetime</th>\n",
       "      <th>dropoff_datetime</th>\n",
       "      <th>passenger_count</th>\n",
       "      <th>trip_distance</th>\n",
       "      <th>pickup_longitude</th>\n",
       "      <th>pickup_latitude</th>\n",
       "      <th>rate_code</th>\n",
       "      <th>store_and_fwd_flag</th>\n",
       "      <th>dropoff_longitude</th>\n",
       "      <th>dropoff_latitude</th>\n",
       "      <th>payment_type</th>\n",
       "      <th>fare_amount</th>\n",
       "      <th>surcharge</th>\n",
       "      <th>mta_tax</th>\n",
       "      <th>tip_amount</th>\n",
       "      <th>tolls_amount</th>\n",
       "      <th>total_amount</th>\n",
       "    </tr>\n",
       "  </thead>\n",
       "  <tbody>\n",
       "    <tr>\n",
       "      <th>0</th>\n",
       "      <td>VTS</td>\n",
       "      <td>2010-01-26 07:41:00</td>\n",
       "      <td>2010-01-26 07:45:00</td>\n",
       "      <td>1</td>\n",
       "      <td>0.75</td>\n",
       "      <td>-73.956778</td>\n",
       "      <td>40.767750</td>\n",
       "      <td>1</td>\n",
       "      <td>None</td>\n",
       "      <td>-73.965957</td>\n",
       "      <td>40.765232</td>\n",
       "      <td>CAS</td>\n",
       "      <td>4.5</td>\n",
       "      <td>0.0</td>\n",
       "      <td>0.5</td>\n",
       "      <td>0.00</td>\n",
       "      <td>0.0</td>\n",
       "      <td>5.00</td>\n",
       "    </tr>\n",
       "    <tr>\n",
       "      <th>1</th>\n",
       "      <td>DDS</td>\n",
       "      <td>2010-01-30 23:31:00</td>\n",
       "      <td>2010-01-30 23:46:12</td>\n",
       "      <td>1</td>\n",
       "      <td>5.90</td>\n",
       "      <td>-73.996118</td>\n",
       "      <td>40.763932</td>\n",
       "      <td>1</td>\n",
       "      <td>None</td>\n",
       "      <td>-73.981512</td>\n",
       "      <td>40.741193</td>\n",
       "      <td>CAS</td>\n",
       "      <td>15.3</td>\n",
       "      <td>0.5</td>\n",
       "      <td>0.5</td>\n",
       "      <td>0.00</td>\n",
       "      <td>0.0</td>\n",
       "      <td>16.30</td>\n",
       "    </tr>\n",
       "    <tr>\n",
       "      <th>2</th>\n",
       "      <td>DDS</td>\n",
       "      <td>2010-01-18 20:22:20</td>\n",
       "      <td>2010-01-18 20:38:12</td>\n",
       "      <td>1</td>\n",
       "      <td>4.00</td>\n",
       "      <td>-73.979673</td>\n",
       "      <td>40.783790</td>\n",
       "      <td>1</td>\n",
       "      <td>None</td>\n",
       "      <td>-73.917852</td>\n",
       "      <td>40.878560</td>\n",
       "      <td>CAS</td>\n",
       "      <td>11.7</td>\n",
       "      <td>0.5</td>\n",
       "      <td>0.5</td>\n",
       "      <td>0.00</td>\n",
       "      <td>0.0</td>\n",
       "      <td>12.70</td>\n",
       "    </tr>\n",
       "    <tr>\n",
       "      <th>3</th>\n",
       "      <td>VTS</td>\n",
       "      <td>2010-01-09 01:18:00</td>\n",
       "      <td>2010-01-09 01:35:00</td>\n",
       "      <td>2</td>\n",
       "      <td>4.70</td>\n",
       "      <td>-73.977922</td>\n",
       "      <td>40.763997</td>\n",
       "      <td>1</td>\n",
       "      <td>None</td>\n",
       "      <td>-73.923908</td>\n",
       "      <td>40.759725</td>\n",
       "      <td>CAS</td>\n",
       "      <td>13.3</td>\n",
       "      <td>0.5</td>\n",
       "      <td>0.5</td>\n",
       "      <td>0.00</td>\n",
       "      <td>0.0</td>\n",
       "      <td>14.30</td>\n",
       "    </tr>\n",
       "    <tr>\n",
       "      <th>4</th>\n",
       "      <td>CMT</td>\n",
       "      <td>2010-01-18 19:10:14</td>\n",
       "      <td>2010-01-18 19:17:07</td>\n",
       "      <td>1</td>\n",
       "      <td>0.60</td>\n",
       "      <td>-73.990924</td>\n",
       "      <td>40.734682</td>\n",
       "      <td>1</td>\n",
       "      <td>0</td>\n",
       "      <td>-73.995511</td>\n",
       "      <td>40.739088</td>\n",
       "      <td>Cre</td>\n",
       "      <td>5.3</td>\n",
       "      <td>0.0</td>\n",
       "      <td>0.5</td>\n",
       "      <td>0.87</td>\n",
       "      <td>0.0</td>\n",
       "      <td>6.67</td>\n",
       "    </tr>\n",
       "    <tr>\n",
       "      <th>...</th>\n",
       "      <td>...</td>\n",
       "      <td>...</td>\n",
       "      <td>...</td>\n",
       "      <td>...</td>\n",
       "      <td>...</td>\n",
       "      <td>...</td>\n",
       "      <td>...</td>\n",
       "      <td>...</td>\n",
       "      <td>...</td>\n",
       "      <td>...</td>\n",
       "      <td>...</td>\n",
       "      <td>...</td>\n",
       "      <td>...</td>\n",
       "      <td>...</td>\n",
       "      <td>...</td>\n",
       "      <td>...</td>\n",
       "      <td>...</td>\n",
       "      <td>...</td>\n",
       "    </tr>\n",
       "    <tr>\n",
       "      <th>14863773</th>\n",
       "      <td>CMT</td>\n",
       "      <td>2010-01-06 14:51:19</td>\n",
       "      <td>2010-01-06 15:02:59</td>\n",
       "      <td>2</td>\n",
       "      <td>1.50</td>\n",
       "      <td>-73.970436</td>\n",
       "      <td>40.757928</td>\n",
       "      <td>1</td>\n",
       "      <td>0</td>\n",
       "      <td>-73.957113</td>\n",
       "      <td>40.764094</td>\n",
       "      <td>Cas</td>\n",
       "      <td>7.7</td>\n",
       "      <td>0.0</td>\n",
       "      <td>0.5</td>\n",
       "      <td>0.00</td>\n",
       "      <td>0.0</td>\n",
       "      <td>8.20</td>\n",
       "    </tr>\n",
       "    <tr>\n",
       "      <th>14863774</th>\n",
       "      <td>VTS</td>\n",
       "      <td>2010-01-09 12:52:00</td>\n",
       "      <td>2010-01-09 13:15:00</td>\n",
       "      <td>1</td>\n",
       "      <td>16.77</td>\n",
       "      <td>-73.784115</td>\n",
       "      <td>40.648632</td>\n",
       "      <td>1</td>\n",
       "      <td>None</td>\n",
       "      <td>-73.974673</td>\n",
       "      <td>40.750805</td>\n",
       "      <td>CAS</td>\n",
       "      <td>45.0</td>\n",
       "      <td>0.0</td>\n",
       "      <td>0.5</td>\n",
       "      <td>0.00</td>\n",
       "      <td>0.0</td>\n",
       "      <td>45.50</td>\n",
       "    </tr>\n",
       "    <tr>\n",
       "      <th>14863775</th>\n",
       "      <td>CMT</td>\n",
       "      <td>2010-01-09 14:00:44</td>\n",
       "      <td>2010-01-09 14:14:33</td>\n",
       "      <td>1</td>\n",
       "      <td>0.90</td>\n",
       "      <td>-74.002170</td>\n",
       "      <td>40.721619</td>\n",
       "      <td>1</td>\n",
       "      <td>0</td>\n",
       "      <td>-73.988528</td>\n",
       "      <td>40.721484</td>\n",
       "      <td>Cas</td>\n",
       "      <td>8.1</td>\n",
       "      <td>0.0</td>\n",
       "      <td>0.5</td>\n",
       "      <td>0.00</td>\n",
       "      <td>0.0</td>\n",
       "      <td>8.60</td>\n",
       "    </tr>\n",
       "    <tr>\n",
       "      <th>14863776</th>\n",
       "      <td>CMT</td>\n",
       "      <td>2010-01-09 09:52:23</td>\n",
       "      <td>2010-01-09 09:59:41</td>\n",
       "      <td>1</td>\n",
       "      <td>2.00</td>\n",
       "      <td>-73.980066</td>\n",
       "      <td>40.770469</td>\n",
       "      <td>1</td>\n",
       "      <td>0</td>\n",
       "      <td>-73.958075</td>\n",
       "      <td>40.783242</td>\n",
       "      <td>Cas</td>\n",
       "      <td>7.3</td>\n",
       "      <td>0.0</td>\n",
       "      <td>0.5</td>\n",
       "      <td>0.00</td>\n",
       "      <td>0.0</td>\n",
       "      <td>7.80</td>\n",
       "    </tr>\n",
       "    <tr>\n",
       "      <th>14863777</th>\n",
       "      <td>CMT</td>\n",
       "      <td>2010-01-05 15:25:59</td>\n",
       "      <td>2010-01-05 15:33:54</td>\n",
       "      <td>1</td>\n",
       "      <td>1.00</td>\n",
       "      <td>-73.979463</td>\n",
       "      <td>40.739982</td>\n",
       "      <td>1</td>\n",
       "      <td>0</td>\n",
       "      <td>-73.994477</td>\n",
       "      <td>40.739006</td>\n",
       "      <td>Cas</td>\n",
       "      <td>6.1</td>\n",
       "      <td>0.0</td>\n",
       "      <td>0.5</td>\n",
       "      <td>0.00</td>\n",
       "      <td>0.0</td>\n",
       "      <td>6.60</td>\n",
       "    </tr>\n",
       "  </tbody>\n",
       "</table>\n",
       "<p>14863778 rows × 18 columns</p>\n",
       "</div>"
      ],
      "text/plain": [
       "         vendor_id      pickup_datetime  ... tolls_amount  total_amount\n",
       "0              VTS  2010-01-26 07:41:00  ...          0.0          5.00\n",
       "1              DDS  2010-01-30 23:31:00  ...          0.0         16.30\n",
       "2              DDS  2010-01-18 20:22:20  ...          0.0         12.70\n",
       "3              VTS  2010-01-09 01:18:00  ...          0.0         14.30\n",
       "4              CMT  2010-01-18 19:10:14  ...          0.0          6.67\n",
       "...            ...                  ...  ...          ...           ...\n",
       "14863773       CMT  2010-01-06 14:51:19  ...          0.0          8.20\n",
       "14863774       VTS  2010-01-09 12:52:00  ...          0.0         45.50\n",
       "14863775       CMT  2010-01-09 14:00:44  ...          0.0          8.60\n",
       "14863776       CMT  2010-01-09 09:52:23  ...          0.0          7.80\n",
       "14863777       CMT  2010-01-05 15:25:59  ...          0.0          6.60\n",
       "\n",
       "[14863778 rows x 18 columns]"
      ]
     },
     "execution_count": null,
     "metadata": {},
     "output_type": "execute_result"
    }
   ],
   "source": [
    "a"
   ]
  },
  {
   "cell_type": "code",
   "execution_count": 9,
   "metadata": {},
   "outputs": [
    {
     "data": {
      "text/plain": [
       "Database:\n",
       "    rel1: 14863778 x ['vendor_id', 'pickup_datetime', 'dropoff_datetime', 'passenger_count', 'trip_distance', 'pickup_longitude', 'pickup_latitude', 'rate_code', 'store_and_fwd_flag', 'dropoff_longitude', 'dropoff_latitude', 'payment_type', 'fare_amount', 'surcharge', 'mta_tax', 'tip_amount', 'tolls_amount', 'total_amount']\n",
       "    rel2: 11145409 x ['vendor_id', 'pickup_datetime', 'dropoff_datetime', 'passenger_count', 'trip_distance', 'pickup_longitude', 'pickup_latitude', 'rate_code', 'store_and_fwd_flag', 'dropoff_longitude', 'dropoff_latitude', 'payment_type', 'fare_amount', 'surcharge', 'mta_tax', 'tip_amount', 'tolls_amount', 'total_amount', '__index_level_0__']"
      ]
     },
     "execution_count": null,
     "metadata": {},
     "output_type": "execute_result"
    }
   ],
   "source": [
    "out >> 'pandas'"
   ]
  },
  {
   "cell_type": "code",
   "execution_count": null,
   "metadata": {},
   "outputs": [],
   "source": []
  }
 ],
 "metadata": {
  "language_info": {
   "name": "python"
  }
 },
 "nbformat": 4,
 "nbformat_minor": 2
}
