{
 "cells": [
  {
   "cell_type": "code",
   "execution_count": 1,
   "metadata": {},
   "outputs": [],
   "source": [
    "import darkwing as dw\n",
    "\n",
    "def foo(rel, res=6):\n",
    "    return (rel\n",
    "    | 'select pickup_latitude as lat, pickup_longitude as lng, tip_amount'       \n",
    "    | f'select h3_latlng_to_cell(lat, lng, {res}) as hexid, tip_amount as tip'\n",
    "    | 'select hexid, avg(tip) as tip group by 1'\n",
    "    | 'select h3_h3_to_string(hexid) as hexid, tip'\n",
    "    | 'where tip > 0'\n",
    "    )"
   ]
  },
  {
   "cell_type": "code",
   "execution_count": 2,
   "metadata": {},
   "outputs": [],
   "source": [
    "rel1 = dw.load('data/yellow_tripdata_2010-01.parquet') # lazy load!\n",
    "rel2 = dw.load('data/yellow_tripdata_2010-02.parquet') # lazy load!"
   ]
  },
  {
   "cell_type": "code",
   "execution_count": 3,
   "metadata": {},
   "outputs": [],
   "source": [
    "# TODO: why isn't this lazy?\n",
    "# rel3 = 'https://d37ci6vzurychx.cloudfront.net/trip-data/yellow_tripdata_2010-01.parquet' >> dw.load"
   ]
  },
  {
   "cell_type": "code",
   "execution_count": 4,
   "metadata": {},
   "outputs": [
    {
     "data": {
      "text/plain": [
       "┌─────────────────┬────────────────────┐\n",
       "│      hexid      │        tip         │\n",
       "│     varchar     │       double       │\n",
       "├─────────────────┼────────────────────┤\n",
       "│ 862a100d7ffffff │  0.604239909636192 │\n",
       "│ 862a10727ffffff │ 0.6621288459090504 │\n",
       "│ 862a1008fffffff │ 0.5471456491468885 │\n",
       "│ 86754e64fffffff │ 0.6730361779149294 │\n",
       "│ 862a100e7ffffff │ 1.9770422191887693 │\n",
       "│ 862a10387ffffff │ 1.5341203703703703 │\n",
       "│ 862b1b2b7ffffff │                2.0 │\n",
       "│ 862a10c5fffffff │  6.260140845070423 │\n",
       "│ 862a30297ffffff │ 1.5257142857142856 │\n",
       "│ 862a15007ffffff │ 0.6904761904761905 │\n",
       "│        ·        │                 ·  │\n",
       "│        ·        │                 ·  │\n",
       "│        ·        │                 ·  │\n",
       "│ 862a13067ffffff │               15.0 │\n",
       "│ 862a10aefffffff │                3.5 │\n",
       "│ 862aa08c7ffffff │                1.0 │\n",
       "│ 862aa556fffffff │                1.0 │\n",
       "│ 862a022b7ffffff │                3.0 │\n",
       "│ 862aac60fffffff │                2.0 │\n",
       "│ 8604602f7ffffff │ 0.6666666666666666 │\n",
       "│ 862a12137ffffff │                1.0 │\n",
       "│ 862aac6cfffffff │                3.0 │\n",
       "│ 862a1592fffffff │                1.0 │\n",
       "├─────────────────┴────────────────────┤\n",
       "│ 850 rows (20 shown)        2 columns │\n",
       "└──────────────────────────────────────┘"
      ]
     },
     "execution_count": null,
     "metadata": {},
     "output_type": "execute_result"
    }
   ],
   "source": [
    "rel1 | foo"
   ]
  },
  {
   "cell_type": "code",
   "execution_count": 10,
   "metadata": {},
   "outputs": [
    {
     "data": {
      "text/plain": [
       "Database:\n",
       "    bam: 371 x ['hexid', 'tip1', 'tip2', 'diff']"
      ]
     },
     "execution_count": null,
     "metadata": {},
     "output_type": "execute_result"
    }
   ],
   "source": [
    "out = dw.Database(\n",
    "    rel1 = rel1 >> foo,\n",
    "    rel2 = rel2 >> foo,\n",
    ") | \"\"\"\n",
    "select\n",
    "    hexid,\n",
    "    rel1.tip\n",
    "        as tip1,\n",
    "    rel2.tip\n",
    "        as tip2,\n",
    "from rel1\n",
    "full outer join rel2\n",
    "using (hexid)\n",
    "\"\"\"\n",
    "\n",
    "(out\n",
    "| 'where tip1 is not null and tip2 is not null'\n",
    "| 'select *, tip1-tip2 as diff order by diff'\n",
    ") >> 'as bam' # precedence rules!"
   ]
  },
  {
   "cell_type": "code",
   "execution_count": null,
   "metadata": {},
   "outputs": [],
   "source": []
  }
 ],
 "metadata": {
  "language_info": {
   "name": "python"
  }
 },
 "nbformat": 4,
 "nbformat_minor": 2
}
