{
 "cells": [
  {
   "cell_type": "code",
   "execution_count": 1,
   "metadata": {},
   "outputs": [],
   "source": [
    "import darkwing as dw\n",
    "\n",
    "def foo(rel, res=6):\n",
    "    return (rel\n",
    "    | 'select pickup_latitude as lat, pickup_longitude as lng, tip_amount'       \n",
    "    | f'select h3_latlng_to_cell(lat, lng, {res}) as hexid, tip_amount as tip'\n",
    "    | 'select hexid, avg(tip) as tip group by 1'\n",
    "    | 'select h3_h3_to_string(hexid) as hexid, tip'\n",
    "    | 'where tip > 0'\n",
    "    )"
   ]
  },
  {
   "cell_type": "code",
   "execution_count": 2,
   "metadata": {},
   "outputs": [],
   "source": [
    "rel1 = dw.load('data/yellow_tripdata_2010-01.parquet') # lazy load!\n",
    "rel2 = dw.load('data/yellow_tripdata_2010-02.parquet') # lazy load!"
   ]
  },
  {
   "cell_type": "code",
   "execution_count": 3,
   "metadata": {},
   "outputs": [],
   "source": [
    "# TODO: why isn't this lazy?\n",
    "# rel3 = 'https://d37ci6vzurychx.cloudfront.net/trip-data/yellow_tripdata_2010-01.parquet' >> dw.load"
   ]
  },
  {
   "cell_type": "code",
   "execution_count": 4,
   "metadata": {},
   "outputs": [
    {
     "data": {
      "text/plain": [
       "┌─────────────────┬────────────────────┐\n",
       "│      hexid      │        tip         │\n",
       "│     varchar     │       double       │\n",
       "├─────────────────┼────────────────────┤\n",
       "│ 862a1001fffffff │ 0.7062534435261708 │\n",
       "│ 862a106d7ffffff │ 0.6087299035369775 │\n",
       "│ 862a1018fffffff │ 1.6588950276243093 │\n",
       "│ 862a1088fffffff │  9.787446808510639 │\n",
       "│ 862a10667ffffff │ 0.6512962962962964 │\n",
       "│ 862a10707ffffff │ 1.4344105263157896 │\n",
       "│ 862a1071fffffff │  6.421379129522809 │\n",
       "│ 862a1000fffffff │ 1.2942699115044247 │\n",
       "│ 862a15667ffffff │ 3.6666666666666665 │\n",
       "│ 862a10187ffffff │  4.194242424242424 │\n",
       "│        ·        │                 ·  │\n",
       "│        ·        │                 ·  │\n",
       "│        ·        │                 ·  │\n",
       "│ 862a1515fffffff │               3.56 │\n",
       "│ 862b8a727ffffff │                1.0 │\n",
       "│ 862b8b387ffffff │               9.95 │\n",
       "│ 862aa314fffffff │                1.7 │\n",
       "│ 862a1385fffffff │                2.0 │\n",
       "│ 862a1546fffffff │                1.0 │\n",
       "│ 862b8a6e7ffffff │                1.0 │\n",
       "│ 862a16717ffffff │                1.0 │\n",
       "│ 862a118c7ffffff │                2.0 │\n",
       "│ 862a148e7ffffff │                1.5 │\n",
       "├─────────────────┴────────────────────┤\n",
       "│ 850 rows (20 shown)        2 columns │\n",
       "└──────────────────────────────────────┘"
      ]
     },
     "execution_count": null,
     "metadata": {},
     "output_type": "execute_result"
    }
   ],
   "source": [
    "rel1 | foo"
   ]
  },
  {
   "cell_type": "code",
   "execution_count": 5,
   "metadata": {},
   "outputs": [
    {
     "data": {
      "text/plain": [
       "Databoose:\n",
       "    bam: 371 x ['hexid', 'tip1', 'tip2', 'diff']"
      ]
     },
     "execution_count": null,
     "metadata": {},
     "output_type": "execute_result"
    }
   ],
   "source": [
    "out = dw.Databoose(\n",
    "    rel1 = rel1 >> foo,\n",
    "    rel2 = rel2 >> foo,\n",
    ") | \"\"\"\n",
    "select\n",
    "    hexid,\n",
    "    rel1.tip\n",
    "        as tip1,\n",
    "    rel2.tip\n",
    "        as tip2,\n",
    "from rel1\n",
    "full outer join rel2\n",
    "using (hexid)\n",
    "\"\"\"\n",
    "\n",
    "(out\n",
    "| 'where tip1 is not null and tip2 is not null'\n",
    "| 'select *, tip1-tip2 as diff order by diff'\n",
    "| 'as bam'\n",
    ")"
   ]
  },
  {
   "cell_type": "code",
   "execution_count": null,
   "metadata": {},
   "outputs": [],
   "source": []
  }
 ],
 "metadata": {
  "language_info": {
   "name": "python"
  }
 },
 "nbformat": 4,
 "nbformat_minor": 2
}
