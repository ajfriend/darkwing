{
 "cells": [
  {
   "cell_type": "code",
   "execution_count": 1,
   "metadata": {},
   "outputs": [],
   "source": [
    "# todo: playing around with data, we realize we probably want to filter out any trips with negative amounts\n",
    "\n",
    "# end-to-end, this analysis would look like...."
   ]
  },
  {
   "cell_type": "code",
   "execution_count": 2,
   "metadata": {},
   "outputs": [],
   "source": [
    "import darkwing as dw"
   ]
  },
  {
   "cell_type": "code",
   "execution_count": 3,
   "metadata": {},
   "outputs": [
    {
     "data": {
      "text/plain": [
       "┌───────────┬─────────────────────┬─────────────────────┬───┬────────────┬──────────────┬──────────────┐\n",
       "│ vendor_id │   pickup_datetime   │  dropoff_datetime   │ … │ tip_amount │ tolls_amount │ total_amount │\n",
       "│  varchar  │       varchar       │       varchar       │   │   double   │    double    │    double    │\n",
       "├───────────┼─────────────────────┼─────────────────────┼───┼────────────┼──────────────┼──────────────┤\n",
       "│ VTS       │ 2010-01-26 07:41:00 │ 2010-01-26 07:45:00 │ … │        0.0 │          0.0 │          5.0 │\n",
       "│ DDS       │ 2010-01-30 23:31:00 │ 2010-01-30 23:46:12 │ … │        0.0 │          0.0 │         16.3 │\n",
       "│ DDS       │ 2010-01-18 20:22:20 │ 2010-01-18 20:38:12 │ … │        0.0 │          0.0 │         12.7 │\n",
       "│ VTS       │ 2010-01-09 01:18:00 │ 2010-01-09 01:35:00 │ … │        0.0 │          0.0 │         14.3 │\n",
       "│ CMT       │ 2010-01-18 19:10:14 │ 2010-01-18 19:17:07 │ … │       0.87 │          0.0 │         6.67 │\n",
       "│ DDS       │ 2010-01-23 18:40:25 │ 2010-01-23 18:54:51 │ … │        1.0 │          0.0 │         12.0 │\n",
       "│ VTS       │ 2010-01-17 09:18:00 │ 2010-01-17 09:25:00 │ … │        0.0 │          0.0 │          6.6 │\n",
       "│ VTS       │ 2010-01-09 13:49:00 │ 2010-01-09 13:56:00 │ … │        0.0 │          0.0 │          7.4 │\n",
       "│ VTS       │ 2010-01-09 00:25:00 │ 2010-01-09 00:39:00 │ … │        0.0 │          0.0 │         12.3 │\n",
       "│ VTS       │ 2010-01-27 18:15:00 │ 2010-01-27 18:29:00 │ … │        2.0 │          0.0 │         12.0 │\n",
       "│  ·        │          ·          │          ·          │ · │         ·  │           ·  │           ·  │\n",
       "│  ·        │          ·          │          ·          │ · │         ·  │           ·  │           ·  │\n",
       "│  ·        │          ·          │          ·          │ · │         ·  │           ·  │           ·  │\n",
       "│ CMT       │ 2010-01-29 10:10:30 │ 2010-01-29 10:16:54 │ … │       1.32 │          0.0 │         7.92 │\n",
       "│ CMT       │ 2010-01-04 20:25:15 │ 2010-01-04 20:46:17 │ … │       4.06 │          0.0 │        24.36 │\n",
       "│ VTS       │ 2010-01-07 17:57:00 │ 2010-01-07 18:07:00 │ … │        0.0 │          0.0 │          9.6 │\n",
       "│ VTS       │ 2010-01-08 00:08:00 │ 2010-01-08 00:22:00 │ … │        1.5 │          0.0 │         12.6 │\n",
       "│ CMT       │ 2010-01-31 20:36:38 │ 2010-01-31 20:58:12 │ … │        3.0 │          0.0 │         21.7 │\n",
       "│ CMT       │ 2010-01-16 11:03:42 │ 2010-01-16 11:14:46 │ … │        0.0 │          0.0 │          9.0 │\n",
       "│ CMT       │ 2010-01-05 08:56:30 │ 2010-01-05 09:04:29 │ … │        0.0 │          0.0 │          6.6 │\n",
       "│ CMT       │ 2010-01-08 08:40:48 │ 2010-01-08 09:04:44 │ … │        2.0 │          0.0 │         21.8 │\n",
       "│ CMT       │ 2010-01-08 07:06:21 │ 2010-01-08 07:13:34 │ … │        0.0 │          0.0 │          7.0 │\n",
       "│ VTS       │ 2010-01-09 03:09:00 │ 2010-01-09 03:18:00 │ … │        0.0 │          0.0 │         10.7 │\n",
       "├───────────┴─────────────────────┴─────────────────────┴───┴────────────┴──────────────┴──────────────┤\n",
       "│ ? rows (>9999 rows, 20 shown)                                                   18 columns (6 shown) │\n",
       "└──────────────────────────────────────────────────────────────────────────────────────────────────────┘"
      ]
     },
     "execution_count": null,
     "metadata": {},
     "output_type": "execute_result"
    }
   ],
   "source": [
    "t1 = dw.Table('data/yellow_tripdata_2010-01.parquet')\n",
    "t1"
   ]
  },
  {
   "cell_type": "code",
   "execution_count": 4,
   "metadata": {},
   "outputs": [
    {
     "data": {
      "text/plain": [
       "['vendor_id',\n",
       " 'pickup_datetime',\n",
       " 'dropoff_datetime',\n",
       " 'passenger_count',\n",
       " 'trip_distance',\n",
       " 'pickup_longitude',\n",
       " 'pickup_latitude',\n",
       " 'rate_code',\n",
       " 'store_and_fwd_flag',\n",
       " 'dropoff_longitude',\n",
       " 'dropoff_latitude',\n",
       " 'payment_type',\n",
       " 'fare_amount',\n",
       " 'surcharge',\n",
       " 'mta_tax',\n",
       " 'tip_amount',\n",
       " 'tolls_amount',\n",
       " 'total_amount']"
      ]
     },
     "execution_count": null,
     "metadata": {},
     "output_type": "execute_result"
    }
   ],
   "source": [
    "t1.columns"
   ]
  },
  {
   "cell_type": "code",
   "execution_count": 5,
   "metadata": {},
   "outputs": [
    {
     "data": {
      "text/plain": [
       "┌───────────┬─────────────────────┬─────────────────────┬───┬──────────────┬──────────────┬────────────────────┐\n",
       "│ vendor_id │   pickup_datetime   │  dropoff_datetime   │ … │ tolls_amount │ total_amount │       hexid        │\n",
       "│  varchar  │       varchar       │       varchar       │   │    double    │    double    │       uint64       │\n",
       "├───────────┼─────────────────────┼─────────────────────┼───┼──────────────┼──────────────┼────────────────────┤\n",
       "│ VTS       │ 2010-01-26 07:41:00 │ 2010-01-26 07:45:00 │ … │          0.0 │          5.0 │ 613229522950553599 │\n",
       "│ DDS       │ 2010-01-30 23:31:00 │ 2010-01-30 23:46:12 │ … │          0.0 │         16.3 │ 613229551343894527 │\n",
       "│ DDS       │ 2010-01-18 20:22:20 │ 2010-01-18 20:38:12 │ … │          0.0 │         12.7 │ 613229522990399487 │\n",
       "│ VTS       │ 2010-01-09 01:18:00 │ 2010-01-09 01:35:00 │ … │          0.0 │         14.3 │ 613229524244496383 │\n",
       "│ CMT       │ 2010-01-18 19:10:14 │ 2010-01-18 19:17:07 │ … │          0.0 │         6.67 │ 613229524179484671 │\n",
       "│ DDS       │ 2010-01-23 18:40:25 │ 2010-01-23 18:54:51 │ … │          0.0 │         12.0 │ 614553222213795839 │\n",
       "│ VTS       │ 2010-01-17 09:18:00 │ 2010-01-17 09:25:00 │ … │          0.0 │          6.6 │ 613229551345991679 │\n",
       "│ VTS       │ 2010-01-09 13:49:00 │ 2010-01-09 13:56:00 │ … │          0.0 │          7.4 │ 613229524242399231 │\n",
       "│ VTS       │ 2010-01-09 00:25:00 │ 2010-01-09 00:39:00 │ … │          0.0 │         12.3 │ 613229551461335039 │\n",
       "│ VTS       │ 2010-01-27 18:15:00 │ 2010-01-27 18:29:00 │ … │          0.0 │         12.0 │ 613229524181581823 │\n",
       "│  ·        │          ·          │          ·          │ · │           ·  │           ·  │          ·         │\n",
       "│  ·        │          ·          │          ·          │ · │           ·  │           ·  │          ·         │\n",
       "│  ·        │          ·          │          ·          │ · │           ·  │           ·  │          ·         │\n",
       "│ CMT       │ 2010-01-29 10:10:30 │ 2010-01-29 10:16:54 │ … │          0.0 │         7.92 │ 613229522956845055 │\n",
       "│ CMT       │ 2010-01-04 20:25:15 │ 2010-01-04 20:46:17 │ … │          0.0 │        24.36 │ 613229524244496383 │\n",
       "│ VTS       │ 2010-01-07 17:57:00 │ 2010-01-07 18:07:00 │ … │          0.0 │          9.6 │ 613229524177387519 │\n",
       "│ VTS       │ 2010-01-08 00:08:00 │ 2010-01-08 00:22:00 │ … │          0.0 │         12.6 │ 613229551278882815 │\n",
       "│ CMT       │ 2010-01-31 20:36:38 │ 2010-01-31 20:58:12 │ … │          0.0 │         21.7 │ 613229524179484671 │\n",
       "│ CMT       │ 2010-01-16 11:03:42 │ 2010-01-16 11:14:46 │ … │          0.0 │          9.0 │ 613229522948456447 │\n",
       "│ CMT       │ 2010-01-05 08:56:30 │ 2010-01-05 09:04:29 │ … │          0.0 │          6.6 │ 613229524175290367 │\n",
       "│ CMT       │ 2010-01-08 08:40:48 │ 2010-01-08 09:04:44 │ … │          0.0 │         21.8 │ 613229551385837567 │\n",
       "│ CMT       │ 2010-01-08 07:06:21 │ 2010-01-08 07:13:34 │ … │          0.0 │          7.0 │ 613229524185776127 │\n",
       "│ VTS       │ 2010-01-09 03:09:00 │ 2010-01-09 03:18:00 │ … │          0.0 │         10.7 │ 613229551276785663 │\n",
       "├───────────┴─────────────────────┴─────────────────────┴───┴──────────────┴──────────────┴────────────────────┤\n",
       "│ ? rows (>9999 rows, 20 shown)                                                           19 columns (6 shown) │\n",
       "└──────────────────────────────────────────────────────────────────────────────────────────────────────────────┘"
      ]
     },
     "execution_count": null,
     "metadata": {},
     "output_type": "execute_result"
    }
   ],
   "source": [
    "# You can use standard duckdb SQL expressions. The `from <table_name>` is automatically inserted for you, so it should be omitted.\n",
    "# `select ...` is optional. If omitted, `select *` will be inserted.\n",
    "\n",
    "# convert pickup lat/lngs to H3 cells (at resolution 8)\n",
    "# resolution 8 cells are about 0.7 km^2 in size\n",
    "x = t1.do('select *, h3_latlng_to_cell(pickup_latitude, pickup_longitude, 8) as hexid')\n",
    "x"
   ]
  },
  {
   "cell_type": "code",
   "execution_count": 6,
   "metadata": {},
   "outputs": [
    {
     "data": {
      "text/plain": [
       "┌────────────────────┬────────────────────┬────────┐\n",
       "│       hexid        │       amount       │  num   │\n",
       "│       uint64       │       double       │ int64  │\n",
       "├────────────────────┼────────────────────┼────────┤\n",
       "│ 613229522992496639 │   9.67052480701034 │ 288487 │\n",
       "│ 613229524244496383 │ 10.816309067189671 │ 666127 │\n",
       "│ 613229524766687231 │  28.70774723824092 │  71965 │\n",
       "│ 613229524311605247 │   12.8694763361526 │  11114 │\n",
       "│ 613229524210941951 │ 10.594611812368376 │ 185619 │\n",
       "│ 613229522940067839 │ 11.282130774389216 │ 105877 │\n",
       "│ 613229522954747903 │  8.755456601197542 │ 140626 │\n",
       "│ 613229551411003391 │ 14.289010873562011 │  38074 │\n",
       "│ 613229524162707455 │ 12.121935231539425 │   6392 │\n",
       "│ 613229551402614783 │ 14.603827150293311 │  12103 │\n",
       "│          ·         │                 ·  │      · │\n",
       "│          ·         │                 ·  │      · │\n",
       "│          ·         │                 ·  │      · │\n",
       "│ 613255592867266559 │               21.5 │      1 │\n",
       "│ 613229544909832191 │               34.2 │      1 │\n",
       "│ 613229534046584831 │               50.6 │      1 │\n",
       "│ 613229672922087423 │                9.0 │      1 │\n",
       "│ 613229552908369919 │                3.5 │      1 │\n",
       "│ 613256702061445119 │                6.7 │      1 │\n",
       "│ 613229884740730879 │                5.5 │      1 │\n",
       "│ 613229744621617151 │                6.6 │      1 │\n",
       "│ 613229320099332095 │               10.7 │      1 │\n",
       "│ 613231956387168255 │               32.6 │      1 │\n",
       "├────────────────────┴────────────────────┴────────┤\n",
       "│ 8594 rows (20 shown)                   3 columns │\n",
       "└──────────────────────────────────────────────────┘"
      ]
     },
     "execution_count": null,
     "metadata": {},
     "output_type": "execute_result"
    }
   ],
   "source": [
    "# compute the average of `total_amount` for each H3 cell, along with the number of trips\n",
    "x = x.do('select hexid, avg(total_amount) as amount, count(*) as num group by 1')\n",
    "x"
   ]
  },
  {
   "cell_type": "code",
   "execution_count": 7,
   "metadata": {},
   "outputs": [
    {
     "data": {
      "text/plain": [
       "┌─────────────────┬────────────────────┬────────┐\n",
       "│      hexid      │       amount       │  num   │\n",
       "│     varchar     │       double       │ int64  │\n",
       "├─────────────────┼────────────────────┼────────┤\n",
       "│ 882a100d65fffff │ 10.816309067189671 │ 666127 │\n",
       "│ 882a100897fffff │  8.755456601197542 │ 140626 │\n",
       "│ 882a1008bbfffff │  9.670524807010343 │ 288487 │\n",
       "│ 882a107299fffff │ 14.289010873562011 │  38074 │\n",
       "│ 882a100d45fffff │ 10.594611812368376 │ 185619 │\n",
       "│ 882a100f57fffff │ 28.707747238240927 │  71965 │\n",
       "│ 882a100889fffff │ 11.282130774389216 │ 105877 │\n",
       "│ 882a100ebbfffff │  39.36631964809386 │    682 │\n",
       "│ 882a1008c3fffff │ 12.251557967709575 │  43852 │\n",
       "│ 882a107291fffff │ 14.603827150293315 │  12103 │\n",
       "│        ·        │                 ·  │      · │\n",
       "│        ·        │                 ·  │      · │\n",
       "│        ·        │                 ·  │      · │\n",
       "│ 882a106443fffff │               16.0 │      1 │\n",
       "│ 882a1011a7fffff │                6.3 │      1 │\n",
       "│ 882a10c1e3fffff │                8.9 │      1 │\n",
       "│ 882a10b9ebfffff │               12.3 │      1 │\n",
       "│ 882a1344e1fffff │                6.0 │      1 │\n",
       "│ 882a10c46bfffff │                4.6 │      1 │\n",
       "│ 882a157ae7fffff │               15.4 │      1 │\n",
       "│ 882a10d0b1fffff │                7.9 │      1 │\n",
       "│ 882a114ac9fffff │               65.0 │      1 │\n",
       "│ 882a116b4dfffff │  8.699999999999998 │      1 │\n",
       "├─────────────────┴────────────────────┴────────┤\n",
       "│ 8594 rows (20 shown)                3 columns │\n",
       "└───────────────────────────────────────────────┘"
      ]
     },
     "execution_count": null,
     "metadata": {},
     "output_type": "execute_result"
    }
   ],
   "source": [
    "# Convert the H3 cell id to its hexadecimal representation\n",
    "x = x.do('select h3_h3_to_string(hexid) as hexid, amount, num')\n",
    "x"
   ]
  },
  {
   "cell_type": "code",
   "execution_count": 8,
   "metadata": {},
   "outputs": [
    {
     "data": {
      "text/plain": [
       "┌─────────────────┬────────────────────┬────────┐\n",
       "│      hexid      │       amount       │  num   │\n",
       "│     varchar     │       double       │ int64  │\n",
       "├─────────────────┼────────────────────┼────────┤\n",
       "│ 882a10089bfffff │ 10.686034118679826 │ 252882 │\n",
       "│ 882a1072c7fffff │  11.64960305036337 │ 203779 │\n",
       "│ 882a100893fffff │  9.661533032430293 │ 426051 │\n",
       "│ 882a100883fffff │  9.985855459480879 │ 222512 │\n",
       "│ 882a1072c3fffff │ 11.387625279142469 │  89560 │\n",
       "│ 882a1072c9fffff │ 10.324864870461472 │ 386333 │\n",
       "│ 882a100899fffff │  10.31212280293725 │ 210679 │\n",
       "│ 882a10725bfffff │ 10.288604039526437 │ 421287 │\n",
       "│ 882a100881fffff │ 10.705657822863861 │  76890 │\n",
       "│ 882a107281fffff │  14.54941136643694 │  73849 │\n",
       "│        ·        │                 ·  │      · │\n",
       "│        ·        │                 ·  │      · │\n",
       "│        ·        │                 ·  │      · │\n",
       "│ 882a1078cbfffff │               13.4 │      1 │\n",
       "│ 882a162b03fffff │                5.4 │      1 │\n",
       "│ 882a84c495fffff │                4.6 │      1 │\n",
       "│ 882aa89aabfffff │                5.8 │      1 │\n",
       "│ 882a10ce6bfffff │               10.0 │      1 │\n",
       "│ 882a10ce2dfffff │                6.6 │      1 │\n",
       "│ 882a10600dfffff │                6.6 │      1 │\n",
       "│ 882a128313fffff │                9.8 │      1 │\n",
       "│ 883905dae9fffff │                5.8 │      1 │\n",
       "│ 882a104b67fffff │                6.3 │      1 │\n",
       "├─────────────────┴────────────────────┴────────┤\n",
       "│ 8594 rows (20 shown)                3 columns │\n",
       "└───────────────────────────────────────────────┘"
      ]
     },
     "execution_count": null,
     "metadata": {},
     "output_type": "execute_result"
    }
   ],
   "source": [
    "# `Table.do()` also selects a sequence of strings, so you could write all of the previous steps like this\n",
    "\n",
    "t1.do(\n",
    "    'select *, h3_latlng_to_cell(pickup_latitude, pickup_longitude, 8) as hexid',\n",
    "    'select hexid, avg(total_amount) as amount, count(*) as num group by 1',\n",
    "    'select h3_h3_to_string(hexid) as hexid, amount, num',\n",
    ")\n"
   ]
  },
  {
   "cell_type": "code",
   "execution_count": 9,
   "metadata": {},
   "outputs": [
    {
     "data": {
      "text/plain": [
       "┌─────────────────┬────────────────────┬────────┐\n",
       "│      hexid      │       amount       │  num   │\n",
       "│     varchar     │       double       │ int64  │\n",
       "├─────────────────┼────────────────────┼────────┤\n",
       "│ 882a100d29fffff │   9.82921158914791 │ 504610 │\n",
       "│ 882a100d35fffff │ 10.773760522602288 │ 246612 │\n",
       "│ 882a100d67fffff │ 10.106109311563587 │ 594594 │\n",
       "│ 882a1008d5fffff │  11.39579412448646 │  25802 │\n",
       "│ 882a103b15fffff │ 40.142359940847626 │  29077 │\n",
       "│ 882a1008b9fffff │  9.775451726322805 │ 224118 │\n",
       "│ 882a100f33fffff │  11.08422301690507 │   3076 │\n",
       "│ 882a100da3fffff │  13.47626686656671 │   5336 │\n",
       "│ 882a100d5bfffff │ 13.457712318286152 │  10456 │\n",
       "│ 882a1008d7fffff │ 10.326151716810196 │  35764 │\n",
       "│        ·        │                 ·  │      · │\n",
       "│        ·        │                 ·  │      · │\n",
       "│        ·        │                 ·  │      · │\n",
       "│ 882a139731fffff │                7.1 │      1 │\n",
       "│ 882a1055c1fffff │               39.0 │      1 │\n",
       "│ 882b8a665dfffff │               12.6 │      1 │\n",
       "│ 882a103121fffff │               19.9 │      1 │\n",
       "│ 882a1689d5fffff │                9.2 │      1 │\n",
       "│ 882a139217fffff │               12.2 │      1 │\n",
       "│ 882a1022e9fffff │              59.07 │      1 │\n",
       "│ 882a11cf45fffff │               11.6 │      1 │\n",
       "│ 882a1065a5fffff │                6.6 │      1 │\n",
       "│ 882a133335fffff │  8.599999999999998 │      1 │\n",
       "├─────────────────┴────────────────────┴────────┤\n",
       "│ 8594 rows (20 shown)                3 columns │\n",
       "└───────────────────────────────────────────────┘"
      ]
     },
     "execution_count": null,
     "metadata": {},
     "output_type": "execute_result"
    }
   ],
   "source": [
    "# This seems like a generally useful transformation, so let's store it as a list of strings\n",
    "avg_list = [\n",
    "    'select *, h3_latlng_to_cell(pickup_latitude, pickup_longitude, 8) as hexid',\n",
    "    'select hexid, avg(total_amount) as amount, count(*) as num group by 1',\n",
    "    'select h3_h3_to_string(hexid) as hexid, amount, num',\n",
    "]\n",
    "\n",
    "t1.do(*avg_list)\n",
    "t1.do(avg_list)"
   ]
  },
  {
   "cell_type": "code",
   "execution_count": 10,
   "metadata": {},
   "outputs": [],
   "source": [
    "# Making things a little more formal, we could also store the operation as a function\n",
    "\n",
    "def avg_func(tbl):\n",
    "    \"\"\"\n",
    "    tbl: should have columns ...\n",
    "    returns columns ...\n",
    "    \"\"\"\n",
    "    # TODO: can it also take in a df? prolly!\n",
    "    return tbl.do(avg_list)"
   ]
  },
  {
   "cell_type": "code",
   "execution_count": 11,
   "metadata": {},
   "outputs": [
    {
     "data": {
      "text/plain": [
       "┌─────────────────┬────────────────────┬────────┐\n",
       "│      hexid      │       amount       │  num   │\n",
       "│     varchar     │       double       │ int64  │\n",
       "├─────────────────┼────────────────────┼────────┤\n",
       "│ 882a100897fffff │  8.755456601197542 │ 140626 │\n",
       "│ 882a100d65fffff │  10.81630906718967 │ 666127 │\n",
       "│ 882a1008bbfffff │   9.67052480701034 │ 288487 │\n",
       "│ 882a100da5fffff │ 12.869476336152601 │  11114 │\n",
       "│ 882a100d45fffff │  10.59461181236837 │ 185619 │\n",
       "│ 882a100889fffff │ 11.282130774389215 │ 105877 │\n",
       "│ 882a100f57fffff │ 28.707747238240923 │  71965 │\n",
       "│ 882a1008c3fffff │  12.25155796770957 │  43852 │\n",
       "│ 882a107299fffff │ 14.289010873562011 │  38074 │\n",
       "│ 882a100da7fffff │ 12.546433862433863 │  15120 │\n",
       "│        ·        │                 ·  │      · │\n",
       "│        ·        │                 ·  │      · │\n",
       "│        ·        │                 ·  │      · │\n",
       "│ 882a102839fffff │                6.2 │      1 │\n",
       "│ 882a138b65fffff │                6.0 │      1 │\n",
       "│ 882a10128bfffff │               10.4 │      1 │\n",
       "│ 882a104e9bfffff │               10.1 │      1 │\n",
       "│ 882a313923fffff │                8.3 │      1 │\n",
       "│ 882a115acdfffff │                9.9 │      1 │\n",
       "│ 882a107907fffff │               12.7 │      1 │\n",
       "│ 882a10a981fffff │               11.5 │      1 │\n",
       "│ 882a139511fffff │               18.7 │      1 │\n",
       "│ 882a13934dfffff │               12.9 │      1 │\n",
       "├─────────────────┴────────────────────┴────────┤\n",
       "│ 8594 rows (20 shown)                3 columns │\n",
       "└───────────────────────────────────────────────┘"
      ]
     },
     "execution_count": null,
     "metadata": {},
     "output_type": "execute_result"
    }
   ],
   "source": [
    "# the following are equivalent\n",
    "avg_func(t1)\n",
    "t1.do(avg_func)\n",
    "t1.do([avg_func])"
   ]
  },
  {
   "cell_type": "code",
   "execution_count": 12,
   "metadata": {},
   "outputs": [
    {
     "data": {
      "text/plain": [
       "┌─────────────────┬────────────────────┬────────┐\n",
       "│      hexid      │       amount       │  num   │\n",
       "│     varchar     │       double       │ int64  │\n",
       "├─────────────────┼────────────────────┼────────┤\n",
       "│ 882a100d25fffff │  9.557408611391345 │ 321156 │\n",
       "│ 882a107259fffff │ 10.414865664934148 │ 102356 │\n",
       "│ 882a100d21fffff │  9.739929882891428 │ 513712 │\n",
       "│ 882a100dadfffff │  12.62425013535463 │   1847 │\n",
       "│ 882a10088bfffff │ 10.179375811939385 │  64660 │\n",
       "│ 882a100d05fffff │   9.92728901254454 │  61461 │\n",
       "│ 882a1072d7fffff │ 14.259547345413528 │  14183 │\n",
       "│ 882a100d3dfffff │ 10.664021710811987 │  46060 │\n",
       "│ 882a107293fffff │ 13.798980309423346 │  11376 │\n",
       "│ 882a1072c5fffff │ 11.187289017341051 │  46710 │\n",
       "│        ·        │          ·         │     ·  │\n",
       "│        ·        │          ·         │     ·  │\n",
       "│        ·        │          ·         │     ·  │\n",
       "│ 882a100ae5fffff │ 15.114158415841583 │    101 │\n",
       "│ 882a107055fffff │ 22.933666666666667 │    120 │\n",
       "│ 882a100dbbfffff │ 13.068114285714286 │    175 │\n",
       "│ 882a100c4bfffff │ 11.117826086956523 │    184 │\n",
       "│ 882a1001adfffff │ 13.115315315315314 │    111 │\n",
       "│ 882a100f01fffff │ 11.777862903225806 │    248 │\n",
       "│ 882a107703fffff │  10.57219512195122 │    164 │\n",
       "│ 882a100e83fffff │  13.86840579710145 │    138 │\n",
       "│ 882a100e03fffff │ 13.148079470198676 │    151 │\n",
       "│ 882a100c07fffff │ 11.367704918032786 │    122 │\n",
       "├─────────────────┴────────────────────┴────────┤\n",
       "│ 504 rows (20 shown)                 3 columns │\n",
       "└───────────────────────────────────────────────┘"
      ]
     },
     "execution_count": null,
     "metadata": {},
     "output_type": "execute_result"
    }
   ],
   "source": [
    "# We can build up complex nested expressions by combining functions, strings, and lists.\n",
    "\n",
    "# The following are equivalent:\n",
    "\n",
    "t1.do(avg_func, 'where num > 100')\n",
    "t1.do(avg_list, 'where num > 100')\n",
    "t1.do([avg_func, 'where num > 100'])"
   ]
  },
  {
   "cell_type": "markdown",
   "metadata": {},
   "source": [
    "# Joins\n",
    "\n",
    "We want to compute average fares for hexes and compare them across January and February. We compute the averages like above, but also want to exlude hexes with only a few trips. So we extend the data pipeline to filter out such hexes, and apply the same operation to the datasets for each month."
   ]
  },
  {
   "cell_type": "code",
   "execution_count": 13,
   "metadata": {},
   "outputs": [
    {
     "data": {
      "text/plain": [
       "┌─────────────────┬────────────────────┬────────┐\n",
       "│      hexid      │       amount       │  num   │\n",
       "│     varchar     │       double       │ int64  │\n",
       "├─────────────────┼────────────────────┼────────┤\n",
       "│ 882a1008bbfffff │  9.839421424666112 │ 204848 │\n",
       "│ 882a100f57fffff │  30.09185805984283 │  49697 │\n",
       "│ 882a100897fffff │  8.916072988533125 │ 105085 │\n",
       "│ 882a100889fffff │ 11.408574980420441 │  80441 │\n",
       "│ 882a100ebbfffff │  53.30473029045642 │    482 │\n",
       "│ 882a100da5fffff │ 13.302083199999995 │   9375 │\n",
       "│ 882a107299fffff │ 14.523038287960398 │  27476 │\n",
       "│ 882a100d65fffff │ 10.919830938548953 │ 494199 │\n",
       "│ 882a100d45fffff │ 10.683853485818956 │ 137543 │\n",
       "│ 882a100da7fffff │ 12.860021669411465 │  11537 │\n",
       "│        ·        │          ·         │     ·  │\n",
       "│        ·        │          ·         │     ·  │\n",
       "│        ·        │          ·         │     ·  │\n",
       "│ 882a100d1bfffff │ 12.530097087378639 │    206 │\n",
       "│ 882a100dd5fffff │ 13.044615384615385 │    117 │\n",
       "│ 882a100dcbfffff │ 12.323053435114502 │    131 │\n",
       "│ 882a1008a7fffff │ 11.524615384615384 │    143 │\n",
       "│ 882a100817fffff │ 19.812772277227722 │    101 │\n",
       "│ 882a100a8dfffff │  11.76229508196721 │    183 │\n",
       "│ 882a100f51fffff │ 12.842587412587413 │    143 │\n",
       "│ 882a107409fffff │ 11.927633587786255 │    262 │\n",
       "│ 882a10763bfffff │ 11.518872180451128 │    133 │\n",
       "│ 882a107a13fffff │ 11.031843971631208 │    141 │\n",
       "├─────────────────┴────────────────────┴────────┤\n",
       "│ 444 rows (20 shown)                 3 columns │\n",
       "└───────────────────────────────────────────────┘"
      ]
     },
     "execution_count": null,
     "metadata": {},
     "output_type": "execute_result"
    }
   ],
   "source": [
    "t1 = dw.Table('data/yellow_tripdata_2010-01.parquet')\n",
    "t2 = dw.Table('data/yellow_tripdata_2010-02.parquet')\n",
    "\n",
    "f = [\n",
    "    'where total_amount > 0',\n",
    "    avg_list,\n",
    "    'where num > 100',\n",
    "]\n",
    "\n",
    "t1 = t1.do(f)\n",
    "t2 = t2.do(f)\n",
    "\n",
    "t2"
   ]
  },
  {
   "cell_type": "markdown",
   "metadata": {},
   "source": [
    "To perform a join, you need two tables in on place. In Darkwing, such a place is a Database."
   ]
  },
  {
   "cell_type": "code",
   "execution_count": 14,
   "metadata": {},
   "outputs": [],
   "source": [
    "db = dw.Database(t1=t1, t2=t2)"
   ]
  },
  {
   "cell_type": "code",
   "execution_count": 15,
   "metadata": {},
   "outputs": [
    {
     "data": {
      "text/plain": [
       "┌─────────────────┬────────────────────┬────────┐\n",
       "│      hexid      │       amount       │  num   │\n",
       "│     varchar     │       double       │ int64  │\n",
       "├─────────────────┼────────────────────┼────────┤\n",
       "│ 882a100d67fffff │ 10.106109311563587 │ 594594 │\n",
       "│ 882a100d29fffff │  9.829211589147905 │ 504610 │\n",
       "│ 882a100d35fffff │ 10.773760522602283 │ 246612 │\n",
       "│ 882a103b15fffff │  40.14235994084762 │  29077 │\n",
       "│ 882a100ae7fffff │ 17.057128245476008 │   2542 │\n",
       "│ 882a1008b9fffff │  9.775451726322805 │ 224118 │\n",
       "│ 882a100da3fffff │ 13.476266866566714 │   5336 │\n",
       "│ 882a1072d5fffff │ 13.100060658578862 │   6924 │\n",
       "│ 882a107745fffff │ 13.864570184983677 │    919 │\n",
       "│ 882a100d37fffff │  11.11603161144446 │  45996 │\n",
       "│        ·        │          ·         │     ·  │\n",
       "│        ·        │          ·         │     ·  │\n",
       "│        ·        │          ·         │     ·  │\n",
       "│ 882a103b19fffff │ 29.437169811320757 │    106 │\n",
       "│ 882a1008e9fffff │ 17.742466666666665 │    150 │\n",
       "│ 882a107287fffff │  10.71086092715232 │    151 │\n",
       "│ 882a100c07fffff │ 11.367704918032786 │    122 │\n",
       "│ 882a100ae5fffff │ 15.114158415841587 │    101 │\n",
       "│ 882a100e83fffff │  13.86840579710145 │    138 │\n",
       "│ 882a107455fffff │ 11.628684210526314 │    190 │\n",
       "│ 882a107269fffff │ 15.572254901960783 │    102 │\n",
       "│ 882a100e03fffff │ 13.148079470198676 │    151 │\n",
       "│ 882a100e17fffff │ 12.087846153846153 │    130 │\n",
       "├─────────────────┴────────────────────┴────────┤\n",
       "│ 504 rows (20 shown)                 3 columns │\n",
       "└───────────────────────────────────────────────┘"
      ]
     },
     "execution_count": null,
     "metadata": {},
     "output_type": "execute_result"
    }
   ],
   "source": [
    "db['t1']"
   ]
  },
  {
   "cell_type": "code",
   "execution_count": 16,
   "metadata": {},
   "outputs": [],
   "source": [
    "# but note that because evaluation is lazy, it will recompute each time.\n",
    "# If you want to avoid that, you can materialize the computation and create a new database. Note there is no need to do this if you don't mind recomputing."
   ]
  },
  {
   "cell_type": "code",
   "execution_count": 17,
   "metadata": {},
   "outputs": [],
   "source": [
    "db = db.hold()"
   ]
  },
  {
   "cell_type": "code",
   "execution_count": 18,
   "metadata": {},
   "outputs": [
    {
     "data": {
      "text/plain": [
       "pyarrow.Table\n",
       "hexid: string\n",
       "amount: double\n",
       "num: int64\n",
       "----\n",
       "hexid: [[\"882a100893fffff\",\"882a10725bfffff\",\"882a1072c9fffff\",\"882a1072c7fffff\",\"882a1072c3fffff\",...,\"882a100c35fffff\",\"882a10745dfffff\",\"882a107621fffff\",\"882a107737fffff\",\"882a1008adfffff\"]]\n",
       "amount: [[9.661533032430288,10.288604039526438,10.324864870461473,11.649603050363378,11.38762527914247,...,11.5295,11.348403361344536,11.974796747967481,10.145294117647058,11.878911564625852]]\n",
       "num: [[426051,421287,386333,203779,89560,...,180,119,123,102,147]]"
      ]
     },
     "execution_count": null,
     "metadata": {},
     "output_type": "execute_result"
    }
   ],
   "source": [
    "# NOTE: maybe confusing to users who now see a new view of their table...\n",
    "# I wonder if caching the relation, or making it a property is the way to go...\n",
    "db['t1']"
   ]
  },
  {
   "cell_type": "code",
   "execution_count": 19,
   "metadata": {},
   "outputs": [],
   "source": [
    "# You can execute duckdb sql on a database, but now you should explicitly mention the table you want to work with (but that's usually what you want anyway, when doing a join.)"
   ]
  },
  {
   "cell_type": "code",
   "execution_count": 22,
   "metadata": {},
   "outputs": [
    {
     "data": {
      "text/plain": [
       "┌─────────────────┬────────────────────┬────────────────────┬─────────────────────┐\n",
       "│      hexid      │      amount1       │      amount2       │       change        │\n",
       "│     varchar     │       double       │       double       │       double        │\n",
       "├─────────────────┼────────────────────┼────────────────────┼─────────────────────┤\n",
       "│ 882a1071adfffff │  69.73084615384616 │ 58.737914798206276 │ -10.992931355639882 │\n",
       "│ 882a100c01fffff │ 27.110503597122303 │  20.74137254901961 │  -6.369131048102695 │\n",
       "│ 882a100e37fffff │  33.03063551401869 │ 28.065557655954635 │  -4.965077858064056 │\n",
       "│ 882a1072e7fffff │  42.25520958083832 │  38.42423076923076 │  -3.830978811607558 │\n",
       "│ 882a1008e9fffff │ 17.742466666666665 │ 14.009843750000002 │ -3.7326229166666636 │\n",
       "│ 882a1008e7fffff │ 14.852932330827066 │ 11.121284403669724 │ -3.7316479271573417 │\n",
       "│ 882a107207fffff │ 16.860051282051284 │ 13.165116279069768 │ -3.6949350029815164 │\n",
       "│ 882a100e85fffff │ 29.665849999999992 │  26.64545454545455 │   -3.02039545454544 │\n",
       "│ 882a100cc1fffff │  18.81431818181818 │  15.84008695652174 │ -2.9742312252964407 │\n",
       "│ 882a10705bfffff │  25.10495283018868 │  22.22838565022421 │  -2.876567179964468 │\n",
       "│        ·        │          ·         │          ·         │           ·         │\n",
       "│        ·        │          ·         │          ·         │           ·         │\n",
       "│        ·        │          ·         │          ·         │           ·         │\n",
       "│ 882a10723bfffff │  36.69252998909488 │  42.57753889674682 │   5.885008907651944 │\n",
       "│ 882a1072e3fffff │  22.58889967637541 │ 28.593956521739123 │   6.005056845363715 │\n",
       "│ 882a107239fffff │  30.49176237623762 │ 36.845988023952096 │   6.354225647714475 │\n",
       "│ 882a107231fffff │  25.71543147208122 │ 33.134042553191485 │   7.418611081110264 │\n",
       "│ 882a103b61fffff │ 38.679219251336896 │  46.58243243243243 │   7.903213181095531 │\n",
       "│ 882a100ee5fffff │ 13.650664869721473 │ 21.770178571428573 │     8.1195137017071 │\n",
       "│ 882a107209fffff │ 16.478663594470046 │ 24.767259036144576 │    8.28859544167453 │\n",
       "│ 882a100813fffff │ 16.437430167597768 │  25.61198275862069 │   9.174552591022923 │\n",
       "│ 882a100d03fffff │ 12.004190371991244 │ 21.602025227750524 │    9.59783485575928 │\n",
       "│ 882a100ebbfffff │ 39.366319648093864 │ 53.304730290456426 │  13.938410642362562 │\n",
       "├─────────────────┴────────────────────┴────────────────────┴─────────────────────┤\n",
       "│ 426 rows (20 shown)                                                   4 columns │\n",
       "└─────────────────────────────────────────────────────────────────────────────────┘"
      ]
     },
     "execution_count": null,
     "metadata": {},
     "output_type": "execute_result"
    }
   ],
   "source": [
    "db.do(\"\"\"\n",
    "select\n",
    "      hexid\n",
    "    , t1.amount\n",
    "        as amount1\n",
    "    , t2.amount\n",
    "        as amount2\n",
    "from\n",
    "    t1\n",
    "inner join\n",
    "    t2\n",
    "using\n",
    "    (hexid)\n",
    "\"\"\").do(\"\"\"\n",
    "select\n",
    "      *\n",
    "    , amount2 - amount1\n",
    "        as change\n",
    "order by\n",
    "    change\n",
    "\"\"\")"
   ]
  },
  {
   "cell_type": "code",
   "execution_count": 21,
   "metadata": {},
   "outputs": [],
   "source": []
  }
 ],
 "metadata": {
  "language_info": {
   "name": "python"
  }
 },
 "nbformat": 4,
 "nbformat_minor": 2
}
