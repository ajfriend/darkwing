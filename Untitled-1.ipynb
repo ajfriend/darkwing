{
 "cells": [
  {
   "cell_type": "code",
   "execution_count": 1,
   "metadata": {},
   "outputs": [],
   "source": []
  },
  {
   "cell_type": "code",
   "execution_count": 5,
   "metadata": {},
   "outputs": [],
   "source": [
    "import darkwing as dw\n",
    "\n",
    "# read from a remote CSV file\n",
    "tbl = dw.Table('https://raw.githubusercontent.com/mcnakhaee/palmerpenguins/refs/heads/master/palmerpenguins/data/penguins.csv')\n",
    "tbl = dw.Table('data/penguins.csv')  # read from a local CSV file\n",
    "\n",
    "df = tbl.df()  # write to Pandas DataFrame\n",
    "dw.Table(df)  # read from Pandas DataFrame\n",
    "\n",
    "df.to_parquet('data/penguins.parquet')  # use Pandas to write to a Parquet file\n",
    "tbl = dw.Table('data/penguins.parquet')  # read from a local Parquet file\n",
    "\n",
    "tbl_arrow = tbl.arrow()  # write to an  Arrow Table\n",
    "tbl = dw.Table(tbl_arrow)  # read from an Arrow Table"
   ]
  },
  {
   "cell_type": "code",
   "execution_count": null,
   "metadata": {},
   "outputs": [],
   "source": []
  }
 ],
 "metadata": {
  "language_info": {
   "name": "python"
  }
 },
 "nbformat": 4,
 "nbformat_minor": 2
}
