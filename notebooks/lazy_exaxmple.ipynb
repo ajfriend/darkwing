{
 "cells": [
  {
   "cell_type": "code",
   "execution_count": 1,
   "metadata": {
    "execution": {
     "iopub.execute_input": "2024-12-09T04:24:22.658621Z",
     "iopub.status.busy": "2024-12-09T04:24:22.657548Z",
     "iopub.status.idle": "2024-12-09T04:24:22.731919Z",
     "shell.execute_reply": "2024-12-09T04:24:22.731632Z",
     "shell.execute_reply.started": "2024-12-09T04:24:22.658589Z"
    }
   },
   "outputs": [],
   "source": [
    "import darkwing as dw"
   ]
  },
  {
   "cell_type": "code",
   "execution_count": 2,
   "metadata": {
    "execution": {
     "iopub.execute_input": "2024-12-09T04:24:22.732315Z",
     "iopub.status.busy": "2024-12-09T04:24:22.732234Z",
     "iopub.status.idle": "2024-12-09T04:24:22.896745Z",
     "shell.execute_reply": "2024-12-09T04:24:22.896466Z",
     "shell.execute_reply.started": "2024-12-09T04:24:22.732308Z"
    }
   },
   "outputs": [
    {
     "data": {
      "text/plain": [
       "['vendor_id',\n",
       " 'pickup_datetime',\n",
       " 'dropoff_datetime',\n",
       " 'passenger_count',\n",
       " 'trip_distance',\n",
       " 'pickup_longitude',\n",
       " 'pickup_latitude',\n",
       " 'rate_code',\n",
       " 'store_and_fwd_flag',\n",
       " 'dropoff_longitude',\n",
       " 'dropoff_latitude',\n",
       " 'payment_type',\n",
       " 'fare_amount',\n",
       " 'surcharge',\n",
       " 'mta_tax',\n",
       " 'tip_amount',\n",
       " 'tolls_amount',\n",
       " 'total_amount']"
      ]
     },
     "execution_count": 2,
     "metadata": {},
     "output_type": "execute_result"
    }
   ],
   "source": [
    "t0 = dw.Table('data/yellow_tripdata_2010-01.parquet')\n",
    "t0.columns"
   ]
  },
  {
   "cell_type": "code",
   "execution_count": 3,
   "metadata": {
    "execution": {
     "iopub.execute_input": "2024-12-09T04:24:22.897881Z",
     "iopub.status.busy": "2024-12-09T04:24:22.897783Z",
     "iopub.status.idle": "2024-12-09T04:24:22.902287Z",
     "shell.execute_reply": "2024-12-09T04:24:22.902104Z",
     "shell.execute_reply.started": "2024-12-09T04:24:22.897874Z"
    }
   },
   "outputs": [
    {
     "data": {
      "text/plain": [
       "┌──────────┐\n",
       "│ num_rows │\n",
       "│ varchar  │\n",
       "├──────────┤\n",
       "│ 1.49e+07 │\n",
       "└──────────┘"
      ]
     },
     "execution_count": 3,
     "metadata": {},
     "output_type": "execute_result"
    }
   ],
   "source": [
    "count_rows = \"select format('{:.2e}', 1.0*count(*)) as num_rows\"\n",
    "t0.do(count_rows)"
   ]
  },
  {
   "cell_type": "code",
   "execution_count": 4,
   "metadata": {
    "execution": {
     "iopub.execute_input": "2024-12-09T04:24:22.902588Z",
     "iopub.status.busy": "2024-12-09T04:24:22.902520Z",
     "iopub.status.idle": "2024-12-09T04:24:22.912593Z",
     "shell.execute_reply": "2024-12-09T04:24:22.912333Z",
     "shell.execute_reply.started": "2024-12-09T04:24:22.902582Z"
    }
   },
   "outputs": [],
   "source": [
    "t1 = t0.do(\n",
    "    'where (pickup_longitude != 0) and (pickup_latitude != 0)',\n",
    "    'where total_amount > 0',\n",
    "    \n",
    "    'select *, h3_latlng_to_cell(pickup_latitude, pickup_longitude, 12) as hexid',\n",
    "    'select * replace ( h3_h3_to_string(hexid) as hexid )',\n",
    "    'select cast(pickup_datetime as timestamp) as ts, hexid, total_amount as amt',\n",
    ")"
   ]
  },
  {
   "cell_type": "code",
   "execution_count": 5,
   "metadata": {
    "execution": {
     "iopub.execute_input": "2024-12-09T04:24:22.912941Z",
     "iopub.status.busy": "2024-12-09T04:24:22.912881Z",
     "iopub.status.idle": "2024-12-09T04:24:22.933836Z",
     "shell.execute_reply": "2024-12-09T04:24:22.933636Z",
     "shell.execute_reply.started": "2024-12-09T04:24:22.912934Z"
    }
   },
   "outputs": [
    {
     "data": {
      "text/plain": [
       "┌─────────────────────┬─────────────────┬───────────────────┐\n",
       "│         ts          │      hexid      │        amt        │\n",
       "│      timestamp      │     varchar     │      double       │\n",
       "├─────────────────────┼─────────────────┼───────────────────┤\n",
       "│ 2010-01-26 07:41:00 │ 8c2a100d45b01ff │               5.0 │\n",
       "│ 2010-01-30 23:31:00 │ 8c2a107258e61ff │              16.3 │\n",
       "│ 2010-01-18 20:22:20 │ 8c2a1008b82b5ff │              12.7 │\n",
       "│ 2010-01-09 01:18:00 │ 8c2a100d65653ff │              14.3 │\n",
       "│ 2010-01-18 19:10:14 │ 8c2a100d22945ff │              6.67 │\n",
       "│ 2010-01-17 09:18:00 │ 8c2a10725ac5bff │               6.6 │\n",
       "│ 2010-01-09 13:49:00 │ 8c2a100d620b7ff │               7.4 │\n",
       "│ 2010-01-09 00:25:00 │ 8c2a1072c86abff │              12.3 │\n",
       "│ 2010-01-27 18:15:00 │ 8c2a100d2bb69ff │              12.0 │\n",
       "│ 2010-01-08 16:05:00 │ 8c2a107250403ff │              10.2 │\n",
       "│          ·          │        ·        │                ·  │\n",
       "│          ·          │        ·        │                ·  │\n",
       "│          ·          │        ·        │                ·  │\n",
       "│ 2010-01-05 16:50:04 │ 8c2a100d2ac47ff │               6.0 │\n",
       "│ 2010-01-03 01:30:26 │ 8c2a100d63201ff │               8.3 │\n",
       "│ 2010-01-26 18:10:00 │ 8c2a100d60839ff │              13.8 │\n",
       "│ 2010-01-26 20:23:00 │ 8c2a1072c9533ff │              15.5 │\n",
       "│ 2010-01-07 19:25:00 │ 8c2a100d654c7ff │               6.8 │\n",
       "│ 2010-01-03 19:00:53 │ 8c2a1008b368dff │ 8.199999999999998 │\n",
       "│ 2010-01-28 14:10:00 │ 8c2a100d666e9ff │               6.4 │\n",
       "│ 2010-01-23 15:52:00 │ 8c2a1008bad2bff │             30.79 │\n",
       "│ 2010-01-27 15:32:00 │ 8c2a100d2280bff │             55.07 │\n",
       "│ 2010-01-01 02:58:00 │ 8c2a100d2aaa9ff │               7.9 │\n",
       "├─────────────────────┴─────────────────┴───────────────────┤\n",
       "│ ? rows (>9999 rows, 20 shown)                   3 columns │\n",
       "└───────────────────────────────────────────────────────────┘"
      ]
     },
     "execution_count": 5,
     "metadata": {},
     "output_type": "execute_result"
    }
   ],
   "source": [
    "t1"
   ]
  },
  {
   "cell_type": "code",
   "execution_count": 6,
   "metadata": {
    "execution": {
     "iopub.execute_input": "2024-12-09T04:24:22.934168Z",
     "iopub.status.busy": "2024-12-09T04:24:22.934103Z",
     "iopub.status.idle": "2024-12-09T04:24:22.938364Z",
     "shell.execute_reply": "2024-12-09T04:24:22.938139Z",
     "shell.execute_reply.started": "2024-12-09T04:24:22.934161Z"
    }
   },
   "outputs": [],
   "source": [
    "t2 = t1.alias('tbl1').do(\"\"\"\n",
    "select\n",
    "      a.hexid\n",
    "    , a.ts as ts1\n",
    "    , b.ts as ts2\n",
    "    , a.amt as amt1\n",
    "    , b.amt as amt2\n",
    "from\n",
    "    tbl1 as a\n",
    "inner join\n",
    "    tbl1 as b\n",
    "using\n",
    "    (hexid)\n",
    "\"\"\")"
   ]
  },
  {
   "cell_type": "code",
   "execution_count": 7,
   "metadata": {
    "execution": {
     "iopub.execute_input": "2024-12-09T04:24:22.938685Z",
     "iopub.status.busy": "2024-12-09T04:24:22.938629Z",
     "iopub.status.idle": "2024-12-09T04:24:24.513617Z",
     "shell.execute_reply": "2024-12-09T04:24:24.513297Z",
     "shell.execute_reply.started": "2024-12-09T04:24:22.938679Z"
    }
   },
   "outputs": [
    {
     "data": {
      "text/plain": [
       "┌─────────────────┬─────────────────────┬─────────────────────┬───────────────────┬───────────────────┐\n",
       "│      hexid      │         ts1         │         ts2         │       amt1        │       amt2        │\n",
       "│     varchar     │      timestamp      │      timestamp      │      double       │      double       │\n",
       "├─────────────────┼─────────────────────┼─────────────────────┼───────────────────┼───────────────────┤\n",
       "│ 8c2a1008b0231ff │ 2010-01-02 13:28:13 │ 2010-01-14 19:35:00 │               7.2 │               6.8 │\n",
       "│ 8c2a100d6c999ff │ 2010-01-02 11:48:34 │ 2010-01-07 14:38:33 │               5.4 │               4.2 │\n",
       "│ 8c2a100888e3dff │ 2010-01-10 14:49:00 │ 2010-01-31 12:54:00 │               5.4 │               6.2 │\n",
       "│ 8c2a1008bb9b1ff │ 2010-01-08 14:46:12 │ 2010-01-16 13:27:51 │              19.4 │               5.8 │\n",
       "│ 8c2a103b0374dff │ 2010-01-08 16:03:15 │ 2010-01-04 23:48:48 │              51.0 │              32.3 │\n",
       "│ 8c2a100892491ff │ 2010-01-06 18:56:38 │ 2010-01-09 08:44:00 │              13.2 │               4.6 │\n",
       "│ 8c2a107218303ff │ 2010-01-23 19:23:39 │ 2010-01-31 14:17:00 │              11.7 │              11.4 │\n",
       "│ 8c2a100d65449ff │ 2010-01-07 21:26:16 │ 2010-01-21 13:30:31 │ 8.099999999999998 │              15.4 │\n",
       "│ 8c2a100decaa1ff │ 2010-01-30 04:17:36 │ 2010-01-20 11:16:00 │               6.7 │             30.37 │\n",
       "│ 8c2a100d66d61ff │ 2010-01-26 17:58:09 │ 2010-01-05 18:16:00 │               6.0 │               6.0 │\n",
       "│        ·        │          ·          │          ·          │                ·  │                ·  │\n",
       "│        ·        │          ·          │          ·          │                ·  │                ·  │\n",
       "│        ·        │          ·          │          ·          │                ·  │                ·  │\n",
       "│ 8c2a100895911ff │ 2010-01-15 23:48:00 │ 2010-01-26 23:42:15 │              10.7 │               8.0 │\n",
       "│ 8c2a100f52813ff │ 2010-01-05 17:53:29 │ 2010-01-14 16:50:57 │              32.0 │             26.17 │\n",
       "│ 8c2a1008b3449ff │ 2010-01-29 22:29:46 │ 2010-01-02 11:40:27 │               8.5 │ 8.199999999999998 │\n",
       "│ 8c2a1072cce63ff │ 2010-01-16 09:55:00 │ 2010-01-22 20:33:10 │               7.4 │              8.62 │\n",
       "│ 8c2a1008b2467ff │ 2010-01-20 12:21:22 │ 2010-01-24 00:44:00 │             25.17 │              11.9 │\n",
       "│ 8c2a100d695b7ff │ 2010-01-29 21:54:33 │ 2010-01-14 09:27:45 │               7.1 │              7.53 │\n",
       "│ 8c2a1072192b7ff │ 2010-01-21 10:54:51 │ 2010-01-14 09:01:00 │               6.0 │               7.4 │\n",
       "│ 8c2a1008b8d95ff │ 2010-01-04 11:48:44 │ 2010-01-27 11:04:52 │             23.89 │               8.4 │\n",
       "│ 8c2a1008bb955ff │ 2010-01-12 05:55:51 │ 2010-01-23 15:51:00 │             60.08 │               5.2 │\n",
       "│ 8c2a100d61407ff │ 2010-01-11 19:14:30 │ 2010-01-28 19:51:53 │               9.6 │               5.9 │\n",
       "├─────────────────┴─────────────────────┴─────────────────────┴───────────────────┴───────────────────┤\n",
       "│ ? rows (>9999 rows, 20 shown)                                                             5 columns │\n",
       "└─────────────────────────────────────────────────────────────────────────────────────────────────────┘"
      ]
     },
     "execution_count": 7,
     "metadata": {},
     "output_type": "execute_result"
    }
   ],
   "source": [
    "# renders quickly because DuckDB is computing just a few rows to create a preview\n",
    "t2"
   ]
  },
  {
   "cell_type": "code",
   "execution_count": 8,
   "metadata": {
    "execution": {
     "iopub.execute_input": "2024-12-09T04:24:24.513985Z",
     "iopub.status.busy": "2024-12-09T04:24:24.513912Z",
     "iopub.status.idle": "2024-12-09T04:25:15.268479Z",
     "shell.execute_reply": "2024-12-09T04:25:15.268172Z",
     "shell.execute_reply.started": "2024-12-09T04:24:24.513978Z"
    }
   },
   "outputs": [
    {
     "data": {
      "text/plain": [
       "┌──────────┐\n",
       "│ num_rows │\n",
       "│ varchar  │\n",
       "├──────────┤\n",
       "│ 1.05e+10 │\n",
       "└──────────┘"
      ]
     },
     "execution_count": 8,
     "metadata": {},
     "output_type": "execute_result"
    }
   ],
   "source": [
    "# renders slowly because you have to do the full join\n",
    "t2.do(count_rows)"
   ]
  },
  {
   "cell_type": "code",
   "execution_count": 9,
   "metadata": {
    "execution": {
     "iopub.execute_input": "2024-12-09T04:25:15.268854Z",
     "iopub.status.busy": "2024-12-09T04:25:15.268776Z",
     "iopub.status.idle": "2024-12-09T04:25:15.270338Z",
     "shell.execute_reply": "2024-12-09T04:25:15.270136Z",
     "shell.execute_reply.started": "2024-12-09T04:25:15.268846Z"
    }
   },
   "outputs": [],
   "source": [
    "# print(str(t2.rel.explain()))"
   ]
  },
  {
   "cell_type": "code",
   "execution_count": 10,
   "metadata": {
    "execution": {
     "iopub.execute_input": "2024-12-09T04:25:15.270639Z",
     "iopub.status.busy": "2024-12-09T04:25:15.270574Z",
     "iopub.status.idle": "2024-12-09T04:25:15.294835Z",
     "shell.execute_reply": "2024-12-09T04:25:15.294568Z",
     "shell.execute_reply.started": "2024-12-09T04:25:15.270632Z"
    }
   },
   "outputs": [],
   "source": [
    "t3 = t2.do(\n",
    "    'where ts1 < ts2',\n",
    "    'where ts2 < ts1 + interval 1 minute',\n",
    "    'select hexid, max(abs(amt1-amt2)) as diff group by 1',\n",
    "    'where diff > 0'\n",
    "    'order by diff',\n",
    ")"
   ]
  },
  {
   "cell_type": "code",
   "execution_count": 11,
   "metadata": {
    "execution": {
     "iopub.execute_input": "2024-12-09T04:25:15.295196Z",
     "iopub.status.busy": "2024-12-09T04:25:15.295126Z",
     "iopub.status.idle": "2024-12-09T04:26:11.851289Z",
     "shell.execute_reply": "2024-12-09T04:26:11.851043Z",
     "shell.execute_reply.started": "2024-12-09T04:25:15.295188Z"
    }
   },
   "outputs": [
    {
     "data": {
      "text/plain": [
       "┌──────────┐\n",
       "│ num_rows │\n",
       "│ varchar  │\n",
       "├──────────┤\n",
       "│ 2.86e+04 │\n",
       "└──────────┘"
      ]
     },
     "execution_count": 11,
     "metadata": {},
     "output_type": "execute_result"
    }
   ],
   "source": [
    "t3.do(count_rows)"
   ]
  },
  {
   "cell_type": "code",
   "execution_count": 12,
   "metadata": {
    "execution": {
     "iopub.execute_input": "2024-12-09T04:26:11.853050Z",
     "iopub.status.busy": "2024-12-09T04:26:11.852806Z",
     "iopub.status.idle": "2024-12-09T04:27:11.434159Z",
     "shell.execute_reply": "2024-12-09T04:27:11.433927Z",
     "shell.execute_reply.started": "2024-12-09T04:26:11.853039Z"
    }
   },
   "outputs": [
    {
     "data": {
      "text/html": [
       "<div>\n",
       "<style scoped>\n",
       "    .dataframe tbody tr th:only-of-type {\n",
       "        vertical-align: middle;\n",
       "    }\n",
       "\n",
       "    .dataframe tbody tr th {\n",
       "        vertical-align: top;\n",
       "    }\n",
       "\n",
       "    .dataframe thead th {\n",
       "        text-align: right;\n",
       "    }\n",
       "</style>\n",
       "<table border=\"1\" class=\"dataframe\">\n",
       "  <thead>\n",
       "    <tr style=\"text-align: right;\">\n",
       "      <th></th>\n",
       "      <th>hexid</th>\n",
       "      <th>diff</th>\n",
       "    </tr>\n",
       "  </thead>\n",
       "  <tbody>\n",
       "    <tr>\n",
       "      <th>0</th>\n",
       "      <td>8c2a100d2d12bff</td>\n",
       "      <td>0.01</td>\n",
       "    </tr>\n",
       "    <tr>\n",
       "      <th>1</th>\n",
       "      <td>8c2a100d2a94dff</td>\n",
       "      <td>0.02</td>\n",
       "    </tr>\n",
       "    <tr>\n",
       "      <th>2</th>\n",
       "      <td>8c2a107253359ff</td>\n",
       "      <td>0.02</td>\n",
       "    </tr>\n",
       "    <tr>\n",
       "      <th>3</th>\n",
       "      <td>8c2a100d67a93ff</td>\n",
       "      <td>0.02</td>\n",
       "    </tr>\n",
       "    <tr>\n",
       "      <th>4</th>\n",
       "      <td>8c2a100891611ff</td>\n",
       "      <td>0.02</td>\n",
       "    </tr>\n",
       "    <tr>\n",
       "      <th>...</th>\n",
       "      <td>...</td>\n",
       "      <td>...</td>\n",
       "    </tr>\n",
       "    <tr>\n",
       "      <th>28563</th>\n",
       "      <td>8c2a10aa2cb13ff</td>\n",
       "      <td>175.88</td>\n",
       "    </tr>\n",
       "    <tr>\n",
       "      <th>28564</th>\n",
       "      <td>8c2a100f52815ff</td>\n",
       "      <td>180.45</td>\n",
       "    </tr>\n",
       "    <tr>\n",
       "      <th>28565</th>\n",
       "      <td>8c2a108f664e7ff</td>\n",
       "      <td>203.00</td>\n",
       "    </tr>\n",
       "    <tr>\n",
       "      <th>28566</th>\n",
       "      <td>8c2a100d676d7ff</td>\n",
       "      <td>212.37</td>\n",
       "    </tr>\n",
       "    <tr>\n",
       "      <th>28567</th>\n",
       "      <td>8c2a10d76aa37ff</td>\n",
       "      <td>213.57</td>\n",
       "    </tr>\n",
       "  </tbody>\n",
       "</table>\n",
       "<p>28568 rows × 2 columns</p>\n",
       "</div>"
      ],
      "text/plain": [
       "                 hexid    diff\n",
       "0      8c2a100d2d12bff    0.01\n",
       "1      8c2a100d2a94dff    0.02\n",
       "2      8c2a107253359ff    0.02\n",
       "3      8c2a100d67a93ff    0.02\n",
       "4      8c2a100891611ff    0.02\n",
       "...                ...     ...\n",
       "28563  8c2a10aa2cb13ff  175.88\n",
       "28564  8c2a100f52815ff  180.45\n",
       "28565  8c2a108f664e7ff  203.00\n",
       "28566  8c2a100d676d7ff  212.37\n",
       "28567  8c2a10d76aa37ff  213.57\n",
       "\n",
       "[28568 rows x 2 columns]"
      ]
     },
     "execution_count": 12,
     "metadata": {},
     "output_type": "execute_result"
    }
   ],
   "source": [
    "t3.df()"
   ]
  },
  {
   "cell_type": "code",
   "execution_count": 13,
   "metadata": {
    "execution": {
     "iopub.execute_input": "2024-12-09T04:27:11.434646Z",
     "iopub.status.busy": "2024-12-09T04:27:11.434561Z",
     "iopub.status.idle": "2024-12-09T04:27:11.436023Z",
     "shell.execute_reply": "2024-12-09T04:27:11.435815Z",
     "shell.execute_reply.started": "2024-12-09T04:27:11.434638Z"
    }
   },
   "outputs": [],
   "source": [
    "# note the df will be different from what you'd get if you preview t3\n",
    "# t3\n",
    "# meh, maybe we don't care here"
   ]
  },
  {
   "cell_type": "code",
   "execution_count": null,
   "metadata": {},
   "outputs": [],
   "source": []
  }
 ],
 "metadata": {
  "kernelspec": {
   "display_name": "Python 3 (ipykernel)",
   "language": "python",
   "name": "python3"
  },
  "language_info": {
   "codemirror_mode": {
    "name": "ipython",
    "version": 3
   },
   "file_extension": ".py",
   "mimetype": "text/x-python",
   "name": "python",
   "nbconvert_exporter": "python",
   "pygments_lexer": "ipython3",
   "version": "3.12.2"
  }
 },
 "nbformat": 4,
 "nbformat_minor": 4
}
