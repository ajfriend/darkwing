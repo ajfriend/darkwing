{
 "cells": [
  {
   "cell_type": "code",
   "execution_count": 1,
   "metadata": {
    "execution": {
     "iopub.execute_input": "2024-12-28T22:50:53.469497Z",
     "iopub.status.busy": "2024-12-28T22:50:53.469212Z",
     "iopub.status.idle": "2024-12-28T22:50:53.763571Z",
     "shell.execute_reply": "2024-12-28T22:50:53.763299Z",
     "shell.execute_reply.started": "2024-12-28T22:50:53.469471Z"
    }
   },
   "outputs": [],
   "source": [
    "import duckboat as uck\n",
    "import pandas as pd"
   ]
  },
  {
   "cell_type": "code",
   "execution_count": 71,
   "metadata": {
    "execution": {
     "iopub.execute_input": "2024-12-29T00:26:20.655186Z",
     "iopub.status.busy": "2024-12-29T00:26:20.654588Z",
     "iopub.status.idle": "2024-12-29T00:26:20.662167Z",
     "shell.execute_reply": "2024-12-29T00:26:20.661090Z",
     "shell.execute_reply.started": "2024-12-29T00:26:20.655145Z"
    }
   },
   "outputs": [
    {
     "data": {
      "text/plain": [
       "{'a': [1], 'b': [2], 'c': [3]}"
      ]
     },
     "execution_count": 71,
     "metadata": {},
     "output_type": "execute_result"
    }
   ],
   "source": []
  },
  {
   "cell_type": "code",
   "execution_count": 74,
   "metadata": {
    "execution": {
     "iopub.execute_input": "2024-12-29T00:26:51.980414Z",
     "iopub.status.busy": "2024-12-29T00:26:51.979462Z",
     "iopub.status.idle": "2024-12-29T00:26:51.990654Z",
     "shell.execute_reply": "2024-12-29T00:26:51.989832Z",
     "shell.execute_reply.started": "2024-12-29T00:26:51.980319Z"
    }
   },
   "outputs": [
    {
     "data": {
      "text/plain": [
       "┌───────┬───────┬───────┐\n",
       "│   a   │   b   │   c   │\n",
       "│ int64 │ int64 │ int64 │\n",
       "├───────┼───────┼───────┤\n",
       "│     1 │     2 │     3 │\n",
       "└───────┴───────┴───────┘"
      ]
     },
     "execution_count": 74,
     "metadata": {},
     "output_type": "execute_result"
    }
   ],
   "source": [
    "d = dict(\n",
    "    a = [1],\n",
    "    b = [2],\n",
    "    c = [3],\n",
    ")\n",
    "\n",
    "df = pd.DataFrame(d)\n",
    "t = uck.Table(df)\n",
    "t"
   ]
  },
  {
   "cell_type": "code",
   "execution_count": 79,
   "metadata": {
    "execution": {
     "iopub.execute_input": "2024-12-29T00:27:52.569051Z",
     "iopub.status.busy": "2024-12-29T00:27:52.568383Z",
     "iopub.status.idle": "2024-12-29T00:27:52.576775Z",
     "shell.execute_reply": "2024-12-29T00:27:52.576049Z",
     "shell.execute_reply.started": "2024-12-29T00:27:52.568998Z"
    }
   },
   "outputs": [
    {
     "data": {
      "text/plain": [
       "{'a': np.int64(1), 'b': np.int64(2), 'c': np.int64(3)}"
      ]
     },
     "execution_count": 79,
     "metadata": {},
     "output_type": "execute_result"
    }
   ],
   "source": [
    "t.asdict()"
   ]
  },
  {
   "cell_type": "code",
   "execution_count": 77,
   "metadata": {
    "execution": {
     "iopub.execute_input": "2024-12-29T00:27:22.156150Z",
     "iopub.status.busy": "2024-12-29T00:27:22.155608Z",
     "iopub.status.idle": "2024-12-29T00:27:22.164264Z",
     "shell.execute_reply": "2024-12-29T00:27:22.163371Z",
     "shell.execute_reply.started": "2024-12-29T00:27:22.156110Z"
    }
   },
   "outputs": [
    {
     "data": {
      "text/plain": [
       "{'a': np.int64(1), 'b': np.int64(2), 'c': np.int64(3)}"
      ]
     },
     "execution_count": 77,
     "metadata": {},
     "output_type": "execute_result"
    }
   ],
   "source": [
    "t.do(dict)"
   ]
  },
  {
   "cell_type": "code",
   "execution_count": 56,
   "metadata": {
    "execution": {
     "iopub.execute_input": "2024-12-28T23:24:21.009735Z",
     "iopub.status.busy": "2024-12-28T23:24:21.009071Z",
     "iopub.status.idle": "2024-12-28T23:24:21.014511Z",
     "shell.execute_reply": "2024-12-28T23:24:21.013576Z",
     "shell.execute_reply.started": "2024-12-28T23:24:21.009696Z"
    }
   },
   "outputs": [],
   "source": []
  },
  {
   "cell_type": "code",
   "execution_count": 69,
   "metadata": {
    "execution": {
     "iopub.execute_input": "2024-12-28T23:27:04.845617Z",
     "iopub.status.busy": "2024-12-28T23:27:04.844637Z",
     "iopub.status.idle": "2024-12-28T23:27:04.855504Z",
     "shell.execute_reply": "2024-12-28T23:27:04.854730Z",
     "shell.execute_reply.started": "2024-12-28T23:27:04.845574Z"
    }
   },
   "outputs": [],
   "source": [
    "import numpy as np\n",
    "df = pd.DataFrame(np.zeros((17,4)))\n",
    "t = uck.Table(df).hide()"
   ]
  },
  {
   "cell_type": "code",
   "execution_count": 70,
   "metadata": {
    "execution": {
     "iopub.execute_input": "2024-12-28T23:27:05.513907Z",
     "iopub.status.busy": "2024-12-28T23:27:05.513363Z",
     "iopub.status.idle": "2024-12-28T23:27:05.520104Z",
     "shell.execute_reply": "2024-12-28T23:27:05.519190Z",
     "shell.execute_reply.started": "2024-12-28T23:27:05.513866Z"
    }
   },
   "outputs": [
    {
     "data": {
      "text/plain": [
       "'<Table(..., _hide=True)>'"
      ]
     },
     "execution_count": 70,
     "metadata": {},
     "output_type": "execute_result"
    }
   ],
   "source": [
    "t.rowcols()"
   ]
  },
  {
   "cell_type": "code",
   "execution_count": 54,
   "metadata": {
    "execution": {
     "iopub.execute_input": "2024-12-28T23:20:42.562578Z",
     "iopub.status.busy": "2024-12-28T23:20:42.562063Z",
     "iopub.status.idle": "2024-12-28T23:20:42.569773Z",
     "shell.execute_reply": "2024-12-28T23:20:42.568872Z",
     "shell.execute_reply.started": "2024-12-28T23:20:42.562537Z"
    }
   },
   "outputs": [],
   "source": [
    "import duckboat as uck\n",
    "import pandas as pd\n",
    "\n",
    "\n",
    "def test_repr():\n",
    "    from textwrap import dedent\n",
    "\n",
    "    df = pd.DataFrame({'a': [0]})\n",
    "    out = \"\"\"\n",
    "    ┌───────┐\n",
    "    │   a   │\n",
    "    │ int64 │\n",
    "    ├───────┤\n",
    "    │     0 │\n",
    "    └───────┘\n",
    "    \"\"\"\n",
    "    out = dedent(out)\n",
    "    out = out.strip()\n",
    "    out += '\\n'\n",
    "\n",
    "\n",
    "    t = uck.Table(df)\n",
    "    print(t)\n",
    "    print(out)\n",
    "\n",
    "    # t = uck.Table(df, _hide=False)\n",
    "    # assert repr(t) == out\n",
    "\n",
    "    # t = uck.Table(df, _hide=True)\n",
    "    # assert repr(t) == '<Table(..., _hide=True)>'"
   ]
  },
  {
   "cell_type": "code",
   "execution_count": 55,
   "metadata": {
    "execution": {
     "iopub.execute_input": "2024-12-28T23:20:42.831520Z",
     "iopub.status.busy": "2024-12-28T23:20:42.831014Z",
     "iopub.status.idle": "2024-12-28T23:20:42.838987Z",
     "shell.execute_reply": "2024-12-28T23:20:42.838336Z",
     "shell.execute_reply.started": "2024-12-28T23:20:42.831488Z"
    }
   },
   "outputs": [
    {
     "name": "stdout",
     "output_type": "stream",
     "text": [
      "┌───────┐\n",
      "│   a   │\n",
      "│ int64 │\n",
      "├───────┤\n",
      "│     0 │\n",
      "└───────┘\n",
      "\n",
      "┌───────┐\n",
      "│   a   │\n",
      "│ int64 │\n",
      "├───────┤\n",
      "│     0 │\n",
      "└───────┘\n",
      "\n"
     ]
    }
   ],
   "source": [
    "test_repr()"
   ]
  },
  {
   "cell_type": "code",
   "execution_count": 49,
   "metadata": {
    "execution": {
     "iopub.execute_input": "2024-12-28T23:17:56.633170Z",
     "iopub.status.busy": "2024-12-28T23:17:56.632365Z",
     "iopub.status.idle": "2024-12-28T23:17:56.645381Z",
     "shell.execute_reply": "2024-12-28T23:17:56.644733Z",
     "shell.execute_reply.started": "2024-12-28T23:17:56.633132Z"
    }
   },
   "outputs": [
    {
     "name": "stdout",
     "output_type": "stream",
     "text": [
      "┌───────┐\n",
      "│   a   │\n",
      "│ int64 │\n",
      "├───────┤\n",
      "│     0 │\n",
      "└───────┘\n",
      "\n"
     ]
    },
    {
     "data": {
      "text/plain": [
       "True"
      ]
     },
     "execution_count": 49,
     "metadata": {},
     "output_type": "execute_result"
    }
   ],
   "source": [
    "from textwrap import dedent\n",
    "\n",
    "t = uck.Table(df, _hide=False)\n",
    "\n",
    "print(repr(t))\n",
    "\n",
    "out = \"\"\"\n",
    "┌───────┐\n",
    "│   a   │\n",
    "│ int64 │\n",
    "├───────┤\n",
    "│     0 │\n",
    "└───────┘\n",
    "\"\"\"\n",
    "out = out.strip()\n",
    "out = dedent(out)\n",
    "out += '\\n'\n",
    "repr(t) == out"
   ]
  },
  {
   "cell_type": "code",
   "execution_count": 47,
   "metadata": {
    "execution": {
     "iopub.execute_input": "2024-12-28T23:17:29.211603Z",
     "iopub.status.busy": "2024-12-28T23:17:29.211058Z",
     "iopub.status.idle": "2024-12-28T23:17:29.218285Z",
     "shell.execute_reply": "2024-12-28T23:17:29.217349Z",
     "shell.execute_reply.started": "2024-12-28T23:17:29.211565Z"
    }
   },
   "outputs": [
    {
     "data": {
      "text/plain": [
       "'┌───────┐\\n│   a   │\\n│ int64 │\\n├───────┤\\n│     0 │\\n└───────┘'"
      ]
     },
     "execution_count": 47,
     "metadata": {},
     "output_type": "execute_result"
    }
   ],
   "source": [
    "out"
   ]
  },
  {
   "cell_type": "code",
   "execution_count": 45,
   "metadata": {
    "execution": {
     "iopub.execute_input": "2024-12-28T23:17:11.598035Z",
     "iopub.status.busy": "2024-12-28T23:17:11.597681Z",
     "iopub.status.idle": "2024-12-28T23:17:11.602592Z",
     "shell.execute_reply": "2024-12-28T23:17:11.601787Z",
     "shell.execute_reply.started": "2024-12-28T23:17:11.597991Z"
    }
   },
   "outputs": [
    {
     "name": "stdout",
     "output_type": "stream",
     "text": [
      "┌───────┐\n",
      "│   a   │\n",
      "│ int64 │\n",
      "├───────┤\n",
      "│     0 │\n",
      "└───────┘\n"
     ]
    }
   ],
   "source": [
    "print(out)"
   ]
  },
  {
   "cell_type": "code",
   "execution_count": null,
   "metadata": {},
   "outputs": [],
   "source": []
  },
  {
   "cell_type": "code",
   "execution_count": 5,
   "metadata": {
    "execution": {
     "iopub.execute_input": "2024-12-28T22:50:54.957165Z",
     "iopub.status.busy": "2024-12-28T22:50:54.956533Z",
     "iopub.status.idle": "2024-12-28T22:50:54.963443Z",
     "shell.execute_reply": "2024-12-28T22:50:54.962244Z",
     "shell.execute_reply.started": "2024-12-28T22:50:54.957120Z"
    }
   },
   "outputs": [],
   "source": [
    "df = pd.DataFrame({'a': [0]})"
   ]
  },
  {
   "cell_type": "code",
   "execution_count": 6,
   "metadata": {
    "execution": {
     "iopub.execute_input": "2024-12-28T22:50:55.204667Z",
     "iopub.status.busy": "2024-12-28T22:50:55.204175Z",
     "iopub.status.idle": "2024-12-28T22:50:55.211495Z",
     "shell.execute_reply": "2024-12-28T22:50:55.210501Z",
     "shell.execute_reply.started": "2024-12-28T22:50:55.204634Z"
    }
   },
   "outputs": [],
   "source": [
    "f = 'select a + 1 as a'\n",
    "t = uck.Table(df)"
   ]
  },
  {
   "cell_type": "code",
   "execution_count": 22,
   "metadata": {
    "execution": {
     "iopub.execute_input": "2024-12-28T22:58:58.028518Z",
     "iopub.status.busy": "2024-12-28T22:58:58.027963Z",
     "iopub.status.idle": "2024-12-28T22:58:58.046205Z",
     "shell.execute_reply": "2024-12-28T22:58:58.045675Z",
     "shell.execute_reply.started": "2024-12-28T22:58:58.028479Z"
    }
   },
   "outputs": [
    {
     "data": {
      "text/html": [
       "<div>\n",
       "<style scoped>\n",
       "    .dataframe tbody tr th:only-of-type {\n",
       "        vertical-align: middle;\n",
       "    }\n",
       "\n",
       "    .dataframe tbody tr th {\n",
       "        vertical-align: top;\n",
       "    }\n",
       "\n",
       "    .dataframe thead th {\n",
       "        text-align: right;\n",
       "    }\n",
       "</style>\n",
       "<table border=\"1\" class=\"dataframe\">\n",
       "  <thead>\n",
       "    <tr style=\"text-align: right;\">\n",
       "      <th></th>\n",
       "      <th>a</th>\n",
       "    </tr>\n",
       "  </thead>\n",
       "  <tbody>\n",
       "    <tr>\n",
       "      <th>0</th>\n",
       "      <td>0</td>\n",
       "    </tr>\n",
       "  </tbody>\n",
       "</table>\n",
       "</div>"
      ],
      "text/plain": [
       "   a\n",
       "0  0"
      ]
     },
     "execution_count": 22,
     "metadata": {},
     "output_type": "execute_result"
    }
   ],
   "source": [
    "t.hold('pandas')"
   ]
  },
  {
   "cell_type": "code",
   "execution_count": 24,
   "metadata": {
    "execution": {
     "iopub.execute_input": "2024-12-28T22:59:03.861317Z",
     "iopub.status.busy": "2024-12-28T22:59:03.860500Z",
     "iopub.status.idle": "2024-12-28T22:59:03.870293Z",
     "shell.execute_reply": "2024-12-28T22:59:03.869588Z",
     "shell.execute_reply.started": "2024-12-28T22:59:03.861279Z"
    }
   },
   "outputs": [
    {
     "data": {
      "text/html": [
       "<div>\n",
       "<style scoped>\n",
       "    .dataframe tbody tr th:only-of-type {\n",
       "        vertical-align: middle;\n",
       "    }\n",
       "\n",
       "    .dataframe tbody tr th {\n",
       "        vertical-align: top;\n",
       "    }\n",
       "\n",
       "    .dataframe thead th {\n",
       "        text-align: right;\n",
       "    }\n",
       "</style>\n",
       "<table border=\"1\" class=\"dataframe\">\n",
       "  <thead>\n",
       "    <tr style=\"text-align: right;\">\n",
       "      <th></th>\n",
       "      <th>a</th>\n",
       "    </tr>\n",
       "  </thead>\n",
       "  <tbody>\n",
       "    <tr>\n",
       "      <th>0</th>\n",
       "      <td>0</td>\n",
       "    </tr>\n",
       "  </tbody>\n",
       "</table>\n",
       "</div>"
      ],
      "text/plain": [
       "   a\n",
       "0  0"
      ]
     },
     "execution_count": 24,
     "metadata": {},
     "output_type": "execute_result"
    }
   ],
   "source": [
    "t.df()"
   ]
  },
  {
   "cell_type": "code",
   "execution_count": 25,
   "metadata": {
    "execution": {
     "iopub.execute_input": "2024-12-28T22:59:29.953134Z",
     "iopub.status.busy": "2024-12-28T22:59:29.952642Z",
     "iopub.status.idle": "2024-12-28T22:59:29.962447Z",
     "shell.execute_reply": "2024-12-28T22:59:29.961696Z",
     "shell.execute_reply.started": "2024-12-28T22:59:29.953100Z"
    }
   },
   "outputs": [
    {
     "data": {
      "text/html": [
       "<div>\n",
       "<style scoped>\n",
       "    .dataframe tbody tr th:only-of-type {\n",
       "        vertical-align: middle;\n",
       "    }\n",
       "\n",
       "    .dataframe tbody tr th {\n",
       "        vertical-align: top;\n",
       "    }\n",
       "\n",
       "    .dataframe thead th {\n",
       "        text-align: right;\n",
       "    }\n",
       "</style>\n",
       "<table border=\"1\" class=\"dataframe\">\n",
       "  <thead>\n",
       "    <tr style=\"text-align: right;\">\n",
       "      <th></th>\n",
       "      <th>a</th>\n",
       "    </tr>\n",
       "  </thead>\n",
       "  <tbody>\n",
       "    <tr>\n",
       "      <th>0</th>\n",
       "      <td>0</td>\n",
       "    </tr>\n",
       "  </tbody>\n",
       "</table>\n",
       "</div>"
      ],
      "text/plain": [
       "   a\n",
       "0  0"
      ]
     },
     "execution_count": 25,
     "metadata": {},
     "output_type": "execute_result"
    }
   ],
   "source": [
    "t.do('pandas')"
   ]
  },
  {
   "cell_type": "code",
   "execution_count": 7,
   "metadata": {
    "execution": {
     "iopub.execute_input": "2024-12-28T22:50:55.478455Z",
     "iopub.status.busy": "2024-12-28T22:50:55.477609Z",
     "iopub.status.idle": "2024-12-28T22:50:55.490718Z",
     "shell.execute_reply": "2024-12-28T22:50:55.490222Z",
     "shell.execute_reply.started": "2024-12-28T22:50:55.478416Z"
    }
   },
   "outputs": [
    {
     "data": {
      "text/plain": [
       "┌───────┐\n",
       "│   a   │\n",
       "│ int64 │\n",
       "├───────┤\n",
       "│     3 │\n",
       "└───────┘"
      ]
     },
     "execution_count": 7,
     "metadata": {},
     "output_type": "execute_result"
    }
   ],
   "source": [
    "t.do(f).do(f).do(f)"
   ]
  },
  {
   "cell_type": "code",
   "execution_count": 8,
   "metadata": {
    "execution": {
     "iopub.execute_input": "2024-12-28T22:51:10.291599Z",
     "iopub.status.busy": "2024-12-28T22:51:10.290893Z",
     "iopub.status.idle": "2024-12-28T22:51:10.303033Z",
     "shell.execute_reply": "2024-12-28T22:51:10.302297Z",
     "shell.execute_reply.started": "2024-12-28T22:51:10.291545Z"
    }
   },
   "outputs": [
    {
     "data": {
      "text/plain": [
       "┌───────┐\n",
       "│   a   │\n",
       "│ int64 │\n",
       "├───────┤\n",
       "│     3 │\n",
       "└───────┘"
      ]
     },
     "execution_count": 8,
     "metadata": {},
     "output_type": "execute_result"
    }
   ],
   "source": [
    "t.do(f, f, f)"
   ]
  },
  {
   "cell_type": "code",
   "execution_count": 9,
   "metadata": {
    "execution": {
     "iopub.execute_input": "2024-12-28T22:51:36.542945Z",
     "iopub.status.busy": "2024-12-28T22:51:36.541783Z",
     "iopub.status.idle": "2024-12-28T22:51:36.556561Z",
     "shell.execute_reply": "2024-12-28T22:51:36.555649Z",
     "shell.execute_reply.started": "2024-12-28T22:51:36.542901Z"
    }
   },
   "outputs": [
    {
     "data": {
      "text/plain": [
       "┌───────┐\n",
       "│   a   │\n",
       "│ int64 │\n",
       "├───────┤\n",
       "│     3 │\n",
       "└───────┘"
      ]
     },
     "execution_count": 9,
     "metadata": {},
     "output_type": "execute_result"
    }
   ],
   "source": [
    "fs = [f, f, f]\n",
    "t.do(fs)"
   ]
  },
  {
   "cell_type": "code",
   "execution_count": 10,
   "metadata": {
    "execution": {
     "iopub.execute_input": "2024-12-28T22:51:41.318982Z",
     "iopub.status.busy": "2024-12-28T22:51:41.318027Z",
     "iopub.status.idle": "2024-12-28T22:51:41.330401Z",
     "shell.execute_reply": "2024-12-28T22:51:41.329598Z",
     "shell.execute_reply.started": "2024-12-28T22:51:41.318941Z"
    }
   },
   "outputs": [
    {
     "data": {
      "text/plain": [
       "┌───────┐\n",
       "│   a   │\n",
       "│ int64 │\n",
       "├───────┤\n",
       "│     3 │\n",
       "└───────┘"
      ]
     },
     "execution_count": 10,
     "metadata": {},
     "output_type": "execute_result"
    }
   ],
   "source": [
    "t.do(*fs)"
   ]
  },
  {
   "cell_type": "code",
   "execution_count": 12,
   "metadata": {
    "execution": {
     "iopub.execute_input": "2024-12-28T22:52:23.707043Z",
     "iopub.status.busy": "2024-12-28T22:52:23.706283Z",
     "iopub.status.idle": "2024-12-28T22:52:23.725041Z",
     "shell.execute_reply": "2024-12-28T22:52:23.724463Z",
     "shell.execute_reply.started": "2024-12-28T22:52:23.706999Z"
    }
   },
   "outputs": [
    {
     "data": {
      "text/plain": [
       "┌───────┐\n",
       "│   a   │\n",
       "│ int64 │\n",
       "├───────┤\n",
       "│     6 │\n",
       "└───────┘"
      ]
     },
     "execution_count": 12,
     "metadata": {},
     "output_type": "execute_result"
    }
   ],
   "source": [
    "t.do(f, [f], [f, [[f, f], f]])"
   ]
  },
  {
   "cell_type": "code",
   "execution_count": 16,
   "metadata": {
    "execution": {
     "iopub.execute_input": "2024-12-28T22:53:38.149925Z",
     "iopub.status.busy": "2024-12-28T22:53:38.148640Z",
     "iopub.status.idle": "2024-12-28T22:53:38.165239Z",
     "shell.execute_reply": "2024-12-28T22:53:38.164591Z",
     "shell.execute_reply.started": "2024-12-28T22:53:38.149882Z"
    }
   },
   "outputs": [
    {
     "data": {
      "text/plain": [
       "┌───────┐\n",
       "│   a   │\n",
       "│ int64 │\n",
       "├───────┤\n",
       "│     2 │\n",
       "└───────┘"
      ]
     },
     "execution_count": 16,
     "metadata": {},
     "output_type": "execute_result"
    }
   ],
   "source": [
    "def foo(x):\n",
    "    return x.do('select a + 2 as a')\n",
    "\n",
    "foo(t)"
   ]
  },
  {
   "cell_type": "code",
   "execution_count": 18,
   "metadata": {
    "execution": {
     "iopub.execute_input": "2024-12-28T22:53:45.639243Z",
     "iopub.status.busy": "2024-12-28T22:53:45.638563Z",
     "iopub.status.idle": "2024-12-28T22:53:45.648916Z",
     "shell.execute_reply": "2024-12-28T22:53:45.648246Z",
     "shell.execute_reply.started": "2024-12-28T22:53:45.639197Z"
    }
   },
   "outputs": [
    {
     "data": {
      "text/plain": [
       "┌───────┐\n",
       "│   a   │\n",
       "│ int64 │\n",
       "├───────┤\n",
       "│     2 │\n",
       "└───────┘"
      ]
     },
     "execution_count": 18,
     "metadata": {},
     "output_type": "execute_result"
    }
   ],
   "source": [
    "t.do(foo)"
   ]
  },
  {
   "cell_type": "code",
   "execution_count": 19,
   "metadata": {
    "execution": {
     "iopub.execute_input": "2024-12-28T22:53:54.731622Z",
     "iopub.status.busy": "2024-12-28T22:53:54.731048Z",
     "iopub.status.idle": "2024-12-28T22:53:54.746569Z",
     "shell.execute_reply": "2024-12-28T22:53:54.745835Z",
     "shell.execute_reply.started": "2024-12-28T22:53:54.731583Z"
    }
   },
   "outputs": [
    {
     "data": {
      "text/plain": [
       "┌───────┐\n",
       "│   a   │\n",
       "│ int64 │\n",
       "├───────┤\n",
       "│     3 │\n",
       "└───────┘"
      ]
     },
     "execution_count": 19,
     "metadata": {},
     "output_type": "execute_result"
    }
   ],
   "source": [
    "t.do([foo, f])"
   ]
  },
  {
   "cell_type": "code",
   "execution_count": 6,
   "metadata": {
    "execution": {
     "iopub.execute_input": "2024-12-28T22:38:02.501567Z",
     "iopub.status.busy": "2024-12-28T22:38:02.500667Z",
     "iopub.status.idle": "2024-12-28T22:38:02.515546Z",
     "shell.execute_reply": "2024-12-28T22:38:02.515061Z",
     "shell.execute_reply.started": "2024-12-28T22:38:02.501511Z"
    }
   },
   "outputs": [
    {
     "data": {
      "text/plain": [
       "┌───────┐\n",
       "│   a   │\n",
       "│ int64 │\n",
       "├───────┤\n",
       "│     6 │\n",
       "└───────┘"
      ]
     },
     "execution_count": 6,
     "metadata": {},
     "output_type": "execute_result"
    }
   ],
   "source": [
    ".do([f]*5)"
   ]
  },
  {
   "cell_type": "code",
   "execution_count": null,
   "metadata": {},
   "outputs": [],
   "source": []
  },
  {
   "cell_type": "code",
   "execution_count": null,
   "metadata": {},
   "outputs": [],
   "source": []
  },
  {
   "cell_type": "code",
   "execution_count": 6,
   "metadata": {
    "execution": {
     "iopub.execute_input": "2024-12-23T14:55:38.461302Z",
     "iopub.status.busy": "2024-12-23T14:55:38.461212Z",
     "iopub.status.idle": "2024-12-23T14:55:39.798220Z",
     "shell.execute_reply": "2024-12-23T14:55:39.796846Z",
     "shell.execute_reply.started": "2024-12-23T14:55:38.461294Z"
    }
   },
   "outputs": [
    {
     "name": "stdout",
     "output_type": "stream",
     "text": [
      "100% ▕████████████████████████████████████████████████████████████▏ \n"
     ]
    },
    {
     "data": {
      "text/plain": [
       "┌──────────────┐\n",
       "│ count_star() │\n",
       "│    int64     │\n",
       "├──────────────┤\n",
       "│    104199378 │\n",
       "└──────────────┘"
      ]
     },
     "execution_count": null,
     "metadata": {},
     "output_type": "execute_result"
    },
    {
     "name": "stdout",
     "output_type": "stream",
     "text": [
      "100% ▕████████████████████████████████████████████████████████████▏ \n"
     ]
    }
   ],
   "source": [
    "t = uck.Table('s3://us-west-2.opendata.source.coop/fused/fsq-os-places/2024-12-03/places/*.parquet', _hide=False)\n",
    "t.do('select count(*)')"
   ]
  },
  {
   "cell_type": "code",
   "execution_count": 7,
   "metadata": {},
   "outputs": [
    {
     "name": "stdout",
     "output_type": "stream",
     "text": [
      "100% ▕████████████████████████████████████████████████████████████▏ \n"
     ]
    },
    {
     "data": {
      "text/plain": [
       "Database:\n",
       "    as tbl1: 104199378 x ['fsq_place_id', 'name', 'latitude', 'longitude', 'address', 'locality', 'region', 'postcode', 'admin_region', 'post_town', 'po_box', 'country', 'date_created', 'date_refreshed', 'date_closed', 'tel', 'website', 'email', 'facebook_id', 'instagram', 'twitter', 'fsq_category_ids', 'fsq_category_labels', 'geometry', 'bbox']"
      ]
     },
     "execution_count": null,
     "metadata": {},
     "output_type": "execute_result"
    },
    {
     "name": "stdout",
     "output_type": "stream",
     "text": [
      "100% ▕████████████████████████████████████████████████████████████▏ \n"
     ]
    }
   ],
   "source": [
    "t = uck.Table('s3://us-west-2.opendata.source.coop/fused/fsq-os-places/2024-12-03/places/*.parquet')\n",
    "t = t.do('alias tbl1', 'show')\n",
    "t"
   ]
  },
  {
   "cell_type": "code",
   "execution_count": 8,
   "metadata": {},
   "outputs": [
    {
     "name": "stdout",
     "output_type": "stream",
     "text": [
      "100% ▕████████████████████████████████████████████████████████████▏ \n"
     ]
    },
    {
     "data": {
      "text/plain": [
       "Database:\n",
       "    tbl1: 104199378 x ['fsq_place_id', 'name', 'latitude', 'longitude', 'address', 'locality', 'region', 'postcode', 'admin_region', 'post_town', 'po_box', 'country', 'date_created', 'date_refreshed', 'date_closed', 'tel', 'website', 'email', 'facebook_id', 'instagram', 'twitter', 'fsq_category_ids', 'fsq_category_labels', 'geometry', 'bbox']"
      ]
     },
     "execution_count": null,
     "metadata": {},
     "output_type": "execute_result"
    }
   ],
   "source": [
    "t.show()"
   ]
  },
  {
   "cell_type": "code",
   "execution_count": 4,
   "metadata": {},
   "outputs": [
    {
     "name": "stdout",
     "output_type": "stream",
     "text": [
      "100% ▕████████████████████████████████████████████████████████████▏ \n"
     ]
    },
    {
     "data": {
      "text/plain": [
       "\"104199378 x ['fsq_place_id', 'name', 'latitude', 'longitude', 'address', 'locality', 'region', 'postcode', 'admin_region', 'post_town', 'po_box', 'country', 'date_created', 'date_refreshed', 'date_closed', 'tel', 'website', 'email', 'facebook_id', 'instagram', 'twitter', 'fsq_category_ids', 'fsq_category_labels', 'geometry', 'bbox']\""
      ]
     },
     "execution_count": null,
     "metadata": {},
     "output_type": "execute_result"
    }
   ],
   "source": [
    "t.show().rowcols()"
   ]
  },
  {
   "cell_type": "code",
   "execution_count": 3,
   "metadata": {
    "execution": {
     "iopub.execute_input": "2024-12-23T14:53:51.978136Z",
     "iopub.status.busy": "2024-12-23T14:53:51.977436Z",
     "iopub.status.idle": "2024-12-23T14:53:51.985124Z",
     "shell.execute_reply": "2024-12-23T14:53:51.984337Z",
     "shell.execute_reply.started": "2024-12-23T14:53:51.978079Z"
    }
   },
   "outputs": [
    {
     "data": {
      "text/plain": [
       "'<Table(..., _hide=True)>'"
      ]
     },
     "execution_count": null,
     "metadata": {},
     "output_type": "execute_result"
    }
   ],
   "source": [
    "t.rowcols()"
   ]
  },
  {
   "cell_type": "code",
   "execution_count": 5,
   "metadata": {},
   "outputs": [],
   "source": [
    "out = t.do('select count(*)').hide()"
   ]
  },
  {
   "cell_type": "code",
   "execution_count": 7,
   "metadata": {},
   "outputs": [
    {
     "data": {
      "text/plain": [
       "┌──────────────┐\n",
       "│ count_star() │\n",
       "│    int64     │\n",
       "├──────────────┤\n",
       "│    104199378 │\n",
       "└──────────────┘"
      ]
     },
     "execution_count": null,
     "metadata": {},
     "output_type": "execute_result"
    }
   ],
   "source": [
    "out.show()"
   ]
  },
  {
   "cell_type": "code",
   "execution_count": 3,
   "metadata": {
    "execution": {
     "iopub.execute_input": "2024-12-23T03:09:41.748980Z",
     "iopub.status.busy": "2024-12-23T03:09:41.748216Z",
     "iopub.status.idle": "2024-12-23T03:09:42.925623Z",
     "shell.execute_reply": "2024-12-23T03:09:42.924368Z",
     "shell.execute_reply.started": "2024-12-23T03:09:41.748941Z"
    }
   },
   "outputs": [
    {
     "data": {
      "text/plain": [
       "<Table(..., _hide=True)>"
      ]
     },
     "execution_count": 3,
     "metadata": {},
     "output_type": "execute_result"
    }
   ],
   "source": [
    "t = uck.Table('s3://us-west-2.opendata.source.coop/fused/fsq-os-places/2024-12-03/places/*.parquet').hide()\n",
    "t"
   ]
  },
  {
   "cell_type": "code",
   "execution_count": 4,
   "metadata": {
    "execution": {
     "iopub.execute_input": "2024-12-23T03:09:52.030467Z",
     "iopub.status.busy": "2024-12-23T03:09:52.029938Z",
     "iopub.status.idle": "2024-12-23T03:09:52.039828Z",
     "shell.execute_reply": "2024-12-23T03:09:52.038975Z",
     "shell.execute_reply.started": "2024-12-23T03:09:52.030427Z"
    }
   },
   "outputs": [
    {
     "data": {
      "text/plain": [
       "<Table(..., _hide=True)>"
      ]
     },
     "execution_count": 4,
     "metadata": {},
     "output_type": "execute_result"
    }
   ],
   "source": [
    "t.show().hide()"
   ]
  },
  {
   "cell_type": "code",
   "execution_count": 5,
   "metadata": {
    "execution": {
     "iopub.execute_input": "2024-12-23T03:10:01.666333Z",
     "iopub.status.busy": "2024-12-23T03:10:01.665837Z",
     "iopub.status.idle": "2024-12-23T03:10:01.673103Z",
     "shell.execute_reply": "2024-12-23T03:10:01.672198Z",
     "shell.execute_reply.started": "2024-12-23T03:10:01.666295Z"
    }
   },
   "outputs": [
    {
     "data": {
      "text/plain": [
       "<Table(..., _hide=True)>"
      ]
     },
     "execution_count": 5,
     "metadata": {},
     "output_type": "execute_result"
    }
   ],
   "source": [
    "t.show().hide()"
   ]
  },
  {
   "cell_type": "code",
   "execution_count": 5,
   "metadata": {
    "execution": {
     "iopub.execute_input": "2024-12-23T14:55:44.249864Z",
     "iopub.status.busy": "2024-12-23T14:55:44.249405Z",
     "iopub.status.idle": "2024-12-23T14:55:44.257111Z",
     "shell.execute_reply": "2024-12-23T14:55:44.256229Z",
     "shell.execute_reply.started": "2024-12-23T14:55:44.249833Z"
    }
   },
   "outputs": [
    {
     "data": {
      "text/plain": [
       "Database:\n",
       "    bah: <Table(..., _hide=True)>"
      ]
     },
     "execution_count": null,
     "metadata": {},
     "output_type": "execute_result"
    }
   ],
   "source": [
    "db = uck.Database(bah=t, _hide=False).hide()\n",
    "db"
   ]
  },
  {
   "cell_type": "code",
   "execution_count": 6,
   "metadata": {
    "execution": {
     "iopub.execute_input": "2024-12-23T14:55:50.432325Z",
     "iopub.status.busy": "2024-12-23T14:55:50.431547Z",
     "iopub.status.idle": "2024-12-23T14:56:17.164330Z",
     "shell.execute_reply": "2024-12-23T14:56:17.163172Z",
     "shell.execute_reply.started": "2024-12-23T14:55:50.432284Z"
    }
   },
   "outputs": [
    {
     "name": "stdout",
     "output_type": "stream",
     "text": [
      "100% ▕████████████████████████████████████████████████████████████▏ \n"
     ]
    },
    {
     "data": {
      "text/plain": [
       "Database:\n",
       "    bah: 104199378 x ['fsq_place_id', 'name', 'latitude', 'longitude', 'address', 'locality', 'region', 'postcode', 'admin_region', 'post_town', 'po_box', 'country', 'date_created', 'date_refreshed', 'date_closed', 'tel', 'website', 'email', 'facebook_id', 'instagram', 'twitter', 'fsq_category_ids', 'fsq_category_labels', 'geometry', 'bbox']"
      ]
     },
     "execution_count": null,
     "metadata": {},
     "output_type": "execute_result"
    }
   ],
   "source": [
    "db.show()"
   ]
  },
  {
   "cell_type": "code",
   "execution_count": 10,
   "metadata": {
    "execution": {
     "iopub.execute_input": "2024-12-23T03:03:21.975954Z",
     "iopub.status.busy": "2024-12-23T03:03:21.974950Z",
     "iopub.status.idle": "2024-12-23T03:03:42.274239Z",
     "shell.execute_reply": "2024-12-23T03:03:42.273492Z",
     "shell.execute_reply.started": "2024-12-23T03:03:21.975905Z"
    }
   },
   "outputs": [
    {
     "data": {
      "text/plain": [
       "Database:\n",
       "    bah: 104199378 x ['fsq_place_id', 'name', 'latitude', 'longitude', 'address', 'locality', 'region', 'postcode', 'admin_region', 'post_town', 'po_box', 'country', 'date_created', 'date_refreshed', 'date_closed', 'tel', 'website', 'email', 'facebook_id', 'instagram', 'twitter', 'fsq_category_ids', 'fsq_category_labels', 'geometry', 'bbox']"
      ]
     },
     "execution_count": 10,
     "metadata": {},
     "output_type": "execute_result"
    }
   ],
   "source": [
    "uck.Database(**db)"
   ]
  },
  {
   "cell_type": "code",
   "execution_count": null,
   "metadata": {},
   "outputs": [],
   "source": []
  },
  {
   "cell_type": "code",
   "execution_count": 12,
   "metadata": {
    "execution": {
     "iopub.execute_input": "2024-12-23T01:52:44.208221Z",
     "iopub.status.busy": "2024-12-23T01:52:44.207710Z",
     "iopub.status.idle": "2024-12-23T01:52:47.718005Z",
     "shell.execute_reply": "2024-12-23T01:52:47.716665Z",
     "shell.execute_reply.started": "2024-12-23T01:52:44.208181Z"
    }
   },
   "outputs": [],
   "source": [
    "out = uck.Table(uck.Table(t).do('select count(*)'), defer_repr=True)"
   ]
  },
  {
   "cell_type": "code",
   "execution_count": 13,
   "metadata": {
    "execution": {
     "iopub.execute_input": "2024-12-23T01:52:51.128672Z",
     "iopub.status.busy": "2024-12-23T01:52:51.128089Z",
     "iopub.status.idle": "2024-12-23T01:52:51.135029Z",
     "shell.execute_reply": "2024-12-23T01:52:51.134112Z",
     "shell.execute_reply.started": "2024-12-23T01:52:51.128629Z"
    }
   },
   "outputs": [
    {
     "data": {
      "text/plain": [
       "<A Table Object we do not want to materialize just yet>"
      ]
     },
     "execution_count": 13,
     "metadata": {},
     "output_type": "execute_result"
    }
   ],
   "source": [
    "out"
   ]
  },
  {
   "cell_type": "code",
   "execution_count": 15,
   "metadata": {
    "execution": {
     "iopub.execute_input": "2024-12-23T01:52:58.839702Z",
     "iopub.status.busy": "2024-12-23T01:52:58.839130Z",
     "iopub.status.idle": "2024-12-23T01:53:16.772636Z",
     "shell.execute_reply": "2024-12-23T01:53:16.771244Z",
     "shell.execute_reply.started": "2024-12-23T01:52:58.839655Z"
    }
   },
   "outputs": [
    {
     "data": {
      "text/plain": [
       "┌──────────────┐\n",
       "│ count_star() │\n",
       "│    int64     │\n",
       "├──────────────┤\n",
       "│    104199378 │\n",
       "└──────────────┘"
      ]
     },
     "execution_count": 15,
     "metadata": {},
     "output_type": "execute_result"
    }
   ],
   "source": [
    "uck.Table(out)"
   ]
  },
  {
   "cell_type": "code",
   "execution_count": 1,
   "metadata": {},
   "outputs": [],
   "source": [
    "class Appear:\n",
    "    raw: int\n",
    "    rel: str\n",
    "\n",
    "    def __init__(self):\n",
    "        self.raw = 1\n",
    "        self.rel = 'hi'\n",
    "        self._baz = 'waaah'\n",
    "\n",
    "    @property\n",
    "    def baz(self):\n",
    "        return self._baz\n",
    "\n",
    "    def __str__(self):\n",
    "        return 'Str!!!'\n",
    "\n",
    "    def __repr__(self):\n",
    "        print('repr was called')\n",
    "        return 'Repr!!!'"
   ]
  },
  {
   "cell_type": "code",
   "execution_count": 2,
   "metadata": {},
   "outputs": [
    {
     "name": "stdout",
     "output_type": "stream",
     "text": [
      "repr was called\n"
     ]
    }
   ],
   "source": [
    "a = Appear()"
   ]
  },
  {
   "cell_type": "code",
   "execution_count": 9,
   "metadata": {},
   "outputs": [
    {
     "name": "stdout",
     "output_type": "stream",
     "text": [
      "repr was called\n"
     ]
    }
   ],
   "source": [
    "a.raw = Appear()"
   ]
  },
  {
   "cell_type": "code",
   "execution_count": 4,
   "metadata": {},
   "outputs": [
    {
     "data": {
      "text/plain": [
       "'hi'"
      ]
     },
     "execution_count": null,
     "metadata": {},
     "output_type": "execute_result"
    },
    {
     "name": "stdout",
     "output_type": "stream",
     "text": [
      "repr was called\n"
     ]
    }
   ],
   "source": [
    "a.rel"
   ]
  },
  {
   "cell_type": "code",
   "execution_count": 5,
   "metadata": {},
   "outputs": [
    {
     "name": "stdout",
     "output_type": "stream",
     "text": [
      "Str!!!\n",
      "repr was called\n"
     ]
    }
   ],
   "source": [
    "print(a)"
   ]
  },
  {
   "cell_type": "code",
   "execution_count": 6,
   "metadata": {},
   "outputs": [
    {
     "data": {
      "text/plain": [
       "'waaah'"
      ]
     },
     "execution_count": null,
     "metadata": {},
     "output_type": "execute_result"
    },
    {
     "name": "stdout",
     "output_type": "stream",
     "text": [
      "repr was called\n"
     ]
    }
   ],
   "source": [
    "a.baz"
   ]
  },
  {
   "cell_type": "code",
   "execution_count": 7,
   "metadata": {},
   "outputs": [
    {
     "name": "stdout",
     "output_type": "stream",
     "text": [
      "repr was called\n"
     ]
    }
   ],
   "source": [
    "import duckboat as uck"
   ]
  },
  {
   "cell_type": "code",
   "execution_count": 8,
   "metadata": {},
   "outputs": [
    {
     "name": "stdout",
     "output_type": "stream",
     "text": [
      "repr was called\n"
     ]
    }
   ],
   "source": [
    "t = uck.Table('s3://us-west-2.opendata.source.coop/fused/fsq-os-places/2024-12-03/places/10.parquet')"
   ]
  },
  {
   "cell_type": "code",
   "execution_count": 7,
   "metadata": {},
   "outputs": [],
   "source": [
    "import numpy as np"
   ]
  },
  {
   "cell_type": "code",
   "execution_count": 8,
   "metadata": {},
   "outputs": [],
   "source": [
    "a = np.array([1,2,3,4])"
   ]
  },
  {
   "cell_type": "code",
   "execution_count": null,
   "metadata": {},
   "outputs": [],
   "source": []
  }
 ],
 "metadata": {
  "kernelspec": {
   "display_name": "Python 3 (ipykernel)",
   "language": "python",
   "name": "python3"
  },
  "language_info": {
   "codemirror_mode": {
    "name": "ipython",
    "version": 3
   },
   "file_extension": ".py",
   "mimetype": "text/x-python",
   "name": "python",
   "nbconvert_exporter": "python",
   "pygments_lexer": "ipython3",
   "version": "3.12.2"
  }
 },
 "nbformat": 4,
 "nbformat_minor": 4
}
