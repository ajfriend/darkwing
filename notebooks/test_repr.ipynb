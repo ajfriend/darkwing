{
 "cells": [
  {
   "cell_type": "code",
   "execution_count": 1,
   "metadata": {
    "execution": {
     "iopub.execute_input": "2024-12-23T03:09:37.073861Z",
     "iopub.status.busy": "2024-12-23T03:09:37.073667Z",
     "iopub.status.idle": "2024-12-23T03:09:37.147427Z",
     "shell.execute_reply": "2024-12-23T03:09:37.147149Z",
     "shell.execute_reply.started": "2024-12-23T03:09:37.073828Z"
    }
   },
   "outputs": [],
   "source": [
    "import darkwing as dw"
   ]
  },
  {
   "cell_type": "code",
   "execution_count": 2,
   "metadata": {
    "execution": {
     "iopub.execute_input": "2024-12-23T03:09:39.589734Z",
     "iopub.status.busy": "2024-12-23T03:09:39.588802Z",
     "iopub.status.idle": "2024-12-23T03:09:40.932163Z",
     "shell.execute_reply": "2024-12-23T03:09:40.931526Z",
     "shell.execute_reply.started": "2024-12-23T03:09:39.589688Z"
    }
   },
   "outputs": [
    {
     "data": {
      "text/plain": [
       "<Table(..., _hide=True)>"
      ]
     },
     "execution_count": 2,
     "metadata": {},
     "output_type": "execute_result"
    }
   ],
   "source": [
    "t = dw.Table('s3://us-west-2.opendata.source.coop/fused/fsq-os-places/2024-12-03/places/*.parquet', _hide=True)\n",
    "t"
   ]
  },
  {
   "cell_type": "code",
   "execution_count": 3,
   "metadata": {
    "execution": {
     "iopub.execute_input": "2024-12-23T03:09:41.748980Z",
     "iopub.status.busy": "2024-12-23T03:09:41.748216Z",
     "iopub.status.idle": "2024-12-23T03:09:42.925623Z",
     "shell.execute_reply": "2024-12-23T03:09:42.924368Z",
     "shell.execute_reply.started": "2024-12-23T03:09:41.748941Z"
    }
   },
   "outputs": [
    {
     "data": {
      "text/plain": [
       "<Table(..., _hide=True)>"
      ]
     },
     "execution_count": 3,
     "metadata": {},
     "output_type": "execute_result"
    }
   ],
   "source": [
    "t = dw.Table('s3://us-west-2.opendata.source.coop/fused/fsq-os-places/2024-12-03/places/*.parquet').hide()\n",
    "t"
   ]
  },
  {
   "cell_type": "code",
   "execution_count": 4,
   "metadata": {
    "execution": {
     "iopub.execute_input": "2024-12-23T03:02:00.169727Z",
     "iopub.status.busy": "2024-12-23T03:02:00.169211Z",
     "iopub.status.idle": "2024-12-23T03:02:00.175745Z",
     "shell.execute_reply": "2024-12-23T03:02:00.174881Z",
     "shell.execute_reply.started": "2024-12-23T03:02:00.169689Z"
    }
   },
   "outputs": [
    {
     "data": {
      "text/plain": [
       "<Table(..., hide_repr=True)>"
      ]
     },
     "execution_count": 4,
     "metadata": {},
     "output_type": "execute_result"
    }
   ],
   "source": [
    "t.show().hide()"
   ]
  },
  {
   "cell_type": "code",
   "execution_count": 6,
   "metadata": {
    "execution": {
     "iopub.execute_input": "2024-12-23T03:02:15.641327Z",
     "iopub.status.busy": "2024-12-23T03:02:15.640784Z",
     "iopub.status.idle": "2024-12-23T03:02:15.647724Z",
     "shell.execute_reply": "2024-12-23T03:02:15.646673Z",
     "shell.execute_reply.started": "2024-12-23T03:02:15.641284Z"
    }
   },
   "outputs": [
    {
     "data": {
      "text/plain": [
       "<Table(..., hide_repr=True)>"
      ]
     },
     "execution_count": 6,
     "metadata": {},
     "output_type": "execute_result"
    }
   ],
   "source": [
    "t.show().hide()"
   ]
  },
  {
   "cell_type": "code",
   "execution_count": 8,
   "metadata": {
    "execution": {
     "iopub.execute_input": "2024-12-23T03:02:30.831689Z",
     "iopub.status.busy": "2024-12-23T03:02:30.831067Z",
     "iopub.status.idle": "2024-12-23T03:02:30.838213Z",
     "shell.execute_reply": "2024-12-23T03:02:30.837320Z",
     "shell.execute_reply.started": "2024-12-23T03:02:30.831646Z"
    }
   },
   "outputs": [
    {
     "data": {
      "text/plain": [
       "Database:\n",
       "    bah: <Hidden Table>"
      ]
     },
     "execution_count": 8,
     "metadata": {},
     "output_type": "execute_result"
    }
   ],
   "source": [
    "db = dw.Database(bah=t, hide_repr=False).hide()\n",
    "db"
   ]
  },
  {
   "cell_type": "code",
   "execution_count": 9,
   "metadata": {
    "execution": {
     "iopub.execute_input": "2024-12-23T03:02:38.232451Z",
     "iopub.status.busy": "2024-12-23T03:02:38.231602Z",
     "iopub.status.idle": "2024-12-23T03:02:59.641467Z",
     "shell.execute_reply": "2024-12-23T03:02:59.640298Z",
     "shell.execute_reply.started": "2024-12-23T03:02:38.232406Z"
    }
   },
   "outputs": [
    {
     "data": {
      "text/plain": [
       "Database:\n",
       "    bah: 104199378 x ['fsq_place_id', 'name', 'latitude', 'longitude', 'address', 'locality', 'region', 'postcode', 'admin_region', 'post_town', 'po_box', 'country', 'date_created', 'date_refreshed', 'date_closed', 'tel', 'website', 'email', 'facebook_id', 'instagram', 'twitter', 'fsq_category_ids', 'fsq_category_labels', 'geometry', 'bbox']"
      ]
     },
     "execution_count": 9,
     "metadata": {},
     "output_type": "execute_result"
    }
   ],
   "source": [
    "db.show()"
   ]
  },
  {
   "cell_type": "code",
   "execution_count": 10,
   "metadata": {
    "execution": {
     "iopub.execute_input": "2024-12-23T03:03:21.975954Z",
     "iopub.status.busy": "2024-12-23T03:03:21.974950Z",
     "iopub.status.idle": "2024-12-23T03:03:42.274239Z",
     "shell.execute_reply": "2024-12-23T03:03:42.273492Z",
     "shell.execute_reply.started": "2024-12-23T03:03:21.975905Z"
    }
   },
   "outputs": [
    {
     "data": {
      "text/plain": [
       "Database:\n",
       "    bah: 104199378 x ['fsq_place_id', 'name', 'latitude', 'longitude', 'address', 'locality', 'region', 'postcode', 'admin_region', 'post_town', 'po_box', 'country', 'date_created', 'date_refreshed', 'date_closed', 'tel', 'website', 'email', 'facebook_id', 'instagram', 'twitter', 'fsq_category_ids', 'fsq_category_labels', 'geometry', 'bbox']"
      ]
     },
     "execution_count": 10,
     "metadata": {},
     "output_type": "execute_result"
    }
   ],
   "source": [
    "dw.Database(**db)"
   ]
  },
  {
   "cell_type": "code",
   "execution_count": null,
   "metadata": {},
   "outputs": [],
   "source": []
  },
  {
   "cell_type": "code",
   "execution_count": 12,
   "metadata": {
    "execution": {
     "iopub.execute_input": "2024-12-23T01:52:44.208221Z",
     "iopub.status.busy": "2024-12-23T01:52:44.207710Z",
     "iopub.status.idle": "2024-12-23T01:52:47.718005Z",
     "shell.execute_reply": "2024-12-23T01:52:47.716665Z",
     "shell.execute_reply.started": "2024-12-23T01:52:44.208181Z"
    }
   },
   "outputs": [],
   "source": [
    "out = dw.Table(dw.Table(t).do('select count(*)'), defer_repr=True)"
   ]
  },
  {
   "cell_type": "code",
   "execution_count": 13,
   "metadata": {
    "execution": {
     "iopub.execute_input": "2024-12-23T01:52:51.128672Z",
     "iopub.status.busy": "2024-12-23T01:52:51.128089Z",
     "iopub.status.idle": "2024-12-23T01:52:51.135029Z",
     "shell.execute_reply": "2024-12-23T01:52:51.134112Z",
     "shell.execute_reply.started": "2024-12-23T01:52:51.128629Z"
    }
   },
   "outputs": [
    {
     "data": {
      "text/plain": [
       "<A Table Object we do not want to materialize just yet>"
      ]
     },
     "execution_count": 13,
     "metadata": {},
     "output_type": "execute_result"
    }
   ],
   "source": [
    "out"
   ]
  },
  {
   "cell_type": "code",
   "execution_count": 15,
   "metadata": {
    "execution": {
     "iopub.execute_input": "2024-12-23T01:52:58.839702Z",
     "iopub.status.busy": "2024-12-23T01:52:58.839130Z",
     "iopub.status.idle": "2024-12-23T01:53:16.772636Z",
     "shell.execute_reply": "2024-12-23T01:53:16.771244Z",
     "shell.execute_reply.started": "2024-12-23T01:52:58.839655Z"
    }
   },
   "outputs": [
    {
     "data": {
      "text/plain": [
       "┌──────────────┐\n",
       "│ count_star() │\n",
       "│    int64     │\n",
       "├──────────────┤\n",
       "│    104199378 │\n",
       "└──────────────┘"
      ]
     },
     "execution_count": 15,
     "metadata": {},
     "output_type": "execute_result"
    }
   ],
   "source": [
    "dw.Table(out)"
   ]
  },
  {
   "cell_type": "code",
   "execution_count": 1,
   "metadata": {},
   "outputs": [],
   "source": [
    "class Appear:\n",
    "    raw: int\n",
    "    rel: str\n",
    "\n",
    "    def __init__(self):\n",
    "        self.raw = 1\n",
    "        self.rel = 'hi'\n",
    "        self._baz = 'waaah'\n",
    "\n",
    "    @property\n",
    "    def baz(self):\n",
    "        return self._baz\n",
    "\n",
    "    def __str__(self):\n",
    "        return 'Str!!!'\n",
    "    def __repr__(self):\n",
    "        print('repr was called')\n",
    "        return 'Repr!!!'"
   ]
  },
  {
   "cell_type": "code",
   "execution_count": 2,
   "metadata": {},
   "outputs": [
    {
     "name": "stdout",
     "output_type": "stream",
     "text": [
      "repr was called\n"
     ]
    }
   ],
   "source": [
    "a = Appear()"
   ]
  },
  {
   "cell_type": "code",
   "execution_count": 9,
   "metadata": {},
   "outputs": [
    {
     "name": "stdout",
     "output_type": "stream",
     "text": [
      "repr was called\n"
     ]
    }
   ],
   "source": [
    "a.raw = Appear()"
   ]
  },
  {
   "cell_type": "code",
   "execution_count": 4,
   "metadata": {},
   "outputs": [
    {
     "data": {
      "text/plain": [
       "'hi'"
      ]
     },
     "execution_count": null,
     "metadata": {},
     "output_type": "execute_result"
    },
    {
     "name": "stdout",
     "output_type": "stream",
     "text": [
      "repr was called\n"
     ]
    }
   ],
   "source": [
    "a.rel"
   ]
  },
  {
   "cell_type": "code",
   "execution_count": 5,
   "metadata": {},
   "outputs": [
    {
     "name": "stdout",
     "output_type": "stream",
     "text": [
      "Str!!!\n",
      "repr was called\n"
     ]
    }
   ],
   "source": [
    "print(a)"
   ]
  },
  {
   "cell_type": "code",
   "execution_count": 6,
   "metadata": {},
   "outputs": [
    {
     "data": {
      "text/plain": [
       "'waaah'"
      ]
     },
     "execution_count": null,
     "metadata": {},
     "output_type": "execute_result"
    },
    {
     "name": "stdout",
     "output_type": "stream",
     "text": [
      "repr was called\n"
     ]
    }
   ],
   "source": [
    "a.baz"
   ]
  },
  {
   "cell_type": "code",
   "execution_count": 7,
   "metadata": {},
   "outputs": [
    {
     "name": "stdout",
     "output_type": "stream",
     "text": [
      "repr was called\n"
     ]
    }
   ],
   "source": [
    "import darkwing as dw"
   ]
  },
  {
   "cell_type": "code",
   "execution_count": 8,
   "metadata": {},
   "outputs": [
    {
     "name": "stdout",
     "output_type": "stream",
     "text": [
      "repr was called\n"
     ]
    }
   ],
   "source": [
    "t = dw.Table('s3://us-west-2.opendata.source.coop/fused/fsq-os-places/2024-12-03/places/10.parquet')"
   ]
  },
  {
   "cell_type": "code",
   "execution_count": null,
   "metadata": {},
   "outputs": [],
   "source": []
  }
 ],
 "metadata": {
  "kernelspec": {
   "display_name": "Python 3 (ipykernel)",
   "language": "python",
   "name": "python3"
  },
  "language_info": {
   "codemirror_mode": {
    "name": "ipython",
    "version": 3
   },
   "file_extension": ".py",
   "mimetype": "text/x-python",
   "name": "python",
   "nbconvert_exporter": "python",
   "pygments_lexer": "ipython3",
   "version": "3.12.2"
  }
 },
 "nbformat": 4,
 "nbformat_minor": 4
}
