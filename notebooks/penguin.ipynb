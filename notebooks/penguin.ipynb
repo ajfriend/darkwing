{
 "cells": [
  {
   "cell_type": "code",
   "execution_count": 8,
   "metadata": {},
   "outputs": [
    {
     "data": {
      "text/plain": [
       "┌─────────┬───────────┬───────────┬────────────────┬───────────────┬───────────────────┬─────────────┬─────────┬───────┐\n",
       "│ column0 │  species  │  island   │ bill_length_mm │ bill_depth_mm │ flipper_length_mm │ body_mass_g │   sex   │ year  │\n",
       "│  int64  │  varchar  │  varchar  │    varchar     │    varchar    │      varchar      │   varchar   │ varchar │ int64 │\n",
       "├─────────┼───────────┼───────────┼────────────────┼───────────────┼───────────────────┼─────────────┼─────────┼───────┤\n",
       "│       0 │ Adelie    │ Torgersen │ 39.1           │ 18.7          │ 181               │ 3750        │ male    │  2007 │\n",
       "│       1 │ Adelie    │ Torgersen │ 39.5           │ 17.4          │ 186               │ 3800        │ female  │  2007 │\n",
       "│       2 │ Adelie    │ Torgersen │ 40.3           │ 18            │ 195               │ 3250        │ female  │  2007 │\n",
       "│       3 │ Adelie    │ Torgersen │ NA             │ NA            │ NA                │ NA          │ NA      │  2007 │\n",
       "│       4 │ Adelie    │ Torgersen │ 36.7           │ 19.3          │ 193               │ 3450        │ female  │  2007 │\n",
       "│       5 │ Adelie    │ Torgersen │ 39.3           │ 20.6          │ 190               │ 3650        │ male    │  2007 │\n",
       "│       6 │ Adelie    │ Torgersen │ 38.9           │ 17.8          │ 181               │ 3625        │ female  │  2007 │\n",
       "│       7 │ Adelie    │ Torgersen │ 39.2           │ 19.6          │ 195               │ 4675        │ male    │  2007 │\n",
       "│       8 │ Adelie    │ Torgersen │ 34.1           │ 18.1          │ 193               │ 3475        │ NA      │  2007 │\n",
       "│       9 │ Adelie    │ Torgersen │ 42             │ 20.2          │ 190               │ 4250        │ NA      │  2007 │\n",
       "│       · │   ·       │   ·       │ ·              │  ·            │  ·                │  ·          │ ·       │    ·  │\n",
       "│       · │   ·       │   ·       │ ·              │  ·            │  ·                │  ·          │ ·       │    ·  │\n",
       "│       · │   ·       │   ·       │ ·              │  ·            │  ·                │  ·          │ ·       │    ·  │\n",
       "│     334 │ Chinstrap │ Dream     │ 50.2           │ 18.8          │ 202               │ 3800        │ male    │  2009 │\n",
       "│     335 │ Chinstrap │ Dream     │ 45.6           │ 19.4          │ 194               │ 3525        │ female  │  2009 │\n",
       "│     336 │ Chinstrap │ Dream     │ 51.9           │ 19.5          │ 206               │ 3950        │ male    │  2009 │\n",
       "│     337 │ Chinstrap │ Dream     │ 46.8           │ 16.5          │ 189               │ 3650        │ female  │  2009 │\n",
       "│     338 │ Chinstrap │ Dream     │ 45.7           │ 17            │ 195               │ 3650        │ female  │  2009 │\n",
       "│     339 │ Chinstrap │ Dream     │ 55.8           │ 19.8          │ 207               │ 4000        │ male    │  2009 │\n",
       "│     340 │ Chinstrap │ Dream     │ 43.5           │ 18.1          │ 202               │ 3400        │ female  │  2009 │\n",
       "│     341 │ Chinstrap │ Dream     │ 49.6           │ 18.2          │ 193               │ 3775        │ male    │  2009 │\n",
       "│     342 │ Chinstrap │ Dream     │ 50.8           │ 19            │ 210               │ 4100        │ male    │  2009 │\n",
       "│     343 │ Chinstrap │ Dream     │ 50.2           │ 18.7          │ 198               │ 3775        │ female  │  2009 │\n",
       "├─────────┴───────────┴───────────┴────────────────┴───────────────┴───────────────────┴─────────────┴─────────┴───────┤\n",
       "│ 344 rows (20 shown)                                                                                        9 columns │\n",
       "└──────────────────────────────────────────────────────────────────────────────────────────────────────────────────────┘"
      ]
     },
     "execution_count": null,
     "metadata": {},
     "output_type": "execute_result"
    }
   ],
   "source": [
    "import darkwing as dw\n",
    "\n",
    "# t = dw.Table('https://raw.githubusercontent.com/allisonhorst/palmerpenguins/main/inst/extdata/penguins.csv').hide()\n",
    "t = dw.Table('data/penguins.csv')\n",
    "t"
   ]
  },
  {
   "cell_type": "code",
   "execution_count": 25,
   "metadata": {},
   "outputs": [
    {
     "data": {
      "text/plain": [
       "┌───────────┬───────────┬───────────┐\n",
       "│  species  │  island   │ avg_grams │\n",
       "│  varchar  │  varchar  │  double   │\n",
       "├───────────┼───────────┼───────────┤\n",
       "│ Adelie    │ Torgersen │    3193.8 │\n",
       "│ Adelie    │ Dream     │    3357.5 │\n",
       "│ Adelie    │ Biscoe    │    3446.9 │\n",
       "│ Chinstrap │ Dream     │    3522.9 │\n",
       "│ Gentoo    │ Biscoe    │    4786.3 │\n",
       "└───────────┴───────────┴───────────┘"
      ]
     },
     "execution_count": null,
     "metadata": {},
     "output_type": "execute_result"
    }
   ],
   "source": [
    "import darkwing as dw\n",
    "\n",
    "csv = 'https://raw.githubusercontent.com/allisonhorst/palmerpenguins/main/inst/extdata/penguins.csv'\n",
    "\n",
    "dw.Table(csv).do(\n",
    "    \"where sex = 'female' \",\n",
    "    'where year > 2008',\n",
    "    'select *, cast(body_mass_g as double) as grams',\n",
    "    'select species, island, avg(grams) as avg_grams group by 1,2',\n",
    "    'select * replace (round(avg_grams, 1) as avg_grams)',\n",
    "    'order by avg_grams',\n",
    ")"
   ]
  },
  {
   "cell_type": "code",
   "execution_count": null,
   "metadata": {},
   "outputs": [],
   "source": []
  }
 ],
 "metadata": {
  "language_info": {
   "name": "python"
  }
 },
 "nbformat": 4,
 "nbformat_minor": 2
}
