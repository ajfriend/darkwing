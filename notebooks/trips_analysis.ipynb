{
 "cells": [
  {
   "cell_type": "code",
   "execution_count": 1,
   "metadata": {},
   "outputs": [],
   "source": [
    "# todo: playing around with data, we realize we probably want to filter out any trips with negative amounts\n",
    "\n",
    "# end-to-end, this analysis would look like...."
   ]
  },
  {
   "cell_type": "code",
   "execution_count": 1,
   "metadata": {
    "execution": {
     "iopub.execute_input": "2024-12-23T01:49:25.120544Z",
     "iopub.status.busy": "2024-12-23T01:49:25.120269Z",
     "iopub.status.idle": "2024-12-23T01:49:25.191145Z",
     "shell.execute_reply": "2024-12-23T01:49:25.190944Z",
     "shell.execute_reply.started": "2024-12-23T01:49:25.120519Z"
    }
   },
   "outputs": [],
   "source": [
    "import duckboat as uck"
   ]
  },
  {
   "cell_type": "code",
   "execution_count": 3,
   "metadata": {
    "execution": {
     "iopub.execute_input": "2024-12-23T01:49:32.187637Z",
     "iopub.status.busy": "2024-12-23T01:49:32.186989Z",
     "iopub.status.idle": "2024-12-23T01:49:32.196061Z",
     "shell.execute_reply": "2024-12-23T01:49:32.195448Z",
     "shell.execute_reply.started": "2024-12-23T01:49:32.187581Z"
    }
   },
   "outputs": [
    {
     "data": {
      "text/plain": [
       "<A Table Object we do not want to materialize just yet>"
      ]
     },
     "execution_count": 3,
     "metadata": {},
     "output_type": "execute_result"
    }
   ],
   "source": [
    "t1 = uck.Table('data/yellow_tripdata_2010-01.parquet', defer_repr=True)\n",
    "t1"
   ]
  },
  {
   "cell_type": "code",
   "execution_count": null,
   "metadata": {},
   "outputs": [],
   "source": []
  },
  {
   "cell_type": "code",
   "execution_count": 4,
   "metadata": {
    "execution": {
     "iopub.execute_input": "2024-12-23T01:50:00.256021Z",
     "iopub.status.busy": "2024-12-23T01:50:00.255470Z",
     "iopub.status.idle": "2024-12-23T01:50:00.285943Z",
     "shell.execute_reply": "2024-12-23T01:50:00.285564Z",
     "shell.execute_reply.started": "2024-12-23T01:50:00.255981Z"
    }
   },
   "outputs": [
    {
     "data": {
      "text/plain": [
       "┌───────────┬─────────────────────┬─────────────────────┬─────────────────┬────────────────────┬────────────────────┬─────────────────┬───────────┬────────────────────┬────────────────────┬──────────────────┬──────────────┬───────────────────┬───────────┬─────────┬────────────┬──────────────┬──────────────┐\n",
       "│ vendor_id │   pickup_datetime   │  dropoff_datetime   │ passenger_count │   trip_distance    │  pickup_longitude  │ pickup_latitude │ rate_code │ store_and_fwd_flag │ dropoff_longitude  │ dropoff_latitude │ payment_type │    fare_amount    │ surcharge │ mta_tax │ tip_amount │ tolls_amount │ total_amount │\n",
       "│  varchar  │       varchar       │       varchar       │      int64      │       double       │       double       │     double      │  varchar  │      varchar       │       double       │      double      │   varchar    │      double       │  double   │ double  │   double   │    double    │    double    │\n",
       "├───────────┼─────────────────────┼─────────────────────┼─────────────────┼────────────────────┼────────────────────┼─────────────────┼───────────┼────────────────────┼────────────────────┼──────────────────┼──────────────┼───────────────────┼───────────┼─────────┼────────────┼──────────────┼──────────────┤\n",
       "│ VTS       │ 2010-01-26 07:41:00 │ 2010-01-26 07:45:00 │               1 │               0.75 │         -73.956778 │        40.76775 │ 1         │ NULL               │         -73.965957 │        40.765232 │ CAS          │               4.5 │       0.0 │     0.5 │        0.0 │          0.0 │          5.0 │\n",
       "│ DDS       │ 2010-01-30 23:31:00 │ 2010-01-30 23:46:12 │               1 │                5.9 │ -73.99611799999998 │       40.763932 │ 1         │ NULL               │ -73.98151199999998 │        40.741193 │ CAS          │              15.3 │       0.5 │     0.5 │        0.0 │          0.0 │         16.3 │\n",
       "│ DDS       │ 2010-01-18 20:22:20 │ 2010-01-18 20:38:12 │               1 │                4.0 │         -73.979673 │        40.78379 │ 1         │ NULL               │ -73.91785199999998 │         40.87856 │ CAS          │              11.7 │       0.5 │     0.5 │        0.0 │          0.0 │         12.7 │\n",
       "│ VTS       │ 2010-01-09 01:18:00 │ 2010-01-09 01:35:00 │               2 │                4.7 │         -73.977922 │       40.763997 │ 1         │ NULL               │ -73.92390799999998 │        40.759725 │ CAS          │              13.3 │       0.5 │     0.5 │        0.0 │          0.0 │         14.3 │\n",
       "│ CMT       │ 2010-01-18 19:10:14 │ 2010-01-18 19:17:07 │               1 │ 0.5999999999999999 │         -73.990924 │       40.734682 │ 1         │ 0                  │ -73.99551099999998 │        40.739088 │ Cre          │               5.3 │       0.0 │     0.5 │       0.87 │          0.0 │         6.67 │\n",
       "│ DDS       │ 2010-01-23 18:40:25 │ 2010-01-23 18:54:51 │               1 │                3.3 │                0.0 │             0.0 │ 1         │ NULL               │                0.0 │              0.0 │ CRE          │              10.5 │       0.0 │     0.5 │        1.0 │          0.0 │         12.0 │\n",
       "│ VTS       │ 2010-01-17 09:18:00 │ 2010-01-17 09:25:00 │               1 │               1.33 │         -73.993747 │       40.754917 │ 1         │ NULL               │ -73.98471499999998 │        40.755927 │ CAS          │               6.1 │       0.0 │     0.5 │        0.0 │          0.0 │          6.6 │\n",
       "│ VTS       │ 2010-01-09 13:49:00 │ 2010-01-09 13:56:00 │               1 │               1.83 │          -73.97103 │       40.751307 │ 1         │ NULL               │          -73.99056 │        40.734923 │ CAS          │               6.9 │       0.0 │     0.5 │        0.0 │          0.0 │          7.4 │\n",
       "│ VTS       │ 2010-01-09 00:25:00 │ 2010-01-09 00:39:00 │               1 │               3.28 │         -73.990037 │       40.725633 │ 1         │ NULL               │         -73.993842 │        40.761697 │ CAS          │              11.3 │       0.5 │     0.5 │        0.0 │          0.0 │         12.3 │\n",
       "│ VTS       │ 2010-01-27 18:15:00 │ 2010-01-27 18:29:00 │               1 │               1.42 │         -73.979623 │        40.74378 │ 1         │ NULL               │ -73.98941499999998 │        40.756788 │ Cre          │               8.5 │       1.0 │     0.5 │        2.0 │          0.0 │         12.0 │\n",
       "│  ·        │          ·          │          ·          │               · │                 ·  │              ·     │            ·    │ ·         │ ·                  │              ·     │            ·     │  ·           │                ·  │        ·  │      ·  │         ·  │           ·  │           ·  │\n",
       "│  ·        │          ·          │          ·          │               · │                 ·  │              ·     │            ·    │ ·         │ ·                  │              ·     │            ·     │  ·           │                ·  │        ·  │      ·  │         ·  │           ·  │           ·  │\n",
       "│  ·        │          ·          │          ·          │               · │                 ·  │              ·     │            ·    │ ·         │ ·                  │              ·     │            ·     │  ·           │                ·  │        ·  │      ·  │         ·  │           ·  │           ·  │\n",
       "│ CMT       │ 2010-01-29 10:10:30 │ 2010-01-29 10:16:54 │               1 │                1.2 │         -73.954082 │       40.787214 │ 1         │ 0                  │         -73.963656 │        40.771832 │ Cre          │               6.1 │       0.0 │     0.5 │       1.32 │          0.0 │         7.92 │\n",
       "│ CMT       │ 2010-01-04 20:25:15 │ 2010-01-04 20:46:17 │               1 │                7.2 │         -73.979837 │       40.761188 │ 1         │ 0                  │         -73.995649 │        40.695152 │ Cre          │              19.3 │       0.5 │     0.5 │       4.06 │          0.0 │        24.36 │\n",
       "│ VTS       │ 2010-01-07 17:57:00 │ 2010-01-07 18:07:00 │               1 │               2.04 │          -73.99348 │       40.742102 │ 1         │ NULL               │         -73.991482 │        40.761327 │ CAS          │ 8.099999999999998 │       1.0 │     0.5 │        0.0 │          0.0 │          9.6 │\n",
       "│ VTS       │ 2010-01-08 00:08:00 │ 2010-01-08 00:22:00 │               1 │               2.48 │ -74.00726299999998 │       40.740085 │ 1         │ NULL               │ -73.97537199999998 │        40.745958 │ Cre          │              10.1 │       0.5 │     0.5 │        1.5 │          0.0 │         12.6 │\n",
       "│ CMT       │ 2010-01-31 20:36:38 │ 2010-01-31 20:58:12 │               1 │                6.4 │ -73.99279699999998 │       40.733902 │ 1         │ 0                  │          -73.92429 │        40.774208 │ Cre          │              17.7 │       0.5 │     0.5 │        3.0 │          0.0 │         21.7 │\n",
       "│ CMT       │ 2010-01-16 11:03:42 │ 2010-01-16 11:14:46 │               1 │                2.1 │ -73.95918899999998 │       40.783264 │ 1         │ 0                  │         -73.981502 │        40.768743 │ Cas          │               8.5 │       0.0 │     0.5 │        0.0 │          0.0 │          9.0 │\n",
       "│ CMT       │ 2010-01-05 08:56:30 │ 2010-01-05 09:04:29 │               1 │                0.8 │         -73.981093 │       40.733943 │ 1         │ 0                  │ -73.98549699999998 │        40.741723 │ Cas          │               6.1 │       0.0 │     0.5 │        0.0 │          0.0 │          6.6 │\n",
       "│ CMT       │ 2010-01-08 08:40:48 │ 2010-01-08 09:04:44 │               1 │                6.9 │         -74.016232 │       40.708016 │ 1         │ 0                  │           -73.9779 │        40.762517 │ Cre          │              19.3 │       0.0 │     0.5 │        2.0 │          0.0 │         21.8 │\n",
       "│ CMT       │ 2010-01-08 07:06:21 │ 2010-01-08 07:13:34 │               1 │                1.5 │         -73.991392 │       40.750361 │ 1         │ 0                  │         -73.988774 │        40.734149 │ Cas          │               6.5 │       0.0 │     0.5 │        0.0 │          0.0 │          7.0 │\n",
       "│ VTS       │ 2010-01-09 03:09:00 │ 2010-01-09 03:18:00 │               1 │               3.13 │         -74.006062 │       40.746693 │ 1         │ NULL               │         -74.016992 │         40.71142 │ CAS          │               9.7 │       0.5 │     0.5 │        0.0 │          0.0 │         10.7 │\n",
       "├───────────┴─────────────────────┴─────────────────────┴─────────────────┴────────────────────┴────────────────────┴─────────────────┴───────────┴────────────────────┴────────────────────┴──────────────────┴──────────────┴───────────────────┴───────────┴─────────┴────────────┴──────────────┴──────────────┤\n",
       "│ ? rows (>9999 rows, 20 shown)                                                                                                                                                                                                                                                                         18 columns │\n",
       "└──────────────────────────────────────────────────────────────────────────────────────────────────────────────────────────────────────────────────────────────────────────────────────────────────────────────────────────────────────────────────────────────────────────────────────────────────────────────────┘"
      ]
     },
     "execution_count": 4,
     "metadata": {},
     "output_type": "execute_result"
    }
   ],
   "source": [
    "uck.Table(t1)"
   ]
  },
  {
   "cell_type": "code",
   "execution_count": 14,
   "metadata": {},
   "outputs": [
    {
     "ename": "NameError",
     "evalue": "name 'avg_func' is not defined",
     "output_type": "error",
     "traceback": [
      "\u001b[0;31m---------------------------------------------------------------------------\u001b[0m\n",
      "\u001b[0;31mNameError\u001b[0m                                 Traceback (most recent call last)\n",
      "Cell \u001b[0;32mIn[14], line 3\u001b[0m\n",
      "\u001b[1;32m      1\u001b[0m t2 \u001b[38;5;241m=\u001b[39m dw\u001b[38;5;241m.\u001b[39mTable(\u001b[38;5;124m'\u001b[39m\u001b[38;5;124mdata/yellow_tripdata_2010-02.parquet\u001b[39m\u001b[38;5;124m'\u001b[39m)\n",
      "\u001b[1;32m      2\u001b[0m t1\u001b[38;5;241m.\u001b[39mdo(\n",
      "\u001b[0;32m----> 3\u001b[0m     \u001b[43mavg_func\u001b[49m,\n",
      "\u001b[1;32m      4\u001b[0m     \u001b[38;5;124m'\u001b[39m\u001b[38;5;124mselect int(log10(num))\u001b[39m\u001b[38;5;124m'\u001b[39m\n",
      "\u001b[1;32m      5\u001b[0m )\n",
      "\n",
      "\u001b[0;31mNameError\u001b[0m: name 'avg_func' is not defined"
     ]
    }
   ],
   "source": [
    "t2 = uck.Table('data/yellow_tripdata_2010-02.parquet')\n",
    "t1.do(\n",
    "    avg_func,\n",
    "    'select int(log10(num))'\n",
    ")"
   ]
  },
  {
   "cell_type": "code",
   "execution_count": null,
   "metadata": {},
   "outputs": [],
   "source": []
  },
  {
   "cell_type": "code",
   "execution_count": 4,
   "metadata": {},
   "outputs": [
    {
     "data": {
      "text/plain": [
       "['vendor_id',\n",
       " 'pickup_datetime',\n",
       " 'dropoff_datetime',\n",
       " 'passenger_count',\n",
       " 'trip_distance',\n",
       " 'pickup_longitude',\n",
       " 'pickup_latitude',\n",
       " 'rate_code',\n",
       " 'store_and_fwd_flag',\n",
       " 'dropoff_longitude',\n",
       " 'dropoff_latitude',\n",
       " 'payment_type',\n",
       " 'fare_amount',\n",
       " 'surcharge',\n",
       " 'mta_tax',\n",
       " 'tip_amount',\n",
       " 'tolls_amount',\n",
       " 'total_amount']"
      ]
     },
     "execution_count": null,
     "metadata": {},
     "output_type": "execute_result"
    }
   ],
   "source": [
    "t1.columns"
   ]
  },
  {
   "cell_type": "markdown",
   "metadata": {},
   "source": [
    "# Transforming data interactively"
   ]
  },
  {
   "cell_type": "code",
   "execution_count": 5,
   "metadata": {},
   "outputs": [
    {
     "data": {
      "text/plain": [
       "┌───────────┬─────────────────────┬─────────────────────┬───┬──────────────┬──────────────┬────────────────────┐\n",
       "│ vendor_id │   pickup_datetime   │  dropoff_datetime   │ … │ tolls_amount │ total_amount │       hexid        │\n",
       "│  varchar  │       varchar       │       varchar       │   │    double    │    double    │       uint64       │\n",
       "├───────────┼─────────────────────┼─────────────────────┼───┼──────────────┼──────────────┼────────────────────┤\n",
       "│ VTS       │ 2010-01-26 07:41:00 │ 2010-01-26 07:45:00 │ … │          0.0 │          5.0 │ 613229522950553599 │\n",
       "│ DDS       │ 2010-01-30 23:31:00 │ 2010-01-30 23:46:12 │ … │          0.0 │         16.3 │ 613229551343894527 │\n",
       "│ DDS       │ 2010-01-18 20:22:20 │ 2010-01-18 20:38:12 │ … │          0.0 │         12.7 │ 613229522990399487 │\n",
       "│ VTS       │ 2010-01-09 01:18:00 │ 2010-01-09 01:35:00 │ … │          0.0 │         14.3 │ 613229524244496383 │\n",
       "│ CMT       │ 2010-01-18 19:10:14 │ 2010-01-18 19:17:07 │ … │          0.0 │         6.67 │ 613229524179484671 │\n",
       "│ DDS       │ 2010-01-23 18:40:25 │ 2010-01-23 18:54:51 │ … │          0.0 │         12.0 │ 614553222213795839 │\n",
       "│ VTS       │ 2010-01-17 09:18:00 │ 2010-01-17 09:25:00 │ … │          0.0 │          6.6 │ 613229551345991679 │\n",
       "│ VTS       │ 2010-01-09 13:49:00 │ 2010-01-09 13:56:00 │ … │          0.0 │          7.4 │ 613229524242399231 │\n",
       "│ VTS       │ 2010-01-09 00:25:00 │ 2010-01-09 00:39:00 │ … │          0.0 │         12.3 │ 613229551461335039 │\n",
       "│ VTS       │ 2010-01-27 18:15:00 │ 2010-01-27 18:29:00 │ … │          0.0 │         12.0 │ 613229524181581823 │\n",
       "│  ·        │          ·          │          ·          │ · │           ·  │           ·  │          ·         │\n",
       "│  ·        │          ·          │          ·          │ · │           ·  │           ·  │          ·         │\n",
       "│  ·        │          ·          │          ·          │ · │           ·  │           ·  │          ·         │\n",
       "│ CMT       │ 2010-01-29 10:10:30 │ 2010-01-29 10:16:54 │ … │          0.0 │         7.92 │ 613229522956845055 │\n",
       "│ CMT       │ 2010-01-04 20:25:15 │ 2010-01-04 20:46:17 │ … │          0.0 │        24.36 │ 613229524244496383 │\n",
       "│ VTS       │ 2010-01-07 17:57:00 │ 2010-01-07 18:07:00 │ … │          0.0 │          9.6 │ 613229524177387519 │\n",
       "│ VTS       │ 2010-01-08 00:08:00 │ 2010-01-08 00:22:00 │ … │          0.0 │         12.6 │ 613229551278882815 │\n",
       "│ CMT       │ 2010-01-31 20:36:38 │ 2010-01-31 20:58:12 │ … │          0.0 │         21.7 │ 613229524179484671 │\n",
       "│ CMT       │ 2010-01-16 11:03:42 │ 2010-01-16 11:14:46 │ … │          0.0 │          9.0 │ 613229522948456447 │\n",
       "│ CMT       │ 2010-01-05 08:56:30 │ 2010-01-05 09:04:29 │ … │          0.0 │          6.6 │ 613229524175290367 │\n",
       "│ CMT       │ 2010-01-08 08:40:48 │ 2010-01-08 09:04:44 │ … │          0.0 │         21.8 │ 613229551385837567 │\n",
       "│ CMT       │ 2010-01-08 07:06:21 │ 2010-01-08 07:13:34 │ … │          0.0 │          7.0 │ 613229524185776127 │\n",
       "│ VTS       │ 2010-01-09 03:09:00 │ 2010-01-09 03:18:00 │ … │          0.0 │         10.7 │ 613229551276785663 │\n",
       "├───────────┴─────────────────────┴─────────────────────┴───┴──────────────┴──────────────┴────────────────────┤\n",
       "│ ? rows (>9999 rows, 20 shown)                                                           19 columns (6 shown) │\n",
       "└──────────────────────────────────────────────────────────────────────────────────────────────────────────────┘"
      ]
     },
     "execution_count": null,
     "metadata": {},
     "output_type": "execute_result"
    }
   ],
   "source": [
    "# You can use standard duckdb SQL expressions. The `from <table_name>` is automatically inserted for you, so it should be omitted.\n",
    "# `select ...` is optional. If omitted, `select *` will be inserted.\n",
    "\n",
    "# convert pickup lat/lngs to H3 cells (at resolution 8)\n",
    "# resolution 8 cells are about 0.7 km^2 in size\n",
    "x = t1.do('select *, h3_latlng_to_cell(pickup_latitude, pickup_longitude, 8) as hexid')\n",
    "x"
   ]
  },
  {
   "cell_type": "code",
   "execution_count": 6,
   "metadata": {},
   "outputs": [
    {
     "data": {
      "text/plain": [
       "┌────────────────────┬────────────────────┬────────┐\n",
       "│       hexid        │       amount       │  num   │\n",
       "│       uint64       │       double       │ int64  │\n",
       "├────────────────────┼────────────────────┼────────┤\n",
       "│ 613229524246593535 │ 10.106109311563587 │ 594594 │\n",
       "│ 613229524181581823 │  9.829211589147905 │ 504610 │\n",
       "│ 613229524194164735 │ 10.773760522602283 │ 246612 │\n",
       "│ 613229536508641279 │ 40.142359940847626 │  29077 │\n",
       "│ 613229523575504895 │ 17.057128245476008 │   2542 │\n",
       "│ 613229522990399487 │  9.775451726322807 │ 224118 │\n",
       "│ 613229524309508095 │ 13.476266866566714 │   5336 │\n",
       "│ 613229551473917951 │ 13.100060658578863 │   6924 │\n",
       "│ 613229552665100287 │ 13.864570184983679 │    919 │\n",
       "│ 613229524196261887 │ 11.116031611444457 │  45996 │\n",
       "│          ·         │                 ·  │      · │\n",
       "│          ·         │                 ·  │      · │\n",
       "│          ·         │                 ·  │      · │\n",
       "│ 613229533373399039 │                8.4 │      1 │\n",
       "│ 613229525284683775 │               90.0 │      1 │\n",
       "│ 613257077300658175 │               10.0 │      1 │\n",
       "│ 613229977631981567 │               13.0 │      1 │\n",
       "│ 613229983197822975 │                5.2 │      1 │\n",
       "│ 613229553355063295 │                8.0 │      1 │\n",
       "│ 613229532926705663 │                4.7 │      1 │\n",
       "│ 613229556848918527 │                5.5 │      1 │\n",
       "│ 613853542242844671 │               19.4 │      1 │\n",
       "│ 613229704568111103 │                8.8 │      1 │\n",
       "├────────────────────┴────────────────────┴────────┤\n",
       "│ 8594 rows (20 shown)                   3 columns │\n",
       "└──────────────────────────────────────────────────┘"
      ]
     },
     "execution_count": null,
     "metadata": {},
     "output_type": "execute_result"
    }
   ],
   "source": [
    "# compute the average of `total_amount` for each H3 cell, along with the number of trips\n",
    "x = x.do('select hexid, avg(total_amount) as amount, count(*) as num group by 1')\n",
    "x"
   ]
  },
  {
   "cell_type": "code",
   "execution_count": 7,
   "metadata": {},
   "outputs": [
    {
     "data": {
      "text/plain": [
       "┌─────────────────┬────────────────────┬────────┐\n",
       "│      hexid      │       amount       │  num   │\n",
       "│     varchar     │       double       │ int64  │\n",
       "├─────────────────┼────────────────────┼────────┤\n",
       "│ 882a100893fffff │  9.661533032430288 │ 426051 │\n",
       "│ 882a10725bfffff │ 10.288604039526431 │ 421287 │\n",
       "│ 882a1072c9fffff │ 10.324864870461475 │ 386333 │\n",
       "│ 882a1072c7fffff │ 11.649603050363378 │ 203779 │\n",
       "│ 882a1072c3fffff │  11.38762527914247 │  89560 │\n",
       "│ 882a100899fffff │ 10.312122802937253 │ 210679 │\n",
       "│ 882a10728bfffff │  15.06309367831045 │  42283 │\n",
       "│ 882a107281fffff │ 14.549411366436932 │  73849 │\n",
       "│ 882a10089bfffff │ 10.686034118679824 │ 252882 │\n",
       "│ 882a100883fffff │  9.985855459480877 │ 222512 │\n",
       "│        ·        │                 ·  │      · │\n",
       "│        ·        │                 ·  │      · │\n",
       "│        ·        │                 ·  │      · │\n",
       "│ 882a162447fffff │               10.8 │      1 │\n",
       "│ 882a108cd1fffff │               28.7 │      1 │\n",
       "│ 882a114c59fffff │                9.1 │      1 │\n",
       "│ 882a10d0b3fffff │                8.5 │      1 │\n",
       "│ 882a1029bdfffff │                9.8 │      1 │\n",
       "│ 882a12b755fffff │               10.2 │      1 │\n",
       "│ 882b1475dbfffff │                5.4 │      1 │\n",
       "│ 882a1022e5fffff │               6.45 │      1 │\n",
       "│ 882a10c327fffff │               13.4 │      1 │\n",
       "│ 882a108517fffff │  8.199999999999998 │      1 │\n",
       "├─────────────────┴────────────────────┴────────┤\n",
       "│ 8594 rows (20 shown)                3 columns │\n",
       "└───────────────────────────────────────────────┘"
      ]
     },
     "execution_count": null,
     "metadata": {},
     "output_type": "execute_result"
    }
   ],
   "source": [
    "# Convert the H3 cell id to its hexadecimal representation\n",
    "x = x.do('select h3_h3_to_string(hexid) as hexid, amount, num')\n",
    "x"
   ]
  },
  {
   "cell_type": "code",
   "execution_count": 8,
   "metadata": {},
   "outputs": [
    {
     "data": {
      "text/plain": [
       "┌─────────────────┬────────────────────┬────────┐\n",
       "│      hexid      │       amount       │  num   │\n",
       "│     varchar     │       double       │ int64  │\n",
       "├─────────────────┼────────────────────┼────────┤\n",
       "│ 882a1072c9fffff │ 10.324864870461475 │ 386333 │\n",
       "│ 882a100883fffff │  9.985855459480879 │ 222512 │\n",
       "│ 882a10089bfffff │ 10.686034118679832 │ 252882 │\n",
       "│ 882a10725bfffff │ 10.288604039526437 │ 421287 │\n",
       "│ 882a107281fffff │ 14.549411366436932 │  73849 │\n",
       "│ 882a100893fffff │   9.66153303243029 │ 426051 │\n",
       "│ 882a1009e5fffff │ 16.226666666666667 │     15 │\n",
       "│ 882a1072c3fffff │ 11.387625279142469 │  89560 │\n",
       "│ 882a1008d9fffff │ 11.121867822826351 │  12801 │\n",
       "│ 882a100899fffff │ 10.312122802937255 │ 210679 │\n",
       "│        ·        │                 ·  │      · │\n",
       "│        ·        │                 ·  │      · │\n",
       "│        ·        │                 ·  │      · │\n",
       "│ 882a162447fffff │               10.8 │      1 │\n",
       "│ 882a108cd1fffff │               28.7 │      1 │\n",
       "│ 882a114c59fffff │                9.1 │      1 │\n",
       "│ 882a10d0b3fffff │                8.5 │      1 │\n",
       "│ 882a1029bdfffff │                9.8 │      1 │\n",
       "│ 882a12b755fffff │               10.2 │      1 │\n",
       "│ 882b1475dbfffff │                5.4 │      1 │\n",
       "│ 882a1022e5fffff │               6.45 │      1 │\n",
       "│ 882a10c327fffff │               13.4 │      1 │\n",
       "│ 882a108517fffff │  8.199999999999998 │      1 │\n",
       "├─────────────────┴────────────────────┴────────┤\n",
       "│ 8594 rows (20 shown)                3 columns │\n",
       "└───────────────────────────────────────────────┘"
      ]
     },
     "execution_count": null,
     "metadata": {},
     "output_type": "execute_result"
    }
   ],
   "source": [
    "# `Table.do()` also selects a sequence of strings, so you could write all of the previous steps like this\n",
    "\n",
    "t1.do(\n",
    "    'select *, h3_latlng_to_cell(pickup_latitude, pickup_longitude, 8) as hexid',\n",
    "    'select hexid, avg(total_amount) as amount, count(*) as num group by 1',\n",
    "    'select h3_h3_to_string(hexid) as hexid, amount, num',\n",
    ")\n"
   ]
  },
  {
   "cell_type": "markdown",
   "metadata": {},
   "source": [
    "# Grouping transforms in functions"
   ]
  },
  {
   "cell_type": "code",
   "execution_count": 16,
   "metadata": {},
   "outputs": [
    {
     "data": {
      "text/plain": [
       "┌─────────────────┬────────────────────┬────────┐\n",
       "│      hexid      │       amount       │  num   │\n",
       "│     varchar     │       double       │ int64  │\n",
       "├─────────────────┼────────────────────┼────────┤\n",
       "│ 882a100d65fffff │ 10.816309067189671 │ 666127 │\n",
       "│ 882a100d45fffff │ 10.594611812368374 │ 185619 │\n",
       "│ 882a1008bbfffff │   9.67052480701034 │ 288487 │\n",
       "│ 882a100889fffff │ 11.282130774389216 │ 105877 │\n",
       "│ 882a100f57fffff │ 28.707747238240927 │  71965 │\n",
       "│ 882a100897fffff │  8.755456601197546 │ 140626 │\n",
       "│ 882a100da5fffff │   12.8694763361526 │  11114 │\n",
       "│ 882a107299fffff │ 14.289010873562011 │  38074 │\n",
       "│ 882a100d01fffff │  17.76678872614291 │   4506 │\n",
       "│ 882a100da7fffff │ 12.546433862433865 │  15120 │\n",
       "│        ·        │                 ·  │      · │\n",
       "│        ·        │                 ·  │      · │\n",
       "│        ·        │                 ·  │      · │\n",
       "│ 882a105031fffff │                9.5 │      1 │\n",
       "│ 882ba010c5fffff │                6.4 │      1 │\n",
       "│ 882a10269bfffff │                4.7 │      1 │\n",
       "│ 882a10cd19fffff │               25.0 │      1 │\n",
       "│ 882a10aa87fffff │                6.3 │      1 │\n",
       "│ 882a139a17fffff │                6.2 │      1 │\n",
       "│ 8844d9db67fffff │               14.3 │      1 │\n",
       "│ 882a1020d3fffff │               10.1 │      1 │\n",
       "│ 88754a9007fffff │                6.3 │      1 │\n",
       "│ 880ecb2da9fffff │                6.6 │      1 │\n",
       "├─────────────────┴────────────────────┴────────┤\n",
       "│ 8594 rows (20 shown)                3 columns │\n",
       "└───────────────────────────────────────────────┘"
      ]
     },
     "execution_count": null,
     "metadata": {},
     "output_type": "execute_result"
    }
   ],
   "source": [
    "# This seems like a generally useful transformation, so let's store it as a list of strings\n",
    "avg_list = [\n",
    "    'select *, h3_latlng_to_cell(pickup_latitude, pickup_longitude, 8) as hexid',\n",
    "    'select hexid, avg(total_amount) as amount, count(*) as num group by 1',\n",
    "    'select h3_h3_to_string(hexid) as hexid, amount, num',\n",
    "]\n",
    "\n",
    "t1.do(*avg_list)\n",
    "t1.do(avg_list)"
   ]
  },
  {
   "cell_type": "code",
   "execution_count": 17,
   "metadata": {},
   "outputs": [],
   "source": [
    "# Making things a little more formal, we could also store the operation as a function\n",
    "\n",
    "def avg_func(tbl):\n",
    "    \"\"\"\n",
    "    tbl: should have columns ...\n",
    "    returns columns ...\n",
    "    \"\"\"\n",
    "    # TODO: can it also take in a df? prolly!\n",
    "    return tbl.do(avg_list)"
   ]
  },
  {
   "cell_type": "code",
   "execution_count": 18,
   "metadata": {},
   "outputs": [
    {
     "data": {
      "text/plain": [
       "┌─────────────────┬────────────────────┬────────┐\n",
       "│      hexid      │       amount       │  num   │\n",
       "│     varchar     │       double       │ int64  │\n",
       "├─────────────────┼────────────────────┼────────┤\n",
       "│ 882a100c5bfffff │ 11.838936484490405 │   8801 │\n",
       "│ 882a100d61fffff │  9.976872721919229 │ 733622 │\n",
       "│ 882a100891fffff │   9.18618488146143 │ 366927 │\n",
       "│ 882a100d6bfffff │  9.630784061738924 │ 304249 │\n",
       "│ 882a10089dfffff │  9.739667707746658 │  39062 │\n",
       "│ 882a10728dfffff │ 14.671127785208624 │  61306 │\n",
       "│ 882a100f31fffff │ 11.943408321238513 │   4134 │\n",
       "│ 882a100d3bfffff │ 12.113482432831416 │   6774 │\n",
       "│ 882a100dedfffff │ 11.801164322817701 │  31572 │\n",
       "│ 882a100e3bfffff │ 13.195209713024283 │    453 │\n",
       "│        ·        │                ·   │      · │\n",
       "│        ·        │                ·   │      · │\n",
       "│        ·        │                ·   │      · │\n",
       "│ 882a10d681fffff │              14.75 │      1 │\n",
       "│ 882a1015e1fffff │               85.0 │      1 │\n",
       "│ 882a101561fffff │                6.0 │      1 │\n",
       "│ 882aa8926dfffff │               11.9 │      1 │\n",
       "│ 882a1674d3fffff │                6.2 │      1 │\n",
       "│ 882a13d941fffff │                9.0 │      1 │\n",
       "│ 882aa30293fffff │               12.3 │      1 │\n",
       "│ 882a101597fffff │               15.8 │      1 │\n",
       "│ 882a104339fffff │                9.6 │      1 │\n",
       "│ 882a108995fffff │             138.25 │      1 │\n",
       "├─────────────────┴────────────────────┴────────┤\n",
       "│ 8594 rows (20 shown)                3 columns │\n",
       "└───────────────────────────────────────────────┘"
      ]
     },
     "execution_count": null,
     "metadata": {},
     "output_type": "execute_result"
    }
   ],
   "source": [
    "# the following are equivalent\n",
    "avg_func(t1)\n",
    "t1.do(avg_func)\n",
    "t1.do([avg_func])"
   ]
  },
  {
   "cell_type": "code",
   "execution_count": 27,
   "metadata": {},
   "outputs": [
    {
     "data": {
      "text/plain": [
       "┌────────────┬──────────────┐\n",
       "│ num_digits │ count_star() │\n",
       "│   int32    │    int64     │\n",
       "├────────────┼──────────────┤\n",
       "│          1 │         5907 │\n",
       "│          2 │         1784 │\n",
       "│          3 │          619 │\n",
       "│          4 │          165 │\n",
       "│          5 │           58 │\n",
       "│          6 │           43 │\n",
       "│          7 │           18 │\n",
       "└────────────┴──────────────┘"
      ]
     },
     "execution_count": null,
     "metadata": {},
     "output_type": "execute_result"
    }
   ],
   "source": [
    "t1.do(\n",
    "    avg_func,\n",
    "    'select cast(log10(num)+1 as int) as num_digits, count(*) group by 1 order by 1'\n",
    ")"
   ]
  },
  {
   "cell_type": "code",
   "execution_count": 12,
   "metadata": {},
   "outputs": [
    {
     "data": {
      "text/plain": [
       "┌─────────────────┬────────────────────┬────────┐\n",
       "│      hexid      │       amount       │  num   │\n",
       "│     varchar     │       double       │ int64  │\n",
       "├─────────────────┼────────────────────┼────────┤\n",
       "│ 882a107219fffff │ 10.439549116797137 │ 104506 │\n",
       "│ 882a103b1dfffff │   39.6633087644075 │  59696 │\n",
       "│ 882a100895fffff │  9.838548160365876 │ 106706 │\n",
       "│ 882a10721bfffff │ 10.650209316209915 │ 308194 │\n",
       "│ 882a1008d3fffff │ 10.761599008147352 │  28230 │\n",
       "│ 882a100d4dfffff │ 10.477939382011419 │  71134 │\n",
       "│ 882a1008b3fffff │  9.949875167611042 │ 346785 │\n",
       "│ 882a100d6dfffff │   9.79461901059728 │ 142773 │\n",
       "│ 882a1072ddfffff │ 11.091350516373893 │  22658 │\n",
       "│ 882a107203fffff │  36.15539149888143 │    894 │\n",
       "│        ·        │          ·         │     ·  │\n",
       "│        ·        │          ·         │     ·  │\n",
       "│        ·        │          ·         │     ·  │\n",
       "│ 882a107249fffff │ 19.570681198910084 │    367 │\n",
       "│ 882a100a93fffff │  10.86072727272727 │    110 │\n",
       "│ 882a100e2bfffff │  15.10867924528302 │    106 │\n",
       "│ 882a100f51fffff │ 11.739299363057325 │    157 │\n",
       "│ 882a100f43fffff │ 12.230442477876107 │    113 │\n",
       "│ 882a100a8bfffff │ 10.502018348623853 │    109 │\n",
       "│ 882a103b11fffff │ 30.667809523809524 │    105 │\n",
       "│ 882a100adbfffff │ 12.310097087378642 │    103 │\n",
       "│ 882a1008a5fffff │ 11.873389830508474 │    118 │\n",
       "│ 882a100c8dfffff │  13.72920634920635 │    126 │\n",
       "├─────────────────┴────────────────────┴────────┤\n",
       "│ 504 rows (20 shown)                 3 columns │\n",
       "└───────────────────────────────────────────────┘"
      ]
     },
     "execution_count": null,
     "metadata": {},
     "output_type": "execute_result"
    }
   ],
   "source": [
    "# We can build up complex nested expressions by combining functions, strings, and lists.\n",
    "\n",
    "# The following are equivalent:\n",
    "\n",
    "t1.do(avg_func, 'where num > 100')\n",
    "t1.do(avg_list, 'where num > 100')\n",
    "t1.do([avg_func, 'where num > 100'])"
   ]
  },
  {
   "cell_type": "markdown",
   "metadata": {},
   "source": [
    "# Joins\n",
    "\n",
    "We want to compute average fares for hexes and compare them across January and February. We compute the averages like above, but also want to exlude hexes with only a few trips. So we extend the data pipeline to filter out such hexes, and apply the same operation to the datasets for each month."
   ]
  },
  {
   "cell_type": "code",
   "execution_count": 13,
   "metadata": {},
   "outputs": [
    {
     "data": {
      "text/plain": [
       "┌─────────────────┬────────────────────┬────────┐\n",
       "│      hexid      │       amount       │  num   │\n",
       "│     varchar     │       double       │ int64  │\n",
       "├─────────────────┼────────────────────┼────────┤\n",
       "│ 882a107219fffff │ 10.513909327172971 │  86575 │\n",
       "│ 882a103b1dfffff │  41.60843857906559 │  42282 │\n",
       "│ 882a100d6dfffff │   9.90945034330094 │ 106612 │\n",
       "│ 882a1008d3fffff │  10.79065330557002 │  23052 │\n",
       "│ 882a10721bfffff │ 10.803940138613443 │ 244565 │\n",
       "│ 882a100895fffff │ 10.017064441077807 │  73928 │\n",
       "│ 882a1008b3fffff │ 10.126875919361236 │ 260371 │\n",
       "│ 882a1072ddfffff │ 11.150639065452673 │  17463 │\n",
       "│ 882a100d4dfffff │   10.6001635963156 │  49940 │\n",
       "│ 882a100c2bfffff │ 24.653809523809525 │    252 │\n",
       "│        ·        │          ·         │     ·  │\n",
       "│        ·        │          ·         │     ·  │\n",
       "│        ·        │          ·         │     ·  │\n",
       "│ 882a100abdfffff │  11.92628252788104 │    269 │\n",
       "│ 882a1008ebfffff │ 12.131242236024846 │    161 │\n",
       "│ 882a1001e3fffff │ 12.983247863247863 │    117 │\n",
       "│ 882a100abbfffff │ 13.355950920245402 │    326 │\n",
       "│ 882a1008bdfffff │          10.749575 │    400 │\n",
       "│ 882a100c29fffff │ 15.441469194312795 │    211 │\n",
       "│ 882a100f55fffff │ 11.017017543859648 │    114 │\n",
       "│ 882a10762dfffff │ 12.071974522292994 │    157 │\n",
       "│ 882a107207fffff │ 13.165116279069768 │    172 │\n",
       "│ 882a107247fffff │ 19.585584415584414 │    154 │\n",
       "├─────────────────┴────────────────────┴────────┤\n",
       "│ 444 rows (20 shown)                 3 columns │\n",
       "└───────────────────────────────────────────────┘"
      ]
     },
     "execution_count": null,
     "metadata": {},
     "output_type": "execute_result"
    }
   ],
   "source": [
    "t1 = uck.Table('data/yellow_tripdata_2010-01.parquet')\n",
    "t2 = uck.Table('data/yellow_tripdata_2010-02.parquet')\n",
    "\n",
    "f = [\n",
    "    'where total_amount > 0',\n",
    "    avg_list,\n",
    "    'where num > 100',\n",
    "]\n",
    "\n",
    "t1 = t1.do(f)\n",
    "t2 = t2.do(f)\n",
    "\n",
    "t2"
   ]
  },
  {
   "cell_type": "markdown",
   "metadata": {},
   "source": [
    "To perform a join, you need two tables in on place. In Duckboat, such a place is a Database."
   ]
  },
  {
   "cell_type": "code",
   "execution_count": 14,
   "metadata": {},
   "outputs": [],
   "source": [
    "db = uck.Database(t1=t1, t2=t2)"
   ]
  },
  {
   "cell_type": "code",
   "execution_count": 15,
   "metadata": {},
   "outputs": [
    {
     "data": {
      "text/plain": [
       "┌─────────────────┬────────────────────┬────────┐\n",
       "│      hexid      │       amount       │  num   │\n",
       "│     varchar     │       double       │ int64  │\n",
       "├─────────────────┼────────────────────┼────────┤\n",
       "│ 882a100897fffff │  8.755456601197544 │ 140626 │\n",
       "│ 882a100d65fffff │ 10.816309067189671 │ 666127 │\n",
       "│ 882a1008bbfffff │  9.670524807010338 │ 288487 │\n",
       "│ 882a100da5fffff │   12.8694763361526 │  11114 │\n",
       "│ 882a100d45fffff │ 10.594611812368374 │ 185619 │\n",
       "│ 882a100889fffff │ 11.282130774389216 │ 105877 │\n",
       "│ 882a100f57fffff │  28.70774723824092 │  71965 │\n",
       "│ 882a1008c3fffff │ 12.251557967709573 │  43852 │\n",
       "│ 882a107299fffff │ 14.289010873562015 │  38074 │\n",
       "│ 882a100da7fffff │ 12.546433862433867 │  15120 │\n",
       "│        ·        │          ·         │     ·  │\n",
       "│        ·        │          ·         │     ·  │\n",
       "│        ·        │          ·         │     ·  │\n",
       "│ 882a100885fffff │  9.205805243445692 │    267 │\n",
       "│ 882a100ad9fffff │ 11.221346153846154 │    104 │\n",
       "│ 882a100d1dfffff │ 11.121498771498773 │    407 │\n",
       "│ 882a100f43fffff │ 12.230442477876107 │    113 │\n",
       "│ 882a107445fffff │ 7.4663068181818195 │    176 │\n",
       "│ 882a107409fffff │            11.2056 │    275 │\n",
       "│ 882a100c8dfffff │ 13.729206349206347 │    126 │\n",
       "│ 882a1008a5fffff │ 11.873389830508474 │    118 │\n",
       "│ 882a100a8bfffff │ 10.502018348623853 │    109 │\n",
       "│ 882a100a89fffff │ 12.939212598425197 │    127 │\n",
       "├─────────────────┴────────────────────┴────────┤\n",
       "│ 504 rows (20 shown)                 3 columns │\n",
       "└───────────────────────────────────────────────┘"
      ]
     },
     "execution_count": null,
     "metadata": {},
     "output_type": "execute_result"
    }
   ],
   "source": [
    "db['t1']"
   ]
  },
  {
   "cell_type": "code",
   "execution_count": 16,
   "metadata": {},
   "outputs": [],
   "source": [
    "# but note that because evaluation is lazy, it will recompute each time.\n",
    "# If you want to avoid that, you can materialize the computation and create a new database. Note there is no need to do this if you don't mind recomputing."
   ]
  },
  {
   "cell_type": "code",
   "execution_count": 17,
   "metadata": {},
   "outputs": [],
   "source": [
    "db = db.hold()"
   ]
  },
  {
   "cell_type": "code",
   "execution_count": 18,
   "metadata": {},
   "outputs": [
    {
     "data": {
      "text/plain": [
       "Database:\n",
       "    t1: 504 x ['hexid', 'amount', 'num']\n",
       "    t2: 444 x ['hexid', 'amount', 'num']"
      ]
     },
     "execution_count": null,
     "metadata": {},
     "output_type": "execute_result"
    }
   ],
   "source": [
    "db"
   ]
  },
  {
   "cell_type": "code",
   "execution_count": 19,
   "metadata": {},
   "outputs": [
    {
     "data": {
      "text/plain": [
       "┌─────────────────┬────────────────────┬────────┐\n",
       "│      hexid      │       amount       │  num   │\n",
       "│     varchar     │       double       │ int64  │\n",
       "├─────────────────┼────────────────────┼────────┤\n",
       "│ 882a10089bfffff │ 10.686034118679828 │ 252882 │\n",
       "│ 882a1072c7fffff │ 11.649603050363378 │ 203779 │\n",
       "│ 882a100893fffff │  9.661533032430288 │ 426051 │\n",
       "│ 882a100883fffff │  9.985855459480879 │ 222512 │\n",
       "│ 882a1072c3fffff │  11.38762527914247 │  89560 │\n",
       "│ 882a1072c9fffff │ 10.324864870461475 │ 386333 │\n",
       "│ 882a100899fffff │ 10.312122802937253 │ 210679 │\n",
       "│ 882a10725bfffff │ 10.288604039526438 │ 421287 │\n",
       "│ 882a100881fffff │ 10.705657822863861 │  76890 │\n",
       "│ 882a107281fffff │ 14.549411366436933 │  73849 │\n",
       "│        ·        │          ·         │     ·  │\n",
       "│        ·        │          ·         │     ·  │\n",
       "│        ·        │          ·         │     ·  │\n",
       "│ 882a100abbfffff │ 10.905583126550868 │    403 │\n",
       "│ 882a100acdfffff │ 11.756525423728814 │    118 │\n",
       "│ 882a107207fffff │ 16.860051282051284 │    195 │\n",
       "│ 882a100ed1fffff │ 11.580473933649289 │    211 │\n",
       "│ 882a103b47fffff │  26.62735294117647 │    204 │\n",
       "│ 882a10720bfffff │ 21.348173913043475 │    575 │\n",
       "│ 882a10775dfffff │ 11.509371727748691 │    191 │\n",
       "│ 882a100a99fffff │ 10.584477611940295 │    134 │\n",
       "│ 882a100f55fffff │  12.77540740740741 │    135 │\n",
       "│ 882a100de7fffff │ 12.739572368421053 │    304 │\n",
       "├─────────────────┴────────────────────┴────────┤\n",
       "│ 504 rows (20 shown)                 3 columns │\n",
       "└───────────────────────────────────────────────┘"
      ]
     },
     "execution_count": null,
     "metadata": {},
     "output_type": "execute_result"
    }
   ],
   "source": [
    "# NOTE: maybe confusing to users who now see a new view of their table...\n",
    "# I wonder if caching the relation, or making it a property is the way to go...\n",
    "# TODO: how to unify the representation between Table and a table in a Database? And reveal the underlying representation (string, df, arrow, etc.)\n",
    "db.do('from t1')"
   ]
  },
  {
   "cell_type": "code",
   "execution_count": 20,
   "metadata": {},
   "outputs": [],
   "source": [
    "# You can execute duckdb sql on a database, but now you should explicitly mention the table you want to work with (but that's usually what you want anyway, when doing a join.)"
   ]
  },
  {
   "cell_type": "code",
   "execution_count": 21,
   "metadata": {},
   "outputs": [
    {
     "data": {
      "text/plain": [
       "┌─────────────────┬────────────────────┬────────────────────┬─────────────────────┐\n",
       "│      hexid      │      fare_jan      │      fare_feb      │     fare_change     │\n",
       "│     varchar     │       double       │       double       │       double        │\n",
       "├─────────────────┼────────────────────┼────────────────────┼─────────────────────┤\n",
       "│ 882a1071adfffff │  69.73084615384614 │  58.73791479820627 │ -10.992931355639875 │\n",
       "│ 882a100c01fffff │ 27.110503597122303 │  20.74137254901961 │  -6.369131048102695 │\n",
       "│ 882a100e37fffff │  33.03063551401869 │  28.06555765595463 │   -4.96507785806406 │\n",
       "│ 882a1072e7fffff │ 42.255209580838326 │  38.42423076923076 │  -3.830978811607565 │\n",
       "│ 882a1008e9fffff │ 17.742466666666665 │        14.00984375 │ -3.7326229166666653 │\n",
       "│ 882a1008e7fffff │ 14.852932330827066 │ 11.121284403669724 │ -3.7316479271573417 │\n",
       "│ 882a107207fffff │ 16.860051282051284 │ 13.165116279069768 │ -3.6949350029815164 │\n",
       "│ 882a100e85fffff │           29.66585 │ 26.645454545454545 │ -3.0203954545454543 │\n",
       "│ 882a100cc1fffff │  18.81431818181818 │  15.84008695652174 │ -2.9742312252964407 │\n",
       "│ 882a10705bfffff │ 25.104952830188683 │ 22.228385650224215 │  -2.876567179964468 │\n",
       "│        ·        │          ·         │          ·         │            ·        │\n",
       "│        ·        │          ·         │          ·         │            ·        │\n",
       "│        ·        │          ·         │          ·         │            ·        │\n",
       "│ 882a10723bfffff │ 36.692529989094886 │ 42.577538896746816 │    5.88500890765193 │\n",
       "│ 882a1072e3fffff │ 22.588899676375405 │ 28.593956521739123 │   6.005056845363718 │\n",
       "│ 882a107239fffff │  30.49176237623762 │   36.8459880239521 │  6.3542256477144825 │\n",
       "│ 882a107231fffff │  25.71543147208122 │ 33.134042553191485 │   7.418611081110264 │\n",
       "│ 882a103b61fffff │ 38.679219251336896 │  46.58243243243243 │   7.903213181095531 │\n",
       "│ 882a100ee5fffff │ 13.650664869721474 │ 21.770178571428573 │   8.119513701707099 │\n",
       "│ 882a107209fffff │ 16.478663594470046 │ 24.767259036144576 │    8.28859544167453 │\n",
       "│ 882a100813fffff │ 16.437430167597768 │ 25.611982758620687 │    9.17455259102292 │\n",
       "│ 882a100d03fffff │ 12.004190371991244 │ 21.602025227750524 │    9.59783485575928 │\n",
       "│ 882a100ebbfffff │  39.36631964809384 │ 53.304730290456426 │  13.938410642362584 │\n",
       "├─────────────────┴────────────────────┴────────────────────┴─────────────────────┤\n",
       "│ 426 rows (20 shown)                                                   4 columns │\n",
       "└─────────────────────────────────────────────────────────────────────────────────┘"
      ]
     },
     "execution_count": null,
     "metadata": {},
     "output_type": "execute_result"
    }
   ],
   "source": [
    "out = db.do(\"\"\"\n",
    "select\n",
    "      hexid\n",
    "    , t1.amount\n",
    "        as fare_jan\n",
    "    , t2.amount\n",
    "        as fare_feb\n",
    "from\n",
    "    t1\n",
    "inner join\n",
    "    t2\n",
    "using\n",
    "    (hexid)\n",
    "\"\"\").do(\"\"\"\n",
    "select\n",
    "      *\n",
    "    , fare_feb - fare_jan\n",
    "        as fare_change\n",
    "order by\n",
    "    fare_change\n",
    "\"\"\")\n",
    "out"
   ]
  },
  {
   "cell_type": "code",
   "execution_count": 22,
   "metadata": {},
   "outputs": [
    {
     "data": {
      "image/png": "[encoded data removed]",
      "text/plain": [
       "<Figure size 640x480 with 1 Axes>"
      ]
     },
     "metadata": {},
     "output_type": "display_data"
    }
   ],
   "source": [
    "import matplotlib.pyplot as plt\n",
    "\n",
    "df = out.df()\n",
    "\n",
    "fig, ax = plt.subplots()\n",
    "ax.plot([0,70], [0,70], color='k', linestyle='--')\n",
    "df.plot.scatter(x='fare_jan', y='fare_feb', alpha=.6, ax=ax)\n",
    "plt.grid()"
   ]
  },
  {
   "cell_type": "markdown",
   "metadata": {},
   "source": [
    "# End-to-end example"
   ]
  },
  {
   "cell_type": "markdown",
   "metadata": {},
   "source": []
  },
  {
   "cell_type": "code",
   "execution_count": 3,
   "metadata": {},
   "outputs": [
    {
     "data": {
      "text/plain": [
       "┌─────────────────┬────────────────────┬────────────────────┬─────────────────────┐\n",
       "│      hexid      │      fare_jan      │      fare_feb      │     fare_change     │\n",
       "│     varchar     │       double       │       double       │       double        │\n",
       "├─────────────────┼────────────────────┼────────────────────┼─────────────────────┤\n",
       "│ 882a1071adfffff │  69.73084615384616 │ 58.737914798206276 │ -10.992931355639882 │\n",
       "│ 882a100c01fffff │ 27.110503597122307 │ 20.741372549019605 │  -6.369131048102702 │\n",
       "│ 882a100e37fffff │  33.03063551401869 │  28.06555765595463 │   -4.96507785806406 │\n",
       "│ 882a1072e7fffff │  42.25520958083832 │  38.42423076923077 │  -3.830978811607551 │\n",
       "│ 882a1008e9fffff │ 17.742466666666665 │ 14.009843750000002 │ -3.7326229166666636 │\n",
       "│ 882a1008e7fffff │ 14.852932330827068 │ 11.121284403669724 │ -3.7316479271573435 │\n",
       "│ 882a107207fffff │ 16.860051282051284 │ 13.165116279069766 │ -3.6949350029815182 │\n",
       "│ 882a100e85fffff │ 29.665849999999995 │ 26.645454545454545 │ -3.0203954545454508 │\n",
       "│ 882a100cc1fffff │ 18.814318181818184 │  15.84008695652174 │ -2.9742312252964442 │\n",
       "│ 882a10705bfffff │  25.10495283018868 │ 22.228385650224215 │ -2.8765671799644643 │\n",
       "│        ·        │          ·         │          ·         │           ·         │\n",
       "│        ·        │          ·         │          ·         │           ·         │\n",
       "│        ·        │          ·         │          ·         │           ·         │\n",
       "│ 882a10723bfffff │  36.69252998909488 │ 42.577538896746816 │   5.885008907651937 │\n",
       "│ 882a1072e3fffff │ 22.588899676375405 │ 28.593956521739123 │   6.005056845363718 │\n",
       "│ 882a107239fffff │ 30.491762376237617 │ 36.845988023952096 │   6.354225647714479 │\n",
       "│ 882a107231fffff │  25.71543147208122 │ 33.134042553191485 │   7.418611081110264 │\n",
       "│ 882a103b61fffff │  38.67921925133689 │  46.58243243243243 │   7.903213181095538 │\n",
       "│ 882a100ee5fffff │ 13.650664869721476 │ 21.770178571428573 │   8.119513701707097 │\n",
       "│ 882a107209fffff │ 16.478663594470046 │ 24.767259036144576 │    8.28859544167453 │\n",
       "│ 882a100813fffff │ 16.437430167597768 │ 25.611982758620687 │    9.17455259102292 │\n",
       "│ 882a100d03fffff │ 12.004190371991244 │ 21.602025227750524 │    9.59783485575928 │\n",
       "│ 882a100ebbfffff │  39.36631964809386 │  53.30473029045641 │  13.938410642362555 │\n",
       "├─────────────────┴────────────────────┴────────────────────┴─────────────────────┤\n",
       "│ 426 rows (20 shown)                                                   4 columns │\n",
       "└─────────────────────────────────────────────────────────────────────────────────┘"
      ]
     },
     "execution_count": null,
     "metadata": {},
     "output_type": "execute_result"
    }
   ],
   "source": [
    "import duckboat as uck\n",
    "\n",
    "core = [\n",
    "    'select *, h3_latlng_to_cell(pickup_latitude, pickup_longitude, 8) as hexid',\n",
    "    'select hexid, avg(total_amount) as amount, count(*) as num group by 1',\n",
    "    'select h3_h3_to_string(hexid) as hexid, amount, num',\n",
    "]\n",
    "\n",
    "core_with_filters = [\n",
    "    'where (pickup_longitude != 0) and (pickup_latitude != 0)',\n",
    "    'where total_amount > 0',\n",
    "    core,\n",
    "    'where num > 100',\n",
    "]\n",
    "\n",
    "db = uck.Database(\n",
    "    t1 = uck.Table('data/yellow_tripdata_2010-01.parquet').do(core_with_filters),\n",
    "    t2 = uck.Table('data/yellow_tripdata_2010-02.parquet').do(core_with_filters),\n",
    ")\n",
    "\n",
    "db.do(\"\"\"\n",
    "    select\n",
    "        hexid,\n",
    "        t1.amount  as  fare_jan,\n",
    "        t2.amount  as  fare_feb,\n",
    "    from        t1\n",
    "    inner join  t2\n",
    "    using       (hexid)\n",
    "\"\"\",\n",
    "    'select *, fare_feb - fare_jan as fare_change',\n",
    "    'order by fare_change',\n",
    ")"
   ]
  },
  {
   "cell_type": "code",
   "execution_count": 4,
   "metadata": {},
   "outputs": [],
   "source": [
    "t1 = uck.Table('data/yellow_tripdata_2010-01.parquet').do(core_with_filters)"
   ]
  },
  {
   "cell_type": "code",
   "execution_count": 6,
   "metadata": {},
   "outputs": [
    {
     "name": "stdout",
     "output_type": "stream",
     "text": [
      "┌───────────────────────────┐\n",
      "│         PROJECTION        │\n",
      "│    ────────────────────   │\n",
      "│           hexid           │\n",
      "│           amount          │\n",
      "│            num            │\n",
      "│                           │\n",
      "│          ~0 Rows          │\n",
      "└─────────────┬─────────────┘\n",
      "┌─────────────┴─────────────┐\n",
      "│           FILTER          │\n",
      "│    ────────────────────   │\n",
      "│        (num > 100)        │\n",
      "│                           │\n",
      "│          ~0 Rows          │\n",
      "└─────────────┬─────────────┘\n",
      "┌─────────────┴─────────────┐\n",
      "│       HASH_GROUP_BY       │\n",
      "│    ────────────────────   │\n",
      "│         Groups: #0        │\n",
      "│                           │\n",
      "│        Aggregates:        │\n",
      "│          avg(#1)          │\n",
      "│        count_star()       │\n",
      "│                           │\n",
      "│          ~1 Rows          │\n",
      "└─────────────┬─────────────┘\n",
      "┌─────────────┴─────────────┐\n",
      "│         PROJECTION        │\n",
      "│    ────────────────────   │\n",
      "│           hexid           │\n",
      "│        total_amount       │\n",
      "│                           │\n",
      "│        ~594551 Rows       │\n",
      "└─────────────┬─────────────┘\n",
      "┌─────────────┴─────────────┐\n",
      "│         PROJECTION        │\n",
      "│    ────────────────────   │\n",
      "│        total_amount       │\n",
      "│           hexid           │\n",
      "│                           │\n",
      "│        ~594551 Rows       │\n",
      "└─────────────┬─────────────┘\n",
      "┌─────────────┴─────────────┐\n",
      "│           FILTER          │\n",
      "│    ────────────────────   │\n",
      "│ ((pickup_longitude != 0.0)│\n",
      "│  AND (pickup_latitude != 0│\n",
      "│            .0))           │\n",
      "│                           │\n",
      "│        ~594551 Rows       │\n",
      "└─────────────┬─────────────┘\n",
      "┌─────────────┴─────────────┐\n",
      "│       PARQUET_SCAN        │\n",
      "│    ────────────────────   │\n",
      "│         Function:         │\n",
      "│        PARQUET_SCAN       │\n",
      "│                           │\n",
      "│        Projections:       │\n",
      "│      pickup_longitude     │\n",
      "│      pickup_latitude      │\n",
      "│        total_amount       │\n",
      "│                           │\n",
      "│       ~2972755 Rows       │\n",
      "└───────────────────────────┘\n",
      "\n",
      "\n"
     ]
    }
   ],
   "source": [
    "print(t1.rel.explain())"
   ]
  },
  {
   "cell_type": "code",
   "execution_count": null,
   "metadata": {},
   "outputs": [],
   "source": []
  }
 ],
 "metadata": {
  "kernelspec": {
   "display_name": "Python 3 (ipykernel)",
   "language": "python",
   "name": "python3"
  },
  "language_info": {
   "codemirror_mode": {
    "name": "ipython",
    "version": 3
   },
   "file_extension": ".py",
   "mimetype": "text/x-python",
   "name": "python",
   "nbconvert_exporter": "python",
   "pygments_lexer": "ipython3",
   "version": "3.12.2"
  }
 },
 "nbformat": 4,
 "nbformat_minor": 4
}
