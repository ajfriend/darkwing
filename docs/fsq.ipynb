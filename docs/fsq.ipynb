{
 "cells": [
  {
   "cell_type": "code",
   "execution_count": 1,
   "id": "ce206c85-6d07-4139-8d10-392fdf598002",
   "metadata": {
    "execution": {
     "iopub.execute_input": "2024-12-15T04:57:15.527521Z",
     "iopub.status.busy": "2024-12-15T04:57:15.527350Z",
     "iopub.status.idle": "2024-12-15T04:57:15.601179Z",
     "shell.execute_reply": "2024-12-15T04:57:15.600874Z",
     "shell.execute_reply.started": "2024-12-15T04:57:15.527502Z"
    }
   },
   "outputs": [],
   "source": [
    "import darkwing as dw"
   ]
  },
  {
   "cell_type": "code",
   "execution_count": 2,
   "id": "be52415e-dd87-4438-b969-f8c0245d8864",
   "metadata": {
    "execution": {
     "iopub.execute_input": "2024-12-15T04:57:15.601606Z",
     "iopub.status.busy": "2024-12-15T04:57:15.601531Z",
     "iopub.status.idle": "2024-12-15T04:57:31.784361Z",
     "shell.execute_reply": "2024-12-15T04:57:31.784059Z",
     "shell.execute_reply.started": "2024-12-15T04:57:15.601599Z"
    }
   },
   "outputs": [],
   "source": [
    "# NOTE: Comment out the first two lines once you have the data saved locally\n",
    "t = dw.Table('s3://us-west-2.opendata.source.coop/fused/fsq-os-places/2024-12-03/places/10.parquet')\n",
    "t.save('data/fsq_places_10.parquet')"
   ]
  },
  {
   "cell_type": "code",
   "execution_count": 3,
   "id": "e29711c7-de6f-4a3f-b9ac-9b41c3fb0a74",
   "metadata": {
    "execution": {
     "iopub.execute_input": "2024-12-15T04:57:31.785426Z",
     "iopub.status.busy": "2024-12-15T04:57:31.785352Z",
     "iopub.status.idle": "2024-12-15T04:57:31.787313Z",
     "shell.execute_reply": "2024-12-15T04:57:31.787035Z",
     "shell.execute_reply.started": "2024-12-15T04:57:31.785418Z"
    }
   },
   "outputs": [],
   "source": [
    "t = dw.Table('data/fsq_places_10.parquet')"
   ]
  },
  {
   "cell_type": "code",
   "execution_count": 4,
   "id": "2caf7d88-e55e-4b74-9f68-076c31bfd5c7",
   "metadata": {
    "execution": {
     "iopub.execute_input": "2024-12-15T04:57:31.787628Z",
     "iopub.status.busy": "2024-12-15T04:57:31.787559Z",
     "iopub.status.idle": "2024-12-15T04:57:31.789238Z",
     "shell.execute_reply": "2024-12-15T04:57:31.789072Z",
     "shell.execute_reply.started": "2024-12-15T04:57:31.787620Z"
    }
   },
   "outputs": [],
   "source": [
    "def latlng_h3(res):\n",
    "    \"\"\"\n",
    "    Essentially a higher order function, parameterized by resolution, given\n",
    "    by a list of SQL snippet strings.\n",
    "    \"\"\"\n",
    "    return [\n",
    "        f'select h3_latlng_to_cell(latitude, longitude, {res}) as hexid',\n",
    "        'select h3_h3_to_string(hexid) as hexid',\n",
    "    ]\n",
    "\n",
    "# A SQL procedure stored as a list of SQL snippet strings\n",
    "count_and_order = [\n",
    "    'select hexid, count(*) as num group by 1',\n",
    "    'order by num',\n",
    "]"
   ]
  },
  {
   "cell_type": "code",
   "execution_count": 5,
   "id": "4ef608db-485f-4f8b-9672-66fe44975df2",
   "metadata": {
    "execution": {
     "iopub.execute_input": "2024-12-15T04:57:31.789587Z",
     "iopub.status.busy": "2024-12-15T04:57:31.789518Z",
     "iopub.status.idle": "2024-12-15T04:57:31.855456Z",
     "shell.execute_reply": "2024-12-15T04:57:31.855243Z",
     "shell.execute_reply.started": "2024-12-15T04:57:31.789580Z"
    }
   },
   "outputs": [
    {
     "data": {
      "text/plain": [
       "┌─────────────────┬─────────┐\n",
       "│      hexid      │   num   │\n",
       "│     varchar     │  int64  │\n",
       "├─────────────────┼─────────┤\n",
       "│ 8027fffffffffff │ 1106440 │\n",
       "└─────────────────┴─────────┘"
      ]
     },
     "execution_count": 5,
     "metadata": {},
     "output_type": "execute_result"
    }
   ],
   "source": [
    "t.do(latlng_h3(0), count_and_order)"
   ]
  },
  {
   "cell_type": "code",
   "execution_count": 6,
   "id": "ab71ac22-9a78-4fad-8499-e3238aaa841a",
   "metadata": {
    "execution": {
     "iopub.execute_input": "2024-12-15T04:57:31.855814Z",
     "iopub.status.busy": "2024-12-15T04:57:31.855749Z",
     "iopub.status.idle": "2024-12-15T04:57:31.930390Z",
     "shell.execute_reply": "2024-12-15T04:57:31.930149Z",
     "shell.execute_reply.started": "2024-12-15T04:57:31.855806Z"
    }
   },
   "outputs": [
    {
     "data": {
      "text/plain": [
       "┌─────────────────┬────────┐\n",
       "│      hexid      │  num   │\n",
       "│     varchar     │ int64  │\n",
       "├─────────────────┼────────┤\n",
       "│ 8128bffffffffff │    410 │\n",
       "│ 8126fffffffffff │   2835 │\n",
       "│ 81277ffffffffff │  25008 │\n",
       "│ 81267ffffffffff │  30173 │\n",
       "│ 8127bffffffffff │  31192 │\n",
       "│ 8126bffffffffff │ 313007 │\n",
       "│ 81263ffffffffff │ 703815 │\n",
       "└─────────────────┴────────┘"
      ]
     },
     "execution_count": 6,
     "metadata": {},
     "output_type": "execute_result"
    }
   ],
   "source": [
    "t.do(latlng_h3(1), count_and_order)"
   ]
  },
  {
   "cell_type": "code",
   "execution_count": 7,
   "id": "524b6130-94e0-4c1a-b2c1-0ee079ff3ccd",
   "metadata": {
    "execution": {
     "iopub.execute_input": "2024-12-15T04:57:31.930709Z",
     "iopub.status.busy": "2024-12-15T04:57:31.930648Z",
     "iopub.status.idle": "2024-12-15T04:57:32.012248Z",
     "shell.execute_reply": "2024-12-15T04:57:32.012041Z",
     "shell.execute_reply.started": "2024-12-15T04:57:31.930702Z"
    }
   },
   "outputs": [
    {
     "data": {
      "text/plain": [
       "┌─────────────────┬────────┐\n",
       "│      hexid      │  num   │\n",
       "│     varchar     │ int64  │\n",
       "├─────────────────┼────────┤\n",
       "│ 8226f7fffffffff │   1051 │\n",
       "│ 822897fffffffff │   1574 │\n",
       "│ 8226e7fffffffff │   2092 │\n",
       "│ 822697fffffffff │   3206 │\n",
       "│ 822657fffffffff │   3656 │\n",
       "│ 82278ffffffffff │   5745 │\n",
       "│ 822637fffffffff │   6113 │\n",
       "│ 8226b7fffffffff │   8115 │\n",
       "│ 8226a7fffffffff │  14692 │\n",
       "│ 822617fffffffff │  15879 │\n",
       "│ 82279ffffffffff │  22247 │\n",
       "│ 82261ffffffffff │  26908 │\n",
       "│ 822677fffffffff │  32458 │\n",
       "│ 8226affffffffff │  48212 │\n",
       "│ 822607fffffffff │  63129 │\n",
       "│ 822627fffffffff │  79629 │\n",
       "│ 822687fffffffff │ 107644 │\n",
       "│ 82268ffffffffff │ 132766 │\n",
       "│ 82260ffffffffff │ 168373 │\n",
       "│ 822757fffffffff │ 174499 │\n",
       "│ 82262ffffffffff │ 188452 │\n",
       "├─────────────────┴────────┤\n",
       "│ 21 rows        2 columns │\n",
       "└──────────────────────────┘"
      ]
     },
     "execution_count": 7,
     "metadata": {},
     "output_type": "execute_result"
    }
   ],
   "source": [
    "t.do(latlng_h3(2), count_and_order)"
   ]
  },
  {
   "cell_type": "code",
   "execution_count": null,
   "id": "d9fa4766-b71d-4224-b0d9-80816090788a",
   "metadata": {},
   "outputs": [],
   "source": []
  }
 ],
 "metadata": {
  "kernelspec": {
   "display_name": "Python 3 (ipykernel)",
   "language": "python",
   "name": "python3"
  },
  "language_info": {
   "codemirror_mode": {
    "name": "ipython",
    "version": 3
   },
   "file_extension": ".py",
   "mimetype": "text/x-python",
   "name": "python",
   "nbconvert_exporter": "python",
   "pygments_lexer": "ipython3",
   "version": "3.12.2"
  }
 },
 "nbformat": 4,
 "nbformat_minor": 5
}
