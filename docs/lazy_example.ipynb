{
 "cells": [
  {
   "cell_type": "raw",
   "metadata": {},
   "source": [
    "---\n",
    "title: Lazy Expression Tutorial\n",
    "---"
   ]
  },
  {
   "cell_type": "markdown",
   "metadata": {},
   "source": [
    "Since `darkwing` is based on the DuckDB relational API, all expressions are \"lazy\" in that they defer evaluation until a result or a data preview is requested.\n",
    "This allows us to build up complex data processing pipelines iteratively, but without needing to compute extranous intermediate results. Instead, under the hood, DuckDB will gather the sequence of steps and pass it to a query optimizer, which will apply optimizations like predicate and projection pushdown. The full operation will be executed by DuckDB making full use of all the cores available on your machine, streaming the operations if possible, and even spilling to disk if the operation is too large to fit in memory."
   ]
  },
  {
   "cell_type": "code",
   "execution_count": 1,
   "metadata": {
    "execution": {
     "iopub.execute_input": "2024-12-09T05:28:58.020504Z",
     "iopub.status.busy": "2024-12-09T05:28:58.020273Z",
     "iopub.status.idle": "2024-12-09T05:28:58.094591Z",
     "shell.execute_reply": "2024-12-09T05:28:58.094379Z",
     "shell.execute_reply.started": "2024-12-09T05:28:58.020476Z"
    }
   },
   "outputs": [],
   "source": [
    "import darkwing as dw"
   ]
  },
  {
   "cell_type": "code",
   "execution_count": 2,
   "metadata": {
    "execution": {
     "iopub.execute_input": "2024-12-09T05:28:58.094996Z",
     "iopub.status.busy": "2024-12-09T05:28:58.094930Z",
     "iopub.status.idle": "2024-12-09T05:28:58.258168Z",
     "shell.execute_reply": "2024-12-09T05:28:58.257979Z",
     "shell.execute_reply.started": "2024-12-09T05:28:58.094988Z"
    }
   },
   "outputs": [
    {
     "data": {
      "text/plain": [
       "['vendor_id',\n",
       " 'pickup_datetime',\n",
       " 'dropoff_datetime',\n",
       " 'passenger_count',\n",
       " 'trip_distance',\n",
       " 'pickup_longitude',\n",
       " 'pickup_latitude',\n",
       " 'rate_code',\n",
       " 'store_and_fwd_flag',\n",
       " 'dropoff_longitude',\n",
       " 'dropoff_latitude',\n",
       " 'payment_type',\n",
       " 'fare_amount',\n",
       " 'surcharge',\n",
       " 'mta_tax',\n",
       " 'tip_amount',\n",
       " 'tolls_amount',\n",
       " 'total_amount']"
      ]
     },
     "execution_count": 2,
     "metadata": {},
     "output_type": "execute_result"
    }
   ],
   "source": [
    "t0 = dw.Table('data/yellow_tripdata_2010-01.parquet')\n",
    "t0.columns"
   ]
  },
  {
   "cell_type": "code",
   "execution_count": 3,
   "metadata": {
    "execution": {
     "iopub.execute_input": "2024-12-09T05:28:58.259142Z",
     "iopub.status.busy": "2024-12-09T05:28:58.259036Z",
     "iopub.status.idle": "2024-12-09T05:28:58.263526Z",
     "shell.execute_reply": "2024-12-09T05:28:58.263372Z",
     "shell.execute_reply.started": "2024-12-09T05:28:58.259134Z"
    }
   },
   "outputs": [
    {
     "data": {
      "text/plain": [
       "┌──────────┐\n",
       "│ num_rows │\n",
       "│ varchar  │\n",
       "├──────────┤\n",
       "│ 1.49e+07 │\n",
       "└──────────┘"
      ]
     },
     "execution_count": 3,
     "metadata": {},
     "output_type": "execute_result"
    }
   ],
   "source": [
    "count_rows = \"select format('{:.2e}', 1.0*count(*)) as num_rows\"\n",
    "t0.do(count_rows)"
   ]
  },
  {
   "cell_type": "markdown",
   "metadata": {},
   "source": [
    "The following code is executed instantaneously, since no query operations are performed."
   ]
  },
  {
   "cell_type": "code",
   "execution_count": 4,
   "metadata": {
    "execution": {
     "iopub.execute_input": "2024-12-09T05:28:58.263860Z",
     "iopub.status.busy": "2024-12-09T05:28:58.263796Z",
     "iopub.status.idle": "2024-12-09T05:28:58.273488Z",
     "shell.execute_reply": "2024-12-09T05:28:58.273304Z",
     "shell.execute_reply.started": "2024-12-09T05:28:58.263853Z"
    }
   },
   "outputs": [],
   "source": [
    "t1 = t0.do(\n",
    "    'where (pickup_longitude != 0) and (pickup_latitude != 0)',\n",
    "    'where total_amount > 0',\n",
    "    \n",
    "    'select *, h3_latlng_to_cell(pickup_latitude, pickup_longitude, 12) as hexid',\n",
    "    'select * replace ( h3_h3_to_string(hexid) as hexid )',\n",
    "    'select cast(pickup_datetime as timestamp) as ts, hexid, total_amount as amt',\n",
    ")"
   ]
  },
  {
   "cell_type": "markdown",
   "metadata": {},
   "source": [
    "Listing the table as the last expression in a Jupyter notebook makes Jupyter try to represent the table, which triggers DuckDB do either compute the full table, or, in the case that the table has many rows, compute just enough rows to show a preview. In many instances, the preview is faster to compute.\n",
    "\n",
    "The following is still fast, but just a bit slower than the previous cell, since this is where the query associated with the operations above is actually performed."
   ]
  },
  {
   "cell_type": "code",
   "execution_count": 5,
   "metadata": {
    "execution": {
     "iopub.execute_input": "2024-12-09T05:28:58.273819Z",
     "iopub.status.busy": "2024-12-09T05:28:58.273759Z",
     "iopub.status.idle": "2024-12-09T05:28:58.295513Z",
     "shell.execute_reply": "2024-12-09T05:28:58.295256Z",
     "shell.execute_reply.started": "2024-12-09T05:28:58.273812Z"
    }
   },
   "outputs": [
    {
     "data": {
      "text/plain": [
       "┌─────────────────────┬─────────────────┬───────────────────┐\n",
       "│         ts          │      hexid      │        amt        │\n",
       "│      timestamp      │     varchar     │      double       │\n",
       "├─────────────────────┼─────────────────┼───────────────────┤\n",
       "│ 2010-01-26 07:41:00 │ 8c2a100d45b01ff │               5.0 │\n",
       "│ 2010-01-30 23:31:00 │ 8c2a107258e61ff │              16.3 │\n",
       "│ 2010-01-18 20:22:20 │ 8c2a1008b82b5ff │              12.7 │\n",
       "│ 2010-01-09 01:18:00 │ 8c2a100d65653ff │              14.3 │\n",
       "│ 2010-01-18 19:10:14 │ 8c2a100d22945ff │              6.67 │\n",
       "│ 2010-01-17 09:18:00 │ 8c2a10725ac5bff │               6.6 │\n",
       "│ 2010-01-09 13:49:00 │ 8c2a100d620b7ff │               7.4 │\n",
       "│ 2010-01-09 00:25:00 │ 8c2a1072c86abff │              12.3 │\n",
       "│ 2010-01-27 18:15:00 │ 8c2a100d2bb69ff │              12.0 │\n",
       "│ 2010-01-08 16:05:00 │ 8c2a107250403ff │              10.2 │\n",
       "│          ·          │        ·        │                ·  │\n",
       "│          ·          │        ·        │                ·  │\n",
       "│          ·          │        ·        │                ·  │\n",
       "│ 2010-01-05 16:50:04 │ 8c2a100d2ac47ff │               6.0 │\n",
       "│ 2010-01-03 01:30:26 │ 8c2a100d63201ff │               8.3 │\n",
       "│ 2010-01-26 18:10:00 │ 8c2a100d60839ff │              13.8 │\n",
       "│ 2010-01-26 20:23:00 │ 8c2a1072c9533ff │              15.5 │\n",
       "│ 2010-01-07 19:25:00 │ 8c2a100d654c7ff │               6.8 │\n",
       "│ 2010-01-03 19:00:53 │ 8c2a1008b368dff │ 8.199999999999998 │\n",
       "│ 2010-01-28 14:10:00 │ 8c2a100d666e9ff │               6.4 │\n",
       "│ 2010-01-23 15:52:00 │ 8c2a1008bad2bff │             30.79 │\n",
       "│ 2010-01-27 15:32:00 │ 8c2a100d2280bff │             55.07 │\n",
       "│ 2010-01-01 02:58:00 │ 8c2a100d2aaa9ff │               7.9 │\n",
       "├─────────────────────┴─────────────────┴───────────────────┤\n",
       "│ ? rows (>9999 rows, 20 shown)                   3 columns │\n",
       "└───────────────────────────────────────────────────────────┘"
      ]
     },
     "execution_count": 5,
     "metadata": {},
     "output_type": "execute_result"
    }
   ],
   "source": [
    "t1"
   ]
  },
  {
   "cell_type": "code",
   "execution_count": 6,
   "metadata": {
    "execution": {
     "iopub.execute_input": "2024-12-09T05:28:58.295869Z",
     "iopub.status.busy": "2024-12-09T05:28:58.295801Z",
     "iopub.status.idle": "2024-12-09T05:28:58.299874Z",
     "shell.execute_reply": "2024-12-09T05:28:58.299660Z",
     "shell.execute_reply.started": "2024-12-09T05:28:58.295862Z"
    }
   },
   "outputs": [],
   "source": [
    "t2 = t1.alias('tbl1').do(\"\"\"\n",
    "select\n",
    "      a.hexid\n",
    "    , a.ts as ts1\n",
    "    , b.ts as ts2\n",
    "    , a.amt as amt1\n",
    "    , b.amt as amt2\n",
    "from\n",
    "    tbl1 as a\n",
    "inner join\n",
    "    tbl1 as b\n",
    "using\n",
    "    (hexid)\n",
    "\"\"\")"
   ]
  },
  {
   "cell_type": "markdown",
   "metadata": {},
   "source": [
    "Even though the computation for `t2` is complex, we can compute a preview fairly quickly. The following runs in about 2 seconds on my laptop."
   ]
  },
  {
   "cell_type": "code",
   "execution_count": 7,
   "metadata": {
    "execution": {
     "iopub.execute_input": "2024-12-09T05:28:58.300248Z",
     "iopub.status.busy": "2024-12-09T05:28:58.300171Z",
     "iopub.status.idle": "2024-12-09T05:28:59.907331Z",
     "shell.execute_reply": "2024-12-09T05:28:59.907025Z",
     "shell.execute_reply.started": "2024-12-09T05:28:58.300240Z"
    }
   },
   "outputs": [
    {
     "data": {
      "text/plain": [
       "┌─────────────────┬─────────────────────┬─────────────────────┬───────────────────┬───────────────────┐\n",
       "│      hexid      │         ts1         │         ts2         │       amt1        │       amt2        │\n",
       "│     varchar     │      timestamp      │      timestamp      │      double       │      double       │\n",
       "├─────────────────┼─────────────────────┼─────────────────────┼───────────────────┼───────────────────┤\n",
       "│ 8c2a1008b0231ff │ 2010-01-02 13:28:13 │ 2010-01-20 19:18:00 │               7.2 │               4.8 │\n",
       "│ 8c2a100d6c999ff │ 2010-01-02 11:48:34 │ 2010-01-20 23:45:41 │               5.4 │               7.5 │\n",
       "│ 8c2a100888e3dff │ 2010-01-10 14:49:00 │ 2010-01-21 20:44:00 │               5.4 │               5.9 │\n",
       "│ 8c2a1008bb9b1ff │ 2010-01-08 14:46:12 │ 2010-01-08 07:46:27 │              19.4 │               7.8 │\n",
       "│ 8c2a103b0374dff │ 2010-01-08 16:03:15 │ 2010-01-14 17:30:53 │              51.0 │              28.4 │\n",
       "│ 8c2a100892491ff │ 2010-01-06 18:56:38 │ 2010-01-26 12:15:00 │              13.2 │               7.0 │\n",
       "│ 8c2a107218303ff │ 2010-01-23 19:23:39 │ 2010-01-28 22:21:11 │              11.7 │               7.9 │\n",
       "│ 8c2a100d65449ff │ 2010-01-07 21:26:16 │ 2010-01-28 21:20:00 │ 8.099999999999998 │              33.5 │\n",
       "│ 8c2a100decaa1ff │ 2010-01-30 04:17:36 │ 2010-01-16 16:48:35 │               6.7 │              13.4 │\n",
       "│ 8c2a100d66d61ff │ 2010-01-26 17:58:09 │ 2010-01-19 19:33:00 │               6.0 │               7.4 │\n",
       "│        ·        │          ·          │          ·          │                ·  │                ·  │\n",
       "│        ·        │          ·          │          ·          │                ·  │                ·  │\n",
       "│        ·        │          ·          │          ·          │                ·  │                ·  │\n",
       "│ 8c2a100d61091ff │ 2010-01-16 11:24:48 │ 2010-01-06 16:23:00 │              16.6 │ 7.599999999999999 │\n",
       "│ 8c2a100e25111ff │ 2010-01-10 14:10:00 │ 2010-01-25 19:44:00 │              32.5 │             42.14 │\n",
       "│ 8c2a100d4c901ff │ 2010-01-16 11:13:00 │ 2010-01-13 10:50:00 │               7.2 │              11.4 │\n",
       "│ 8c2a100898cc3ff │ 2010-01-22 20:42:00 │ 2010-01-08 07:33:00 │              10.3 │               9.8 │\n",
       "│ 8c2a1008ba33dff │ 2010-01-11 23:40:32 │ 2010-01-30 16:44:00 │               5.9 │               5.8 │\n",
       "│ 8c2a100d20ed7ff │ 2010-01-06 19:25:00 │ 2010-01-28 23:07:00 │              10.8 │               9.9 │\n",
       "│ 8c2a100d216cbff │ 2010-01-31 01:11:00 │ 2010-01-29 23:08:55 │               4.3 │               5.9 │\n",
       "│ 8c2a107219747ff │ 2010-01-28 07:56:00 │ 2010-01-31 16:11:00 │              11.0 │ 8.199999999999998 │\n",
       "│ 8c2a100d6305bff │ 2010-01-30 15:38:00 │ 2010-01-24 15:50:00 │               9.4 │               5.4 │\n",
       "│ 8c2a100d29261ff │ 2010-01-18 13:12:00 │ 2010-01-04 16:38:00 │               4.2 │              10.4 │\n",
       "├─────────────────┴─────────────────────┴─────────────────────┴───────────────────┴───────────────────┤\n",
       "│ ? rows (>9999 rows, 20 shown)                                                             5 columns │\n",
       "└─────────────────────────────────────────────────────────────────────────────────────────────────────┘"
      ]
     },
     "execution_count": 7,
     "metadata": {},
     "output_type": "execute_result"
    }
   ],
   "source": [
    "t2"
   ]
  },
  {
   "cell_type": "markdown",
   "metadata": {},
   "source": [
    "However, running `count_rows` on `t2` forces the full join operation to be performed (previously, we only computed a *partial* join to dispaly the preview). The following takes about 50 seconds on my laptop.\n",
    "\n",
    "Note that the row count for this intermediate table is about **10 billion rows**. We deal with the table directly here for demonstration purposes, but we as we continue the pipeline below, we will avoid ever forming this intermediate table."
   ]
  },
  {
   "cell_type": "code",
   "execution_count": 8,
   "metadata": {
    "execution": {
     "iopub.execute_input": "2024-12-09T05:28:59.907713Z",
     "iopub.status.busy": "2024-12-09T05:28:59.907643Z",
     "iopub.status.idle": "2024-12-09T05:29:50.351301Z",
     "shell.execute_reply": "2024-12-09T05:29:50.350976Z",
     "shell.execute_reply.started": "2024-12-09T05:28:59.907705Z"
    }
   },
   "outputs": [
    {
     "data": {
      "text/plain": [
       "┌──────────┐\n",
       "│ num_rows │\n",
       "│ varchar  │\n",
       "├──────────┤\n",
       "│ 1.05e+10 │\n",
       "└──────────┘"
      ]
     },
     "execution_count": 8,
     "metadata": {},
     "output_type": "execute_result"
    }
   ],
   "source": [
    "# renders slowly because you have to do the full join\n",
    "t2.do(count_rows)"
   ]
  },
  {
   "cell_type": "markdown",
   "metadata": {},
   "source": [
    "Again, it is intantaneous to form the expression representing `t3`, as long as we don't need to compute the expression just yet.\n",
    "\n",
    "Note that the timestamp filtering below could have also been given above as part of the join. We're free to do it either way and the performance will be identical because DuckDB will push the filters down in its query planning/optimization step."
   ]
  },
  {
   "cell_type": "code",
   "execution_count": 9,
   "metadata": {
    "execution": {
     "iopub.execute_input": "2024-12-09T05:29:50.351711Z",
     "iopub.status.busy": "2024-12-09T05:29:50.351637Z",
     "iopub.status.idle": "2024-12-09T05:29:50.373966Z",
     "shell.execute_reply": "2024-12-09T05:29:50.373676Z",
     "shell.execute_reply.started": "2024-12-09T05:29:50.351703Z"
    }
   },
   "outputs": [],
   "source": [
    "t3 = t2.do(\n",
    "    'where ts1 < ts2',\n",
    "    'where ts2 < ts1 + interval 1 minute',\n",
    "    'select hexid, max(abs(amt1-amt2)) as diff group by 1',\n",
    "    'where diff > 0'\n",
    "    'order by diff',\n",
    ")"
   ]
  },
  {
   "cell_type": "markdown",
   "metadata": {},
   "source": [
    "Note that this is faster than the `t2.do(count_rows)`, even though it does more work! This cell runs in about 44 seconds on my laptop.\n",
    "\n",
    "This final result has about **29 thousand rows**, something much more reasonable to materialize directly as a Pandas dataframe, for instance."
   ]
  },
  {
   "cell_type": "code",
   "execution_count": 10,
   "metadata": {
    "execution": {
     "iopub.execute_input": "2024-12-09T05:29:50.374291Z",
     "iopub.status.busy": "2024-12-09T05:29:50.374229Z",
     "iopub.status.idle": "2024-12-09T05:30:34.558145Z",
     "shell.execute_reply": "2024-12-09T05:30:34.557929Z",
     "shell.execute_reply.started": "2024-12-09T05:29:50.374284Z"
    }
   },
   "outputs": [
    {
     "data": {
      "text/plain": [
       "┌──────────┐\n",
       "│ num_rows │\n",
       "│ varchar  │\n",
       "├──────────┤\n",
       "│ 2.86e+04 │\n",
       "└──────────┘"
      ]
     },
     "execution_count": 10,
     "metadata": {},
     "output_type": "execute_result"
    }
   ],
   "source": [
    "t3.do(count_rows)"
   ]
  },
  {
   "cell_type": "markdown",
   "metadata": {},
   "source": [
    "Get a Pandas dataframe in about 53 seconds."
   ]
  },
  {
   "cell_type": "code",
   "execution_count": 11,
   "metadata": {
    "execution": {
     "iopub.execute_input": "2024-12-09T05:30:34.558561Z",
     "iopub.status.busy": "2024-12-09T05:30:34.558487Z",
     "iopub.status.idle": "2024-12-09T05:31:27.099383Z",
     "shell.execute_reply": "2024-12-09T05:31:27.099109Z",
     "shell.execute_reply.started": "2024-12-09T05:30:34.558553Z"
    }
   },
   "outputs": [
    {
     "data": {
      "text/html": [
       "<div>\n",
       "<style scoped>\n",
       "    .dataframe tbody tr th:only-of-type {\n",
       "        vertical-align: middle;\n",
       "    }\n",
       "\n",
       "    .dataframe tbody tr th {\n",
       "        vertical-align: top;\n",
       "    }\n",
       "\n",
       "    .dataframe thead th {\n",
       "        text-align: right;\n",
       "    }\n",
       "</style>\n",
       "<table border=\"1\" class=\"dataframe\">\n",
       "  <thead>\n",
       "    <tr style=\"text-align: right;\">\n",
       "      <th></th>\n",
       "      <th>hexid</th>\n",
       "      <th>diff</th>\n",
       "    </tr>\n",
       "  </thead>\n",
       "  <tbody>\n",
       "    <tr>\n",
       "      <th>0</th>\n",
       "      <td>8c2a100d2d12bff</td>\n",
       "      <td>0.01</td>\n",
       "    </tr>\n",
       "    <tr>\n",
       "      <th>1</th>\n",
       "      <td>8c2a100d2a94dff</td>\n",
       "      <td>0.02</td>\n",
       "    </tr>\n",
       "    <tr>\n",
       "      <th>2</th>\n",
       "      <td>8c2a1072c846bff</td>\n",
       "      <td>0.02</td>\n",
       "    </tr>\n",
       "    <tr>\n",
       "      <th>3</th>\n",
       "      <td>8c2a107253359ff</td>\n",
       "      <td>0.02</td>\n",
       "    </tr>\n",
       "    <tr>\n",
       "      <th>4</th>\n",
       "      <td>8c2a100891611ff</td>\n",
       "      <td>0.02</td>\n",
       "    </tr>\n",
       "    <tr>\n",
       "      <th>...</th>\n",
       "      <td>...</td>\n",
       "      <td>...</td>\n",
       "    </tr>\n",
       "    <tr>\n",
       "      <th>28563</th>\n",
       "      <td>8c2a10aa2cb13ff</td>\n",
       "      <td>175.88</td>\n",
       "    </tr>\n",
       "    <tr>\n",
       "      <th>28564</th>\n",
       "      <td>8c2a100f52815ff</td>\n",
       "      <td>180.45</td>\n",
       "    </tr>\n",
       "    <tr>\n",
       "      <th>28565</th>\n",
       "      <td>8c2a108f664e7ff</td>\n",
       "      <td>203.00</td>\n",
       "    </tr>\n",
       "    <tr>\n",
       "      <th>28566</th>\n",
       "      <td>8c2a100d676d7ff</td>\n",
       "      <td>212.37</td>\n",
       "    </tr>\n",
       "    <tr>\n",
       "      <th>28567</th>\n",
       "      <td>8c2a10d76aa37ff</td>\n",
       "      <td>213.57</td>\n",
       "    </tr>\n",
       "  </tbody>\n",
       "</table>\n",
       "<p>28568 rows × 2 columns</p>\n",
       "</div>"
      ],
      "text/plain": [
       "                 hexid    diff\n",
       "0      8c2a100d2d12bff    0.01\n",
       "1      8c2a100d2a94dff    0.02\n",
       "2      8c2a1072c846bff    0.02\n",
       "3      8c2a107253359ff    0.02\n",
       "4      8c2a100891611ff    0.02\n",
       "...                ...     ...\n",
       "28563  8c2a10aa2cb13ff  175.88\n",
       "28564  8c2a100f52815ff  180.45\n",
       "28565  8c2a108f664e7ff  203.00\n",
       "28566  8c2a100d676d7ff  212.37\n",
       "28567  8c2a10d76aa37ff  213.57\n",
       "\n",
       "[28568 rows x 2 columns]"
      ]
     },
     "execution_count": 11,
     "metadata": {},
     "output_type": "execute_result"
    }
   ],
   "source": [
    "t3.df()"
   ]
  },
  {
   "cell_type": "code",
   "execution_count": null,
   "metadata": {},
   "outputs": [],
   "source": [
    "# TODO: get a polars dataframe"
   ]
  }
 ],
 "metadata": {
  "kernelspec": {
   "display_name": "Python 3 (ipykernel)",
   "language": "python",
   "name": "python3"
  },
  "language_info": {
   "codemirror_mode": {
    "name": "ipython",
    "version": 3
   },
   "file_extension": ".py",
   "mimetype": "text/x-python",
   "name": "python",
   "nbconvert_exporter": "python",
   "pygments_lexer": "ipython3",
   "version": "3.12.2"
  }
 },
 "nbformat": 4,
 "nbformat_minor": 4
}
