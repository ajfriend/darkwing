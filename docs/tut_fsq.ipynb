{
 "cells": [
  {
   "cell_type": "raw",
   "id": "8e320c03-523b-4796-8e0a-0815f615ca23",
   "metadata": {
    "vscode": {
     "languageId": "raw"
    }
   },
   "source": [
    "---\n",
    "title: Foursquare POI Data Example\n",
    "format:\n",
    "  html:\n",
    "    toc: true\n",
    "---"
   ]
  },
  {
   "cell_type": "markdown",
   "id": "8944d7df-5176-4925-b900-926b15130998",
   "metadata": {},
   "source": [
    "Foursquare has [recently released](https://opensource.foursquare.com/os-places/) an interesting Point of Interest (POI) Dataset, which is what we will play with in this example.\n",
    "\n",
    "Fused.io has made that data [readily available](https://docs.fused.io/blog/fused-public-udf-for-foursquare-pois/), through [Source Cooperative](https://source.coop/) which is how we will access it."
   ]
  },
  {
   "cell_type": "code",
   "execution_count": 1,
   "id": "ce206c85-6d07-4139-8d10-392fdf598002",
   "metadata": {
    "execution": {
     "iopub.execute_input": "2024-12-15T20:30:44.827383Z",
     "iopub.status.busy": "2024-12-15T20:30:44.827126Z",
     "iopub.status.idle": "2024-12-15T20:30:44.900631Z",
     "shell.execute_reply": "2024-12-15T20:30:44.900317Z",
     "shell.execute_reply.started": "2024-12-15T20:30:44.827355Z"
    }
   },
   "outputs": [],
   "source": [
    "import darkwing as dw"
   ]
  },
  {
   "cell_type": "markdown",
   "id": "e2b180fd-e144-45fb-94de-69aad8767fc2",
   "metadata": {},
   "source": [
    "## Load the data\n",
    "\n",
    "We can download the data with `darkwing` and save it to a file for quick iteration."
   ]
  },
  {
   "cell_type": "code",
   "execution_count": 2,
   "id": "be52415e-dd87-4438-b969-f8c0245d8864",
   "metadata": {
    "execution": {
     "iopub.execute_input": "2024-12-15T20:30:44.901000Z",
     "iopub.status.busy": "2024-12-15T20:30:44.900926Z",
     "iopub.status.idle": "2024-12-15T20:31:00.727284Z",
     "shell.execute_reply": "2024-12-15T20:31:00.727011Z",
     "shell.execute_reply.started": "2024-12-15T20:30:44.900992Z"
    }
   },
   "outputs": [],
   "source": [
    "# NOTE: You can comment out the following two lines once\n",
    "# you have the data saved locally to avoid downloading it again\n",
    "t = dw.Table('s3://us-west-2.opendata.source.coop/fused/fsq-os-places/2024-12-03/places/10.parquet')\n",
    "t.save('data/fsq_places_10.parquet')"
   ]
  },
  {
   "cell_type": "markdown",
   "id": "7445de57-9df3-411f-b611-2cde41297264",
   "metadata": {},
   "source": [
    "With the data saved to a file, we can create a `darkwing` table from a local Parquet file."
   ]
  },
  {
   "cell_type": "code",
   "execution_count": 3,
   "id": "e29711c7-de6f-4a3f-b9ac-9b41c3fb0a74",
   "metadata": {
    "execution": {
     "iopub.execute_input": "2024-12-15T20:31:00.728367Z",
     "iopub.status.busy": "2024-12-15T20:31:00.728281Z",
     "iopub.status.idle": "2024-12-15T20:31:00.730198Z",
     "shell.execute_reply": "2024-12-15T20:31:00.730000Z",
     "shell.execute_reply.started": "2024-12-15T20:31:00.728359Z"
    }
   },
   "outputs": [],
   "source": [
    "t = dw.Table('data/fsq_places_10.parquet')"
   ]
  },
  {
   "cell_type": "markdown",
   "id": "eb4534db-b71a-4559-8ff5-c6e1e9c25ec6",
   "metadata": {},
   "source": [
    "## Data processing\n",
    "\n",
    "As noted elsewhere in the docs, we can store data operations in multiple ways. For example, as Python functions or as a list of SQL snippet strings. Here are some examples."
   ]
  },
  {
   "cell_type": "code",
   "execution_count": 4,
   "id": "2caf7d88-e55e-4b74-9f68-076c31bfd5c7",
   "metadata": {
    "execution": {
     "iopub.execute_input": "2024-12-15T20:31:00.730539Z",
     "iopub.status.busy": "2024-12-15T20:31:00.730467Z",
     "iopub.status.idle": "2024-12-15T20:31:00.732160Z",
     "shell.execute_reply": "2024-12-15T20:31:00.731969Z",
     "shell.execute_reply.started": "2024-12-15T20:31:00.730532Z"
    }
   },
   "outputs": [],
   "source": [
    "# Collect an operation as a sequence of SQL snippets,\n",
    "# and parameterize the target H3 resolution.\n",
    "def latlng_h3(res):\n",
    "    return [\n",
    "        f'select h3_latlng_to_cell(latitude, longitude, {res}) as hexid',\n",
    "        'select h3_h3_to_string(hexid) as hexid',\n",
    "    ]\n",
    "\n",
    "# A data processing procedure stored as a list of SQL snippet strings\n",
    "count_and_order = [\n",
    "    'select hexid, count(*) as num group by 1',\n",
    "    'order by num',\n",
    "]"
   ]
  },
  {
   "cell_type": "markdown",
   "id": "2f91748a-8f54-45f5-9395-cad8ade83a1b",
   "metadata": {
    "execution": {
     "iopub.execute_input": "2024-12-15T05:17:49.743476Z",
     "iopub.status.busy": "2024-12-15T05:17:49.742797Z",
     "iopub.status.idle": "2024-12-15T05:17:49.748378Z",
     "shell.execute_reply": "2024-12-15T05:17:49.747452Z",
     "shell.execute_reply.started": "2024-12-15T05:17:49.743424Z"
    }
   },
   "source": [
    "## Parameterized evaluation\n",
    "\n",
    "With our core data transformation logic defined and parameterized, we can run the same transformation over the data at different H3 resolutions."
   ]
  },
  {
   "cell_type": "code",
   "execution_count": 5,
   "id": "4ef608db-485f-4f8b-9672-66fe44975df2",
   "metadata": {
    "execution": {
     "iopub.execute_input": "2024-12-15T20:31:00.732513Z",
     "iopub.status.busy": "2024-12-15T20:31:00.732431Z",
     "iopub.status.idle": "2024-12-15T20:31:00.802486Z",
     "shell.execute_reply": "2024-12-15T20:31:00.802212Z",
     "shell.execute_reply.started": "2024-12-15T20:31:00.732505Z"
    }
   },
   "outputs": [
    {
     "data": {
      "text/plain": [
       "┌─────────────────┬─────────┐\n",
       "│      hexid      │   num   │\n",
       "│     varchar     │  int64  │\n",
       "├─────────────────┼─────────┤\n",
       "│ 8027fffffffffff │ 1106440 │\n",
       "└─────────────────┴─────────┘"
      ]
     },
     "execution_count": 5,
     "metadata": {},
     "output_type": "execute_result"
    }
   ],
   "source": [
    "t.do(latlng_h3(0), count_and_order)"
   ]
  },
  {
   "cell_type": "code",
   "execution_count": 6,
   "id": "ab71ac22-9a78-4fad-8499-e3238aaa841a",
   "metadata": {
    "execution": {
     "iopub.execute_input": "2024-12-15T20:31:00.802832Z",
     "iopub.status.busy": "2024-12-15T20:31:00.802760Z",
     "iopub.status.idle": "2024-12-15T20:31:00.879874Z",
     "shell.execute_reply": "2024-12-15T20:31:00.879678Z",
     "shell.execute_reply.started": "2024-12-15T20:31:00.802823Z"
    }
   },
   "outputs": [
    {
     "data": {
      "text/plain": [
       "┌─────────────────┬────────┐\n",
       "│      hexid      │  num   │\n",
       "│     varchar     │ int64  │\n",
       "├─────────────────┼────────┤\n",
       "│ 8128bffffffffff │    410 │\n",
       "│ 8126fffffffffff │   2835 │\n",
       "│ 81277ffffffffff │  25008 │\n",
       "│ 81267ffffffffff │  30173 │\n",
       "│ 8127bffffffffff │  31192 │\n",
       "│ 8126bffffffffff │ 313007 │\n",
       "│ 81263ffffffffff │ 703815 │\n",
       "└─────────────────┴────────┘"
      ]
     },
     "execution_count": 6,
     "metadata": {},
     "output_type": "execute_result"
    }
   ],
   "source": [
    "t.do(latlng_h3(1), count_and_order)"
   ]
  },
  {
   "cell_type": "code",
   "execution_count": 7,
   "id": "524b6130-94e0-4c1a-b2c1-0ee079ff3ccd",
   "metadata": {
    "execution": {
     "iopub.execute_input": "2024-12-15T20:31:00.880187Z",
     "iopub.status.busy": "2024-12-15T20:31:00.880122Z",
     "iopub.status.idle": "2024-12-15T20:31:00.961910Z",
     "shell.execute_reply": "2024-12-15T20:31:00.961658Z",
     "shell.execute_reply.started": "2024-12-15T20:31:00.880179Z"
    }
   },
   "outputs": [
    {
     "data": {
      "text/plain": [
       "┌─────────────────┬────────┐\n",
       "│      hexid      │  num   │\n",
       "│     varchar     │ int64  │\n",
       "├─────────────────┼────────┤\n",
       "│ 8226f7fffffffff │   1051 │\n",
       "│ 822897fffffffff │   1574 │\n",
       "│ 8226e7fffffffff │   2092 │\n",
       "│ 822697fffffffff │   3206 │\n",
       "│ 822657fffffffff │   3656 │\n",
       "│ 82278ffffffffff │   5745 │\n",
       "│ 822637fffffffff │   6113 │\n",
       "│ 8226b7fffffffff │   8115 │\n",
       "│ 8226a7fffffffff │  14692 │\n",
       "│ 822617fffffffff │  15879 │\n",
       "│ 82279ffffffffff │  22247 │\n",
       "│ 82261ffffffffff │  26908 │\n",
       "│ 822677fffffffff │  32458 │\n",
       "│ 8226affffffffff │  48212 │\n",
       "│ 822607fffffffff │  63129 │\n",
       "│ 822627fffffffff │  79629 │\n",
       "│ 822687fffffffff │ 107644 │\n",
       "│ 82268ffffffffff │ 132766 │\n",
       "│ 82260ffffffffff │ 168373 │\n",
       "│ 822757fffffffff │ 174499 │\n",
       "│ 82262ffffffffff │ 188452 │\n",
       "├─────────────────┴────────┤\n",
       "│ 21 rows        2 columns │\n",
       "└──────────────────────────┘"
      ]
     },
     "execution_count": 7,
     "metadata": {},
     "output_type": "execute_result"
    }
   ],
   "source": [
    "t.do(latlng_h3(2), count_and_order)"
   ]
  },
  {
   "cell_type": "markdown",
   "id": "902ef593-0e62-46fa-93a9-28bdbfb718a0",
   "metadata": {},
   "source": [
    "# Loading full dataset\n",
    "\n",
    "It is also possible to load the full dataset with DuckDB glob pattern matching. Just be careful calling this multiple times, because you may get throttled."
   ]
  },
  {
   "cell_type": "code",
   "execution_count": 8,
   "id": "049a335a-bc1b-4a37-b7cc-9de9ebb9a4f3",
   "metadata": {
    "execution": {
     "iopub.execute_input": "2024-12-15T20:31:00.962276Z",
     "iopub.status.busy": "2024-12-15T20:31:00.962206Z",
     "iopub.status.idle": "2024-12-15T20:31:02.272572Z",
     "shell.execute_reply": "2024-12-15T20:31:02.271512Z",
     "shell.execute_reply.started": "2024-12-15T20:31:00.962268Z"
    }
   },
   "outputs": [],
   "source": [
    "t = dw.Table('s3://us-west-2.opendata.source.coop/fused/fsq-os-places/2024-12-03/places/*.parquet')"
   ]
  },
  {
   "cell_type": "markdown",
   "id": "653e09a8-8277-4034-9947-2e940b8e8e54",
   "metadata": {},
   "source": [
    "It also seems like DuckDB is able to pull only the data needed for the computation. The following row count query is executed much faster than it would be if we needed to download the full dataset."
   ]
  },
  {
   "cell_type": "code",
   "execution_count": 9,
   "id": "60afc138-dc68-4d9e-a6eb-e6a287b1e2de",
   "metadata": {
    "execution": {
     "iopub.execute_input": "2024-12-15T20:31:02.275694Z",
     "iopub.status.busy": "2024-12-15T20:31:02.274545Z",
     "iopub.status.idle": "2024-12-15T20:31:23.438395Z",
     "shell.execute_reply": "2024-12-15T20:31:23.437700Z",
     "shell.execute_reply.started": "2024-12-15T20:31:02.275645Z"
    }
   },
   "outputs": [
    {
     "data": {
      "text/plain": [
       "┌──────────────┐\n",
       "│ count_star() │\n",
       "│    int64     │\n",
       "├──────────────┤\n",
       "│    104199378 │\n",
       "└──────────────┘"
      ]
     },
     "execution_count": 9,
     "metadata": {},
     "output_type": "execute_result"
    }
   ],
   "source": [
    "t.do('select count(*)')"
   ]
  },
  {
   "cell_type": "code",
   "execution_count": null,
   "id": "0ebcd409-7d16-4282-ad91-d76051d1de59",
   "metadata": {},
   "outputs": [],
   "source": []
  }
 ],
 "metadata": {
  "kernelspec": {
   "display_name": "Python 3 (ipykernel)",
   "language": "python",
   "name": "python3"
  },
  "language_info": {
   "codemirror_mode": {
    "name": "ipython",
    "version": 3
   },
   "file_extension": ".py",
   "mimetype": "text/x-python",
   "name": "python",
   "nbconvert_exporter": "python",
   "pygments_lexer": "ipython3",
   "version": "3.12.2"
  }
 },
 "nbformat": 4,
 "nbformat_minor": 5
}
